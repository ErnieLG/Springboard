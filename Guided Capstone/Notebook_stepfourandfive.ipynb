{
 "cells": [
  {
   "cell_type": "markdown",
   "metadata": {
    "colab_type": "text",
    "id": "cf5CmXQCZyF1"
   },
   "source": [
    "# Guided Capstone Step 4. Pre-Processing and Training Data Development"
   ]
  },
  {
   "cell_type": "markdown",
   "metadata": {
    "colab_type": "text",
    "id": "b2jue2jPGJlt"
   },
   "source": [
    "**The Data Science Method**  \n",
    "\n",
    "\n",
    "1.   Problem Identification \n",
    "\n",
    "\n",
    "2.   Data Wrangling \n",
    "  \n",
    " \n",
    "3.   Exploratory Data Analysis   \n",
    "\n",
    "4.   **Pre-processing and Training Data Development**  \n",
    " * Create dummy or indicator features for categorical variables\n",
    "  * Standardize the magnitude of numeric features\n",
    "  * Split into testing and training datasets\n",
    "  * Apply scaler to the testing set\n",
    "5.   Modeling \n",
    "  * Fit Models with Training Data Set\n",
    "  * Review Model Outcomes — Iterate over additional models as needed.\n",
    "  * Identify the Final Model\n",
    "\n",
    "6.   Documentation\n",
    "  * Review the Results\n",
    "  * Present and share your findings - storytelling\n",
    "  * Finalize Code \n",
    "  * Finalize Documentation"
   ]
  },
  {
   "cell_type": "markdown",
   "metadata": {
    "colab_type": "text",
    "id": "K8xfkAqqZyF2"
   },
   "source": [
    "**<font color='teal'> Start by loading the necessary packages as we did in step 3 and printing out our current working directory just to confirm we are in the correct project directory. </font>**"
   ]
  },
  {
   "cell_type": "code",
   "execution_count": 1,
   "metadata": {
    "colab": {},
    "colab_type": "code",
    "id": "ry6WPL5eZyF3"
   },
   "outputs": [],
   "source": [
    "#load python packages\n",
    "import os\n",
    "import pandas as pd\n",
    "import datetime\n",
    "import seaborn as sns\n",
    "import matplotlib.pyplot as plt\n",
    "import numpy as np\n",
    "%matplotlib inline\n"
   ]
  },
  {
   "cell_type": "code",
   "execution_count": 2,
   "metadata": {},
   "outputs": [
    {
     "data": {
      "text/plain": [
       "'C:\\\\Users\\\\ffgfggg\\\\Downloads\\\\Boot Camps\\\\springboard\\\\1582673773_GuidedCapstone_Step2.ipynb'"
      ]
     },
     "execution_count": 2,
     "metadata": {},
     "output_type": "execute_result"
    }
   ],
   "source": [
    "pwd"
   ]
  },
  {
   "cell_type": "markdown",
   "metadata": {
    "colab_type": "text",
    "id": "630T-ogRZyF8"
   },
   "source": [
    "**<font color='teal'>  Load the csv file you created in step 3, remember it should be saved inside your data subfolder and print the first five rows.</font>**"
   ]
  },
  {
   "cell_type": "code",
   "execution_count": 3,
   "metadata": {
    "colab": {},
    "colab_type": "code",
    "id": "dMNbk0u3ZyF9"
   },
   "outputs": [],
   "source": [
    "df=pd.read_csv('step3_output.csv')"
   ]
  },
  {
   "cell_type": "markdown",
   "metadata": {
    "colab_type": "text",
    "id": "zkBHf9smZyGB"
   },
   "source": [
    "## Create dummy features for categorical variables"
   ]
  },
  {
   "cell_type": "markdown",
   "metadata": {
    "colab_type": "text",
    "id": "vWKHm0NhAnrJ"
   },
   "source": [
    "**<font color='teal'> Create dummy variables for `state`. Add the dummies back to the dataframe and remove the original column for `state`. </font>**\n",
    "\n",
    "Hint: you can see an example of how to execute this in Aiden's article on preprocessing [here](https://medium.com/@aiden.dataminer/the-data-science-method-dsm-pre-processing-and-training-data-development-fd2d75182967). "
   ]
  },
  {
   "cell_type": "code",
   "execution_count": 4,
   "metadata": {
    "colab": {},
    "colab_type": "code",
    "id": "lZqWk8ltZyGZ"
   },
   "outputs": [
    {
     "name": "stdout",
     "output_type": "stream",
     "text": [
      "Index(['Unnamed: 0', 'Name', 'state', 'summit_elev', 'vertical_drop', 'trams',\n",
      "       'fastEight', 'fastSixes', 'fastQuads', 'quad', 'triple', 'double',\n",
      "       'surface', 'total_chairs', 'Runs', 'TerrainParks', 'LongestRun_mi',\n",
      "       'SkiableTerrain_ac', 'Snow Making_ac', 'daysOpenLastYear', 'yearsOpen',\n",
      "       'averageSnowfall', 'AdultWeekday', 'AdultWeekend', 'projectedDaysOpen',\n",
      "       'NightSkiing_ac', 'clusters'],\n",
      "      dtype='object')\n",
      "(172, 27)\n",
      "   Unnamed: 0                           Name       state  summit_elev  \\\n",
      "0           2               Hilltop Ski Area      Alaska         2090   \n",
      "1           4            Sunrise Park Resort     Arizona        11100   \n",
      "2           5  Yosemite Ski & Snowboard Area  California         7800   \n",
      "3           8         Boreal Mountain Resort  California         7700   \n",
      "4           9                    Dodge Ridge  California         8200   \n",
      "\n",
      "   vertical_drop  trams  fastEight  fastSixes  fastQuads  quad  ...  \\\n",
      "0            294      0        0.0          0          0     0  ...   \n",
      "1           1800      0        0.0          0          1     2  ...   \n",
      "2            600      0        0.0          0          0     0  ...   \n",
      "3            500      0        0.0          0          1     1  ...   \n",
      "4           1600      0        0.0          0          0     1  ...   \n",
      "\n",
      "   SkiableTerrain_ac  Snow Making_ac  daysOpenLastYear  yearsOpen  \\\n",
      "0               30.0            30.0             150.0       36.0   \n",
      "1              800.0            80.0             115.0       49.0   \n",
      "2               88.0             0.0             110.0       84.0   \n",
      "3              380.0           200.0             150.0       54.0   \n",
      "4              862.0             0.0             114.0       69.0   \n",
      "\n",
      "   averageSnowfall  AdultWeekday  AdultWeekend  projectedDaysOpen  \\\n",
      "0             69.0          30.0          34.0              152.0   \n",
      "1            250.0          74.0          78.0              104.0   \n",
      "2            300.0          47.0          47.0              107.0   \n",
      "3            400.0          49.0          60.0              150.0   \n",
      "4            350.0          78.0          78.0              140.0   \n",
      "\n",
      "   NightSkiing_ac  clusters  \n",
      "0            30.0         2  \n",
      "1            80.0         1  \n",
      "2             0.0         1  \n",
      "3           200.0         1  \n",
      "4             0.0         1  \n",
      "\n",
      "[5 rows x 27 columns]\n"
     ]
    }
   ],
   "source": [
    "print(df.columns)\n",
    "print(df.shape)\n",
    "print(df.head())\n",
    "df.drop('Unnamed: 0',axis=1,inplace=True)\n"
   ]
  },
  {
   "cell_type": "code",
   "execution_count": 5,
   "metadata": {},
   "outputs": [
    {
     "name": "stdout",
     "output_type": "stream",
     "text": [
      "(172, 61)\n",
      "                            Name       state  summit_elev  vertical_drop  \\\n",
      "0               Hilltop Ski Area      Alaska         2090            294   \n",
      "1            Sunrise Park Resort     Arizona        11100           1800   \n",
      "2  Yosemite Ski & Snowboard Area  California         7800            600   \n",
      "3         Boreal Mountain Resort  California         7700            500   \n",
      "4                    Dodge Ridge  California         8200           1600   \n",
      "\n",
      "   trams  fastEight  fastSixes  fastQuads  quad  triple  ...  Rhode Island  \\\n",
      "0      0        0.0          0          0     0       1  ...             0   \n",
      "1      0        0.0          0          1     2       3  ...             0   \n",
      "2      0        0.0          0          0     0       1  ...             0   \n",
      "3      0        0.0          0          1     1       3  ...             0   \n",
      "4      0        0.0          0          0     1       2  ...             0   \n",
      "\n",
      "   South Dakota  Tennessee  Utah  Vermont  Virginia  Washington  \\\n",
      "0             0          0     0        0         0           0   \n",
      "1             0          0     0        0         0           0   \n",
      "2             0          0     0        0         0           0   \n",
      "3             0          0     0        0         0           0   \n",
      "4             0          0     0        0         0           0   \n",
      "\n",
      "   West Virginia  Wisconsin  Wyoming  \n",
      "0              0          0        0  \n",
      "1              0          0        0  \n",
      "2              0          0        0  \n",
      "3              0          0        0  \n",
      "4              0          0        0  \n",
      "\n",
      "[5 rows x 61 columns]\n"
     ]
    }
   ],
   "source": [
    "df = pd.concat([df, pd.get_dummies(df.state)], axis=1)\n",
    "print(df.shape)\n",
    "print(df.head())"
   ]
  },
  {
   "cell_type": "code",
   "execution_count": 6,
   "metadata": {},
   "outputs": [
    {
     "name": "stdout",
     "output_type": "stream",
     "text": [
      "(172, 60)\n",
      "                            Name  summit_elev  vertical_drop  trams  \\\n",
      "0               Hilltop Ski Area         2090            294      0   \n",
      "1            Sunrise Park Resort        11100           1800      0   \n",
      "2  Yosemite Ski & Snowboard Area         7800            600      0   \n",
      "3         Boreal Mountain Resort         7700            500      0   \n",
      "4                    Dodge Ridge         8200           1600      0   \n",
      "\n",
      "   fastEight  fastSixes  fastQuads  quad  triple  double  ...  Rhode Island  \\\n",
      "0        0.0          0          0     0       1       0  ...             0   \n",
      "1        0.0          0          1     2       3       1  ...             0   \n",
      "2        0.0          0          0     0       1       3  ...             0   \n",
      "3        0.0          0          1     1       3       1  ...             0   \n",
      "4        0.0          0          0     1       2       5  ...             0   \n",
      "\n",
      "   South Dakota  Tennessee  Utah  Vermont  Virginia  Washington  \\\n",
      "0             0          0     0        0         0           0   \n",
      "1             0          0     0        0         0           0   \n",
      "2             0          0     0        0         0           0   \n",
      "3             0          0     0        0         0           0   \n",
      "4             0          0     0        0         0           0   \n",
      "\n",
      "   West Virginia  Wisconsin  Wyoming  \n",
      "0              0          0        0  \n",
      "1              0          0        0  \n",
      "2              0          0        0  \n",
      "3              0          0        0  \n",
      "4              0          0        0  \n",
      "\n",
      "[5 rows x 60 columns]\n"
     ]
    }
   ],
   "source": [
    "df.drop('state',axis=1,inplace=True)\n",
    "print(df.shape)\n",
    "print(df.head())"
   ]
  },
  {
   "cell_type": "code",
   "execution_count": 7,
   "metadata": {},
   "outputs": [
    {
     "name": "stdout",
     "output_type": "stream",
     "text": [
      "                   count         mean          std    min      25%     50%  \\\n",
      "summit_elev        172.0  3637.656977  3223.022158  315.0  1245.00  2000.0   \n",
      "vertical_drop      172.0   841.447674   584.594889  175.0   391.25   650.0   \n",
      "trams              172.0     0.000000     0.000000    0.0     0.00     0.0   \n",
      "fastEight          172.0     0.000000     0.000000    0.0     0.00     0.0   \n",
      "fastSixes          172.0     0.000000     0.000000    0.0     0.00     0.0   \n",
      "fastQuads          172.0     0.238372     0.588520    0.0     0.00     0.0   \n",
      "quad               172.0     0.540698     0.703854    0.0     0.00     0.0   \n",
      "triple             172.0     1.209302     1.234175    0.0     0.00     1.0   \n",
      "double             172.0     1.720930     1.472168    0.0     1.00     1.0   \n",
      "surface            172.0     2.261628     1.445353    0.0     1.00     2.0   \n",
      "total_chairs       172.0     5.970930     2.768721    0.0     4.00     5.0   \n",
      "Runs               172.0    29.715116    17.443148    7.0    16.00    24.0   \n",
      "TerrainParks       172.0     1.761628     1.412614    0.0     1.00     2.0   \n",
      "LongestRun_mi      172.0     1.000000     0.735245    0.0     0.40     1.0   \n",
      "SkiableTerrain_ac  172.0   231.151163   286.517628   15.0    50.75   122.0   \n",
      "Snow Making_ac     172.0    82.005814    71.350096    0.0    30.00    60.0   \n",
      "daysOpenLastYear   172.0   105.947674    21.948974   56.0    94.75   110.0   \n",
      "yearsOpen          172.0    59.441860    14.247277   22.0    51.75    58.0   \n",
      "averageSnowfall    172.0   144.116279   105.930896   18.0    51.75   120.0   \n",
      "AdultWeekday       172.0    49.141512    15.806052   17.0    39.00    49.0   \n",
      "AdultWeekend       172.0    56.590349    15.234950   20.0    45.00    55.0   \n",
      "projectedDaysOpen  172.0   112.273256    21.197506   56.0   100.00   115.0   \n",
      "NightSkiing_ac     172.0    44.296512    47.442787    0.0     0.00    35.0   \n",
      "clusters           172.0     1.430233     0.749904    0.0     1.00     2.0   \n",
      "Alaska             172.0     0.005814     0.076249    0.0     0.00     0.0   \n",
      "Arizona            172.0     0.005814     0.076249    0.0     0.00     0.0   \n",
      "California         172.0     0.069767     0.255498    0.0     0.00     0.0   \n",
      "Colorado           172.0     0.023256     0.151155    0.0     0.00     0.0   \n",
      "Connecticut        172.0     0.029070     0.168493    0.0     0.00     0.0   \n",
      "Idaho              172.0     0.034884     0.184021    0.0     0.00     0.0   \n",
      "Illinois           172.0     0.017442     0.131293    0.0     0.00     0.0   \n",
      "Indiana            172.0     0.011628     0.107517    0.0     0.00     0.0   \n",
      "Iowa               172.0     0.017442     0.131293    0.0     0.00     0.0   \n",
      "Maine              172.0     0.029070     0.168493    0.0     0.00     0.0   \n",
      "Maryland           172.0     0.005814     0.076249    0.0     0.00     0.0   \n",
      "Massachusetts      172.0     0.023256     0.151155    0.0     0.00     0.0   \n",
      "Michigan           172.0     0.087209     0.282965    0.0     0.00     0.0   \n",
      "Minnesota          172.0     0.046512     0.211205    0.0     0.00     0.0   \n",
      "Missouri           172.0     0.011628     0.107517    0.0     0.00     0.0   \n",
      "Montana            172.0     0.017442     0.131293    0.0     0.00     0.0   \n",
      "Nevada             172.0     0.005814     0.076249    0.0     0.00     0.0   \n",
      "New Hampshire      172.0     0.063953     0.245384    0.0     0.00     0.0   \n",
      "New Jersey         172.0     0.005814     0.076249    0.0     0.00     0.0   \n",
      "New Mexico         172.0     0.034884     0.184021    0.0     0.00     0.0   \n",
      "New York           172.0     0.116279     0.321495    0.0     0.00     0.0   \n",
      "North Carolina     172.0     0.017442     0.131293    0.0     0.00     0.0   \n",
      "Ohio               172.0     0.023256     0.151155    0.0     0.00     0.0   \n",
      "Oregon             172.0     0.017442     0.131293    0.0     0.00     0.0   \n",
      "Pennsylvania       172.0     0.063953     0.245384    0.0     0.00     0.0   \n",
      "Rhode Island       172.0     0.005814     0.076249    0.0     0.00     0.0   \n",
      "South Dakota       172.0     0.005814     0.076249    0.0     0.00     0.0   \n",
      "Tennessee          172.0     0.005814     0.076249    0.0     0.00     0.0   \n",
      "Utah               172.0     0.017442     0.131293    0.0     0.00     0.0   \n",
      "Vermont            172.0     0.046512     0.211205    0.0     0.00     0.0   \n",
      "Virginia           172.0     0.011628     0.107517    0.0     0.00     0.0   \n",
      "Washington         172.0     0.017442     0.131293    0.0     0.00     0.0   \n",
      "West Virginia      172.0     0.017442     0.131293    0.0     0.00     0.0   \n",
      "Wisconsin          172.0     0.058140     0.234690    0.0     0.00     0.0   \n",
      "Wyoming            172.0     0.029070     0.168493    0.0     0.00     0.0   \n",
      "\n",
      "                        75%      max  \n",
      "summit_elev        6437.500  12075.0  \n",
      "vertical_drop      1150.000   2610.0  \n",
      "trams                 0.000      0.0  \n",
      "fastEight             0.000      0.0  \n",
      "fastSixes             0.000      0.0  \n",
      "fastQuads             0.000      2.0  \n",
      "quad                  1.000      2.0  \n",
      "triple                2.000      5.0  \n",
      "double                2.000      6.0  \n",
      "surface               3.000      6.0  \n",
      "total_chairs          7.000     16.0  \n",
      "Runs                 41.000     83.0  \n",
      "TerrainParks          2.000      6.0  \n",
      "LongestRun_mi         1.425      4.0  \n",
      "SkiableTerrain_ac   240.000   1500.0  \n",
      "Snow Making_ac      126.250    300.0  \n",
      "daysOpenLastYear    115.000    163.0  \n",
      "yearsOpen            68.250     95.0  \n",
      "averageSnowfall     205.500    500.0  \n",
      "AdultWeekday         56.000     89.0  \n",
      "AdultWeekend         65.500     93.0  \n",
      "projectedDaysOpen   122.000    180.0  \n",
      "NightSkiing_ac       70.500    200.0  \n",
      "clusters              2.000      2.0  \n",
      "Alaska                0.000      1.0  \n",
      "Arizona               0.000      1.0  \n",
      "California            0.000      1.0  \n",
      "Colorado              0.000      1.0  \n",
      "Connecticut           0.000      1.0  \n",
      "Idaho                 0.000      1.0  \n",
      "Illinois              0.000      1.0  \n",
      "Indiana               0.000      1.0  \n",
      "Iowa                  0.000      1.0  \n",
      "Maine                 0.000      1.0  \n",
      "Maryland              0.000      1.0  \n",
      "Massachusetts         0.000      1.0  \n",
      "Michigan              0.000      1.0  \n",
      "Minnesota             0.000      1.0  \n",
      "Missouri              0.000      1.0  \n",
      "Montana               0.000      1.0  \n",
      "Nevada                0.000      1.0  \n",
      "New Hampshire         0.000      1.0  \n",
      "New Jersey            0.000      1.0  \n",
      "New Mexico            0.000      1.0  \n",
      "New York              0.000      1.0  \n",
      "North Carolina        0.000      1.0  \n",
      "Ohio                  0.000      1.0  \n",
      "Oregon                0.000      1.0  \n",
      "Pennsylvania          0.000      1.0  \n",
      "Rhode Island          0.000      1.0  \n",
      "South Dakota          0.000      1.0  \n",
      "Tennessee             0.000      1.0  \n",
      "Utah                  0.000      1.0  \n",
      "Vermont               0.000      1.0  \n",
      "Virginia              0.000      1.0  \n",
      "Washington            0.000      1.0  \n",
      "West Virginia         0.000      1.0  \n",
      "Wisconsin             0.000      1.0  \n",
      "Wyoming               0.000      1.0  \n"
     ]
    }
   ],
   "source": [
    "print(df.describe().T)"
   ]
  },
  {
   "cell_type": "code",
   "execution_count": 8,
   "metadata": {},
   "outputs": [
    {
     "name": "stdout",
     "output_type": "stream",
     "text": [
      "Name                 Hilltop Ski AreaSunrise Park ResortYosemite Sk...\n",
      "summit_elev                                                     625677\n",
      "vertical_drop                                                   144729\n",
      "trams                                                                0\n",
      "fastEight                                                            0\n",
      "fastSixes                                                            0\n",
      "fastQuads                                                           41\n",
      "quad                                                                93\n",
      "triple                                                             208\n",
      "double                                                             296\n",
      "surface                                                            389\n",
      "total_chairs                                                      1027\n",
      "Runs                                                              5111\n",
      "TerrainParks                                                       303\n",
      "LongestRun_mi                                                      172\n",
      "SkiableTerrain_ac                                                39758\n",
      "Snow Making_ac                                                   14105\n",
      "daysOpenLastYear                                                 18223\n",
      "yearsOpen                                                        10224\n",
      "averageSnowfall                                                  24788\n",
      "AdultWeekday                                                   8452.34\n",
      "AdultWeekend                                                   9733.54\n",
      "projectedDaysOpen                                                19311\n",
      "NightSkiing_ac                                                    7619\n",
      "clusters                                                           246\n",
      "Alaska                                                               1\n",
      "Arizona                                                              1\n",
      "California                                                          12\n",
      "Colorado                                                             4\n",
      "Connecticut                                                          5\n",
      "Idaho                                                                6\n",
      "Illinois                                                             3\n",
      "Indiana                                                              2\n",
      "Iowa                                                                 3\n",
      "Maine                                                                5\n",
      "Maryland                                                             1\n",
      "Massachusetts                                                        4\n",
      "Michigan                                                            15\n",
      "Minnesota                                                            8\n",
      "Missouri                                                             2\n",
      "Montana                                                              3\n",
      "Nevada                                                               1\n",
      "New Hampshire                                                       11\n",
      "New Jersey                                                           1\n",
      "New Mexico                                                           6\n",
      "New York                                                            20\n",
      "North Carolina                                                       3\n",
      "Ohio                                                                 4\n",
      "Oregon                                                               3\n",
      "Pennsylvania                                                        11\n",
      "Rhode Island                                                         1\n",
      "South Dakota                                                         1\n",
      "Tennessee                                                            1\n",
      "Utah                                                                 3\n",
      "Vermont                                                              8\n",
      "Virginia                                                             2\n",
      "Washington                                                           3\n",
      "West Virginia                                                        3\n",
      "Wisconsin                                                           10\n",
      "Wyoming                                                              5\n",
      "dtype: object\n"
     ]
    }
   ],
   "source": [
    "print(df.sum())\n"
   ]
  },
  {
   "cell_type": "markdown",
   "metadata": {
    "colab_type": "text",
    "id": "HnDVhE1-ZyGF"
   },
   "source": [
    "## Standardize the magnitude of numeric features"
   ]
  },
  {
   "cell_type": "markdown",
   "metadata": {
    "colab": {},
    "colab_type": "code",
    "id": "gW3D-WlDZyGG"
   },
   "source": [
    "**<font color='teal'> Using sklearn preprocessing standardize the scale of the features of the dataframe except the name of the resort which we done't need in the dataframe for modeling, so it can be droppped here as well. Also, we want to hold out our response variable(s) so we can have their true values available for model performance review. Let's set `AdultWeekend` to the y variable as our response for scaling and modeling. Later we will go back and consider the `AdultWeekday`, `dayOpenLastYear`, and `projectedDaysOpen`. For now leave them in the development dataframe. </font>**"
   ]
  },
  {
   "cell_type": "code",
   "execution_count": 9,
   "metadata": {
    "colab": {},
    "colab_type": "code",
    "id": "IZL-q-KtAYI6"
   },
   "outputs": [],
   "source": [
    "# first we import the preprocessing package from the sklearn library\n",
    "from sklearn import preprocessing\n",
    "\n",
    "# Declare an explanatory variable, called X,and assign it the result of dropping 'Name' and 'AdultWeekend' from the df\n",
    "X= df.drop(['Name','AdultWeekend'], axis=1)\n",
    "\n",
    "# Declare a response variable, called y, and assign it the AdultWeekend column of the df \n",
    "y= df.AdultWeekend \n",
    "\n",
    "# Here we use the StandardScaler() method of the preprocessing package, and then call the fit() method with parameter X \n",
    "scaler = preprocessing.StandardScaler().fit(X)\n",
    "\n",
    "# Declare a variable called X_scaled, and assign it the result of calling the transform() method with parameter X \n",
    "X_scaled=scaler.transform(X) "
   ]
  },
  {
   "cell_type": "markdown",
   "metadata": {
    "colab_type": "text",
    "id": "GAT8h4_mZyGK"
   },
   "source": [
    "## Split into training and testing datasets"
   ]
  },
  {
   "cell_type": "markdown",
   "metadata": {
    "colab_type": "text",
    "id": "6rdS8EGeAnrW"
   },
   "source": [
    "**<font color='teal'> Using sklearn model selection import train_test_split, and create a 75/25 split with the y = `AdultWeekend`. We will start by using the adult weekend ticket price as our response variable for modeling.</font>**"
   ]
  },
  {
   "cell_type": "code",
   "execution_count": 10,
   "metadata": {
    "colab": {},
    "colab_type": "code",
    "id": "BSkPut0gguds"
   },
   "outputs": [],
   "source": [
    "# Import the train_test_split function from the sklearn.model_selection utility.  \n",
    "from sklearn.model_selection import train_test_split\n",
    "\n",
    "# Get the 1-dimensional flattened array of our response variable y by calling the ravel() function on y\n",
    "y = y.ravel()\n",
    "\n",
    "# Call the train_test_split() function with the first two parameters set to X_scaled and y \n",
    "# Declare four variables, X_train, X_test, y_train and y_test separated by commas \n",
    "X_train, X_test, y_train, y_test = train_test_split(X_scaled, y, test_size=0.25, random_state=1)"
   ]
  },
  {
   "cell_type": "markdown",
   "metadata": {
    "colab_type": "text",
    "id": "UayqbwkWAnra"
   },
   "source": [
    "Here we start the actual modeling work. First let's fit a multiple linear regression model to predict the `AdultWeekend` price."
   ]
  },
  {
   "cell_type": "markdown",
   "metadata": {
    "colab_type": "text",
    "id": "83fkLldXFCNd"
   },
   "source": [
    "# Guided Capstone Step 5. Modeling\n"
   ]
  },
  {
   "cell_type": "markdown",
   "metadata": {
    "colab_type": "text",
    "id": "JbZXsVevfr9M"
   },
   "source": [
    "This is the fifth step in the Data Science Method. In the previous steps you cleaned and prepared the datasets. Now it's time to get into the most exciting part: modeling! In this exercise, you'll build three different models and compare each model's performance. In the end, you'll choose the best model for demonstrating insights to Big Mountain management.\n",
    "\n",
    "\n",
    "\n",
    "### **The Data Science Method**  \n",
    "\n",
    "\n",
    "1.   Problem Identification \n",
    "\n",
    "2.   Data Wrangling \n",
    "  \n",
    "3.   Exploratory Data Analysis \n",
    " \n",
    "4.   Pre-processing and Training Data Development\n",
    "\n",
    "5.   **Modeling**\n",
    "  * Fit Models with Training Data Set\n",
    "  * Review Model Outcomes — Iterate over additional models as needed.\n",
    "  * Identify the Final Model\n",
    "\n",
    "6.   Documentation\n",
    "  * Review the Results\n",
    "  * Present and share your findings - storytelling\n",
    "  * Finalize Code \n",
    "  * Finalize Documentation"
   ]
  },
  {
   "cell_type": "markdown",
   "metadata": {
    "colab_type": "text",
    "id": "D_wfsP_-Anra"
   },
   "source": [
    "## Fit Models with a Training Dataset"
   ]
  },
  {
   "cell_type": "markdown",
   "metadata": {
    "colab_type": "text",
    "id": "CoI8S5SwAnrc"
   },
   "source": [
    "**<font color='teal'> Using sklearn, fit the model on your training dataset.</font>**"
   ]
  },
  {
   "cell_type": "markdown",
   "metadata": {
    "colab_type": "text",
    "id": "P_GFr8sRAnrd"
   },
   "source": [
    "#### Model 1"
   ]
  },
  {
   "cell_type": "code",
   "execution_count": 11,
   "metadata": {
    "colab": {},
    "colab_type": "code",
    "id": "fW6K7uOPAnre"
   },
   "outputs": [],
   "source": [
    "#all first model set\n",
    "from sklearn import linear_model\n",
    "from sklearn.metrics import explained_variance_score,mean_absolute_error\n",
    "lm = linear_model.LinearRegression()\n",
    "model = lm.fit(X_train,y_train)"
   ]
  },
  {
   "cell_type": "markdown",
   "metadata": {
    "colab_type": "text",
    "id": "1fHqz9-WAnrg"
   },
   "source": [
    "**<font color='teal'> Predict on the testing dataset and score the model performance with the y_test set and the y-pred values. The explained variance is a measure of the variation explained by the model. This is also known as the R-squared value. </font>**\n",
    "\n",
    "Hint: you will have to use the `predict()` method here as it's used in this [DSM article](https://medium.com/@aiden.dataminer/the-data-science-method-dsm-modeling-56b4233cad1b) about modeling. "
   ]
  },
  {
   "cell_type": "code",
   "execution_count": 12,
   "metadata": {
    "colab": {},
    "colab_type": "code",
    "id": "nIo01lFEAnrh"
   },
   "outputs": [],
   "source": [
    "# Make a variable called y_pred and assign it the result of calling predict() on our model variable with parameter X_test\n",
    "y_pred = model.predict(X_test)"
   ]
  },
  {
   "cell_type": "markdown",
   "metadata": {
    "colab_type": "text",
    "id": "N4YS0WE2Anrk"
   },
   "source": [
    "## Review Model Outcomes — Iterate over additional models as needed"
   ]
  },
  {
   "cell_type": "code",
   "execution_count": 13,
   "metadata": {
    "colab": {},
    "colab_type": "code",
    "id": "HSh9sGIYAnrk"
   },
   "outputs": [
    {
     "name": "stdout",
     "output_type": "stream",
     "text": [
      "-4.06138750714297e+21\n"
     ]
    }
   ],
   "source": [
    "# You might want to use the explained_variance_score() and mean_absolute_error() metrics.\n",
    "# To do so, you will need to import them from sklearn.metrics. \n",
    "# You can plug y_test and y_pred into the functions to evaluate the model\n",
    "from sklearn.metrics import explained_variance_score, mean_absolute_error\n",
    "print(explained_variance_score(y_test, y_pred))"
   ]
  },
  {
   "cell_type": "code",
   "execution_count": 14,
   "metadata": {
    "colab": {},
    "colab_type": "code",
    "id": "ihzeo8tqAnro"
   },
   "outputs": [
    {
     "name": "stdout",
     "output_type": "stream",
     "text": [
      "242061106889.92587\n"
     ]
    }
   ],
   "source": [
    "print(mean_absolute_error(y_test, y_pred))"
   ]
  },
  {
   "cell_type": "markdown",
   "metadata": {
    "colab_type": "text",
    "id": "NWJcOuSdAnrr"
   },
   "source": [
    "**<font color='teal'> Print the intercept value from the linear model. </font>**\n",
    "\n",
    "Hint: our linear regression model `lm` has an attribute `intercept_` for the intercept"
   ]
  },
  {
   "cell_type": "code",
   "execution_count": 15,
   "metadata": {
    "colab": {},
    "colab_type": "code",
    "id": "3WzWejn6Anrt"
   },
   "outputs": [
    {
     "name": "stdout",
     "output_type": "stream",
     "text": [
      "-60515276664.12326\n"
     ]
    }
   ],
   "source": [
    "print(lm.intercept_)"
   ]
  },
  {
   "cell_type": "markdown",
   "metadata": {
    "colab_type": "text",
    "id": "edajrenAAnrv"
   },
   "source": [
    "**<font color='teal'> The intercept is the mean `AdultWeekend` price for all the resorts given the other characteristics. The addition or subtraction of each of the coefficient values in the regression are numeric adjustments applied to the intercept to provide a particular observation's value for the resulting `AdultWeekend` value. Also, because we took the time to scale our x values in the training data, we can compare each of the coeeficients for the features to determine the feature importances. Print the coefficient values from the linear model and sort in descending order to identify the top ten most important features.</font>** \n",
    "\n",
    "\n",
    "Hint: make sure to review the absolute value of the coefficients, because the adjustment may be positive or negative, but what we are looking for is the magnitude of impact on our response variable."
   ]
  },
  {
   "cell_type": "code",
   "execution_count": 16,
   "metadata": {
    "colab": {},
    "colab_type": "code",
    "id": "FEKc_lmZAnrw"
   },
   "outputs": [
    {
     "name": "stdout",
     "output_type": "stream",
     "text": [
      "                    Coefficient\n",
      "fastEight          4.338382e+13\n",
      "trams              1.106195e+13\n",
      "total_chairs       5.915127e+12\n",
      "fastSixes          3.419268e+12\n",
      "double             3.145156e+12\n",
      "surface            3.087868e+12\n",
      "triple             2.636705e+12\n",
      "New York           1.668347e+12\n",
      "quad               1.503721e+12\n",
      "Michigan           1.468402e+12\n",
      "California         1.325868e+12\n",
      "New Hampshire      1.273383e+12\n",
      "Pennsylvania       1.273383e+12\n",
      "fastQuads          1.257320e+12\n",
      "Wisconsin          1.217887e+12\n",
      "Vermont            1.096015e+12\n",
      "Minnesota          1.096015e+12\n",
      "New Mexico         9.549470e+11\n",
      "Idaho              9.549470e+11\n",
      "Maine              8.743651e+11\n",
      "Connecticut        8.743651e+11\n",
      "Wyoming            8.743651e+11\n",
      "Massachusetts      7.843939e+11\n",
      "Colorado           7.843939e+11\n",
      "Ohio               7.843939e+11\n",
      "North Carolina     6.813238e+11\n",
      "West Virginia      6.813238e+11\n",
      "Washington         6.813238e+11\n",
      "Utah               6.813238e+11\n",
      "Oregon             6.813238e+11\n",
      "Iowa               6.813238e+11\n",
      "Montana            6.813238e+11\n",
      "Illinois           6.813238e+11\n",
      "Virginia           5.579420e+11\n",
      "Missouri           5.579420e+11\n",
      "Indiana            5.579420e+11\n",
      "Tennessee          3.956832e+11\n",
      "New Jersey         3.956832e+11\n",
      "Rhode Island       3.956832e+11\n",
      "Arizona            3.956832e+11\n",
      "South Dakota       3.956832e+11\n",
      "Alaska             3.956832e+11\n",
      "Maryland           2.744592e+07\n",
      "Nevada             8.989682e+05\n",
      "AdultWeekday       8.606934e+00\n",
      "summit_elev        2.505948e+00\n",
      "vertical_drop      1.740578e+00\n",
      "clusters           1.471191e+00\n",
      "daysOpenLastYear   1.407227e+00\n",
      "projectedDaysOpen  1.330078e+00\n",
      "averageSnowfall    1.097656e+00\n",
      "Snow Making_ac     1.060547e+00\n",
      "TerrainParks       1.030273e+00\n",
      "Runs               7.956543e-01\n",
      "LongestRun_mi      7.509155e-01\n",
      "SkiableTerrain_ac  4.404297e-01\n",
      "NightSkiing_ac     6.542969e-02\n",
      "yearsOpen          5.053711e-02\n"
     ]
    }
   ],
   "source": [
    "# You might want to make a pandas DataFrame displaying the coefficients for each state like so: \n",
    "coefficients=pd.DataFrame(abs(lm.coef_), X.columns, columns=['Coefficient'])\n",
    "print(coefficients.sort_values('Coefficient',ascending=False))\n"
   ]
  },
  {
   "cell_type": "markdown",
   "metadata": {
    "colab_type": "text",
    "id": "BpdALMoAAnry"
   },
   "source": [
    "**<font color='teal'>You should see that the top ten important features are different states. However, the state is not something the managers at the Big Mountain Resort can do anything about. Given that we care more about actionable traits associated with ticket pricing, rebuild the model without the state features and compare the results. </font>**\n",
    "\n",
    "Hint: Try to construct another model using exactly the steps we followed above. "
   ]
  },
  {
   "cell_type": "markdown",
   "metadata": {
    "colab_type": "text",
    "id": "-mHYA1BzAnrz"
   },
   "source": [
    "#### Model 2"
   ]
  },
  {
   "cell_type": "code",
   "execution_count": 17,
   "metadata": {
    "colab": {},
    "colab_type": "code",
    "id": "Pz1YXAdiAnr0"
   },
   "outputs": [
    {
     "name": "stdout",
     "output_type": "stream",
     "text": [
      "0.8354076184707633\n",
      "5.90295085867451\n",
      "57.02736106593792\n",
      "                   Coefficient\n",
      "AdultWeekday          9.490599\n",
      "summit_elev           3.452938\n",
      "clusters              2.800400\n",
      "daysOpenLastYear      2.258535\n",
      "vertical_drop         1.922233\n",
      "averageSnowfall       1.495699\n",
      "TerrainParks          1.443602\n",
      "projectedDaysOpen     1.381768\n",
      "LongestRun_mi         1.268194\n",
      "Snow Making_ac        0.992422\n"
     ]
    }
   ],
   "source": [
    "df=pd.read_csv('step3_output.csv')\n",
    "\n",
    "# Declare an explanatory variable, called X,and assign it the result of dropping 'Name' and 'AdultWeekend' from the df\n",
    "X= df.drop(['Name','AdultWeekend','state'], axis=1)\n",
    "\n",
    "# Declare a response variable, called y, and assign it the AdultWeekend column of the df \n",
    "y= df.AdultWeekend \n",
    "\n",
    "# Here we use the StandardScaler() method of the preprocessing package, and then call the fit() method with parameter X \n",
    "scaler = preprocessing.StandardScaler().fit(X)\n",
    "\n",
    "# Declare a variable called X_scaled, and assign it the result of calling the transform() method with parameter X \n",
    "X_scaled=scaler.transform(X) \n",
    "\n",
    "# Get the 1-dimensional flattened array of our response variable y by calling the ravel() function on y\n",
    "y = y.ravel()\n",
    "\n",
    "# Call the train_test_split() function with the first two parameters set to X_scaled and y \n",
    "# Declare four variables, X_train, X_test, y_train and y_test separated by commas \n",
    "X_train, X_test, y_train, y_test = train_test_split(X_scaled, y, test_size=0.25, random_state=1)\n",
    "\n",
    "lm = linear_model.LinearRegression()\n",
    "model = lm.fit(X_train,y_train)\n",
    "\n",
    "# Make a variable called y_pred and assign it the result of calling predict() on our model variable with parameter X_test\n",
    "y_pred = model.predict(X_test)\n",
    "\n",
    "print(explained_variance_score(y_test, y_pred))\n",
    "print(mean_absolute_error(y_test, y_pred))\n",
    "print(lm.intercept_)\n",
    "\n",
    "# You might want to make a pandas DataFrame displaying the coefficients for each state like so: \n",
    "coefficients=pd.DataFrame(abs(lm.coef_), X.columns, columns=['Coefficient'])\n",
    "print(coefficients.sort_values('Coefficient',ascending=False).head(10))"
   ]
  },
  {
   "cell_type": "code",
   "execution_count": null,
   "metadata": {
    "colab": {},
    "colab_type": "code",
    "id": "nM1EGf16Anr2"
   },
   "outputs": [],
   "source": []
  },
  {
   "cell_type": "markdown",
   "metadata": {
    "colab_type": "text",
    "id": "JWjQLr3LAnr6"
   },
   "source": [
    "**<font color='teal'> When reviewing our new model coefficients, we see `summit_elev` is now in the number two spot. This is also difficult to change from a management prespective and highly correlated with `base_elev` and `vertical_drop`.  This time, rebuild the model without the state features and without the `summit_elev` and without `base_elev`and compare the results. </font>**"
   ]
  },
  {
   "cell_type": "markdown",
   "metadata": {
    "colab_type": "text",
    "id": "RXqvcn93Anr7"
   },
   "source": [
    "#### Model 3"
   ]
  },
  {
   "cell_type": "code",
   "execution_count": 18,
   "metadata": {
    "colab": {},
    "colab_type": "code",
    "id": "6eugnDNNAnr8"
   },
   "outputs": [
    {
     "name": "stdout",
     "output_type": "stream",
     "text": [
      "0.8468741268430149\n",
      "5.779559773949307\n",
      "56.99846326944172\n",
      "                   Coefficient\n",
      "AdultWeekday          9.274632\n",
      "averageSnowfall       2.494497\n",
      "clusters              2.007195\n",
      "daysOpenLastYear      1.817794\n",
      "vertical_drop         1.548945\n",
      "LongestRun_mi         1.475045\n",
      "Snow Making_ac        1.428658\n",
      "SkiableTerrain_ac     1.385521\n",
      "TerrainParks          1.374885\n",
      "projectedDaysOpen     0.836120\n"
     ]
    }
   ],
   "source": [
    "df=pd.read_csv('step3_output.csv')\n",
    "\n",
    "# Declare an explanatory variable, called X,and assign it the result of dropping 'Name' and 'AdultWeekend' from the df\n",
    "X= df.drop(['Name','AdultWeekend','state', 'summit_elev'], axis=1)\n",
    "\n",
    "# Declare a response variable, called y, and assign it the AdultWeekend column of the df \n",
    "y= df.AdultWeekend \n",
    "\n",
    "# Here we use the StandardScaler() method of the preprocessing package, and then call the fit() method with parameter X \n",
    "scaler = preprocessing.StandardScaler().fit(X)\n",
    "\n",
    "# Declare a variable called X_scaled, and assign it the result of calling the transform() method with parameter X \n",
    "X_scaled=scaler.transform(X) \n",
    "\n",
    "# Get the 1-dimensional flattened array of our response variable y by calling the ravel() function on y\n",
    "y = y.ravel()\n",
    "\n",
    "# Call the train_test_split() function with the first two parameters set to X_scaled and y \n",
    "# Declare four variables, X_train, X_test, y_train and y_test separated by commas \n",
    "X_train, X_test, y_train, y_test = train_test_split(X_scaled, y, test_size=0.25, random_state=1)\n",
    "\n",
    "lm = linear_model.LinearRegression()\n",
    "model = lm.fit(X_train,y_train)\n",
    "\n",
    "# Make a variable called y_pred and assign it the result of calling predict() on our model variable with parameter X_test\n",
    "y_pred = model.predict(X_test)\n",
    "\n",
    "print(explained_variance_score(y_test, y_pred))\n",
    "print(mean_absolute_error(y_test, y_pred))\n",
    "print(lm.intercept_)\n",
    "\n",
    "# You might want to make a pandas DataFrame displaying the coefficients for each state like so: \n",
    "coefficients=pd.DataFrame(abs(lm.coef_), X.columns, columns=['Coefficient'])\n",
    "print(coefficients.sort_values('Coefficient',ascending=False).head(10))"
   ]
  },
  {
   "cell_type": "code",
   "execution_count": null,
   "metadata": {
    "colab": {},
    "colab_type": "code",
    "id": "pq0pW7G9Anr_"
   },
   "outputs": [],
   "source": []
  },
  {
   "cell_type": "code",
   "execution_count": null,
   "metadata": {
    "colab": {},
    "colab_type": "code",
    "id": "reXlf0HAAnsG"
   },
   "outputs": [],
   "source": []
  },
  {
   "cell_type": "markdown",
   "metadata": {
    "colab_type": "text",
    "id": "MJvQMns6AnsI"
   },
   "source": [
    "## Identify the Final Model"
   ]
  },
  {
   "cell_type": "markdown",
   "metadata": {
    "colab_type": "text",
    "id": "LD7-3iLcAnsK"
   },
   "source": [
    "**<font color='teal'> Review the model performances in the table below and choose the best model for proving insights to Big Mountain management about what features are driving ski resort lift ticket prices. Type your choice in the final markdown cell — you will discuss this selection more in the next step of the guided casptone. </font>**"
   ]
  },
  {
   "cell_type": "markdown",
   "metadata": {
    "colab_type": "text",
    "id": "La5S9fRPAnsK"
   },
   "source": [
    "| Model | Explained Variance| Mean Absolute Error|Features Dropped|\n",
    "| --- | --- | --- | --- |\n",
    "| Model 1. | 0.745? | 6.44? |-|\n",
    "| Model 2. | 0.835 | 5.90 |'state'|\n",
    "| Model 3. | 0.847 | 5.78 |'state','summit_elev','base_elev'|"
   ]
  },
  {
   "cell_type": "markdown",
   "metadata": {
    "colab_type": "text",
    "id": "T2c-zn7TAnsL"
   },
   "source": [
    "Model Selection:"
   ]
  },
  {
   "cell_type": "code",
   "execution_count": 19,
   "metadata": {
    "colab": {},
    "colab_type": "code",
    "id": "CgC0eMBrAnsM"
   },
   "outputs": [],
   "source": [
    "#Model 3 looks the best, right?"
   ]
  }
 ],
 "metadata": {
  "colab": {
   "collapsed_sections": [
    "RtEspslPZyGY",
    "s0DokMkAZyGc",
    "2iuitnKcZyHS",
    "iAWQxougZyHW",
    "ThMTimlBZyHZ",
    "QwZ-LkjXZyHt",
    "srtXEA3N4-Y9",
    "ChVreJupZyIA",
    "zDgSSsq1ZyID",
    "I3GYKWfi5Llg",
    "pmMvrhbI-viE",
    "ZXDPkW3UZyIX",
    "Dnc_vHQLZyId",
    "daJxuJ-dZyIg",
    "mAQ-oHiPZyIn",
    "hnGOsp3mZyIp"
   ],
   "name": "GuidedCapstoneStep5.ipynb",
   "provenance": []
  },
  "kernelspec": {
   "display_name": "Python 3",
   "language": "python",
   "name": "python3"
  },
  "language_info": {
   "codemirror_mode": {
    "name": "ipython",
    "version": 3
   },
   "file_extension": ".py",
   "mimetype": "text/x-python",
   "name": "python",
   "nbconvert_exporter": "python",
   "pygments_lexer": "ipython3",
   "version": "3.7.6"
  },
  "toc": {
   "base_numbering": "0",
   "nav_menu": {},
   "number_sections": true,
   "sideBar": true,
   "skip_h1_title": false,
   "title_cell": "Table of Contents",
   "title_sidebar": "Contents",
   "toc_cell": true,
   "toc_position": {
    "height": "calc(100% - 180px)",
    "left": "10px",
    "top": "150px",
    "width": "288px"
   },
   "toc_section_display": true,
   "toc_window_display": true
  }
 },
 "nbformat": 4,
 "nbformat_minor": 1
}
