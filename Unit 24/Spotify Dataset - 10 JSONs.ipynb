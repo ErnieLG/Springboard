{
 "cells": [
  {
   "cell_type": "markdown",
   "metadata": {},
   "source": [
    "# Here's the ReadMe for the dataset:\n",
    "\n",
    "## Detailed description\n",
    "The Million Playlist Dataset consists of 1,000 slice files. These files have the naming convention of:\n",
    "\n",
    "mpd.slice._STARTING\\_PLAYLIST\\_ID\\_-\\_ENDING\\_PLAYLIST\\_ID_.json\n",
    "\n",
    "For example, the first 1,000 playlists in the MPD are in a file called \n",
    "`mpd.slice.0-999.json` and the last 1,000 playlists are in a file called\n",
    "`mpd.slice.999000-999999.json`.\n",
    "\n",
    "Each slice file is a JSON dictionary with two fields:\n",
    "*info* and *playlists*.\n",
    "\n",
    "### `info` Field\n",
    "The info field is a dictionary that contains general information about the particular slice:\n",
    "\n",
    "   * **slice** - the range of slices that in in this particular file - such as 0-999\n",
    "   * ***version*** -  - the current version of the MPD (which should be v1)\n",
    "   * ***description*** - a description of the MPD\n",
    "   * ***license*** - licensing info for the MPD\n",
    "   * ***generated_on*** - a timestamp indicating when the slice was generated.\n",
    "\n",
    "### `playlists` field \n",
    "This is an array that typically contains 1,000 playlists. Each playlist is a dictionary that contains the following fields:\n",
    "\n",
    "\n",
    "* ***pid*** - integer - playlist id - the MPD ID of this playlist. This is an integer between 0 and 999,999.\n",
    "* ***name*** - string - the name of the playlist \n",
    "* ***description*** - optional string - if present, the description given to the playlist.  Note that user-provided playlist descrptions are a relatively new feature of Spotify, so most playlists do not have descriptions.\n",
    "* ***modified_at*** - seconds - timestamp (in seconds since the epoch) when this playlist was last updated. Times are rounded to midnight GMT of the date when the playlist was last updated.\n",
    "* ***num_artists*** - the total number of unique artists for the tracks in the playlist.\n",
    "* ***num_albums*** - the number of unique albums for the tracks in the playlist\n",
    "* ***num_tracks*** - the number of tracks in the playlist\n",
    "* ***num_followers*** - the number of followers this playlist had at the time the MPD was created. (Note that the follower count does not including the playlist creator)\n",
    "* ***num_edits*** - the number of separate editing sessions. Tracks added in a two hour window are considered to be added in a single editing session.\n",
    "* ***duration_ms*** - the total duration of all the tracks in the playlist (in milliseconds)\n",
    "* ***collaborative*** -  boolean - if true, the playlist is a collaborative playlist. Multiple users may contribute tracks to a collaborative playlist.\n",
    "* ***tracks*** - an array of information about each track in the playlist. Each element in the array is a dictionary with the following fields:\n",
    "   * ***track_name*** - the name of the track\n",
    "   * ***track_uri*** - the Spotify URI of the track\n",
    "   * ***album_name*** - the name of the track's album\n",
    "   * ***album_uri*** - the Spotify URI of the album\n",
    "   * ***artist_name*** - the name of the track's primary artist\n",
    "   * ***artist_uri*** - the Spotify URI of track's primary artist\n",
    "   * ***duration_ms*** - the duration of the track in milliseconds\n",
    "   * ***pos*** - the position of the track in the playlist (zero-based)"
   ]
  },
  {
   "cell_type": "code",
   "execution_count": 1,
   "metadata": {},
   "outputs": [
    {
     "name": "stderr",
     "output_type": "stream",
     "text": [
      "C:\\Users\\Ernie\\anaconda3\\lib\\site-packages\\lightfm\\_lightfm_fast.py:9: UserWarning: LightFM was compiled without OpenMP support. Only a single thread will be used.\n",
      "  warnings.warn(\n"
     ]
    }
   ],
   "source": [
    "# import re\n",
    "# import seaborn as sns\n",
    "# import time\n",
    "# import lightgbm as lgbm\n",
    "# from pathlib import Path\n",
    "# import pickle\n",
    "# from catboost import CatBoostClassifier, cv, Pool\n",
    "# import scikitplot as skplt\n",
    "# from hyperopt import tpe, STATUS_OK, Trials, hp, fmin, tpe, partial\n",
    "# import plotly.graph_objects as go\n",
    "\n",
    "\n",
    "# import itertools\n",
    "# from itertools import combinations\n",
    "\n",
    "# import scipy as sp\n",
    "# from scipy.stats import pearsonr, chi2_contingency\n",
    "\n",
    "# import matplotlib as mpl\n",
    "\n",
    "# import matplotlib.cm as cm\n",
    "# from matplotlib.colors import ListedColormap\n",
    "# from matplotlib import rc\n",
    "\n",
    "# import datetime\n",
    "# from dateutil import relativedelta\n",
    "\n",
    "# # from IPython.display import display\n",
    "# # pd.options.display.max_columns = None\n",
    "# # pd.options.display.max_colwidth = None\n",
    "# # pd.options.display.max_rows = None\n",
    "\n",
    "# import statsmodels.api as sm \n",
    "# from statsmodels.graphics.api import abline_plot # For visualling evaluating predictions.\n",
    "# from statsmodels.stats.proportion import proportion_confint\n",
    "\n",
    "# import warnings # For handling error messages.\n",
    "# warnings.simplefilter(action=\"ignore\", category=FutureWarning)\n",
    "# warnings.filterwarnings('ignore')\n",
    "\n",
    "# import sklearn.metrics as met\n",
    "# from sklearn import linear_model, preprocessing, model_selection, svm, datasets\n",
    "# from sklearn.ensemble import RandomForestClassifier, AdaBoostClassifier, GradientBoostingClassifier\n",
    "# from sklearn.feature_selection import SelectFromModel, SelectKBest, chi2, RFE\n",
    "# from sklearn.linear_model import LassoCV, LogisticRegression, Lasso\n",
    "# from sklearn.metrics import plot_confusion_matrix, auc, confusion_matrix, classification_report, accuracy_score, roc_curve, roc_auc_score, plot_roc_curve\n",
    "# from sklearn.model_selection import train_test_split, cross_val_score, GridSearchCV, KFold\n",
    "# from sklearn.neighbors import KNeighborsClassifier \n",
    "# from sklearn.pipeline import Pipeline\n",
    "# from sklearn.preprocessing import scale, StandardScaler, LabelEncoder, MinMaxScaler, Binarizer\n",
    "# from sklearn.svm import SVC\n",
    "# from sklearn.tree import DecisionTreeClassifier\n",
    "\n",
    "# from bayes_opt import BayesianOptimization\n",
    "# from bayes_opt.logger import JSONLogger\n",
    "# from bayes_opt.event import Events\n",
    "# from bayes_opt.util import load_logs\n",
    "\n",
    "# from surprise import SVD, BaselineOnly, KNNBasic, KNNWithMeans,KNNWithZScore, KNNBaseline\n",
    "# from surprise.model_selection import cross_validate\n",
    "\n",
    "#definitely need\n",
    "import pandas as pd\n",
    "import numpy as np\n",
    "from scipy import sparse\n",
    "from lightfm import LightFM, evaluation, cross_validation\n",
    "from sklearn.metrics.pairwise import cosine_similarity\n",
    "import json\n",
    "import matplotlib.pyplot as plt"
   ]
  },
  {
   "cell_type": "code",
   "execution_count": 2,
   "metadata": {},
   "outputs": [],
   "source": [
    "# @inproceedings{DBLP:conf/recsys/Kula15,\n",
    "#   author    = {Maciej Kula},\n",
    "#   editor    = {Toine Bogers and\n",
    "#                Marijn Koolen},\n",
    "#   title     = {Metadata Embeddings for User and Item Cold-start Recommendations},\n",
    "#   booktitle = {Proceedings of the 2nd Workshop on New Trends on Content-Based Recommender\n",
    "#                Systems co-located with 9th {ACM} Conference on Recommender Systems\n",
    "#                (RecSys 2015), Vienna, Austria, September 16-20, 2015.},\n",
    "#   series    = {{CEUR} Workshop Proceedings},\n",
    "#   volume    = {1448},\n",
    "#   pages     = {14--21},\n",
    "#   publisher = {CEUR-WS.org},\n",
    "#   year      = {2015},\n",
    "#   url       = {http://ceur-ws.org/Vol-1448/paper4.pdf},\n",
    "# }"
   ]
  },
  {
   "cell_type": "code",
   "execution_count": 3,
   "metadata": {},
   "outputs": [],
   "source": [
    "#RecSys functions by Aayush Agrawal\n",
    "#https://github.com/aayushmnit/cookbook\n",
    "\n",
    "def create_interaction_matrix(df,user_col, item_col, rating_col, norm= False, threshold = None):\n",
    "    '''\n",
    "    Function to create an interaction matrix dataframe from transactional type interactions\n",
    "    Required Input -\n",
    "        - df = Pandas DataFrame containing user-item interactions\n",
    "        - user_col = column name containing user's identifier\n",
    "        - item_col = column name containing item's identifier\n",
    "        - rating col = column name containing user feedback on interaction with a given item\n",
    "        - norm (optional) = True if a normalization of ratings is needed\n",
    "        - threshold (required if norm = True) = value above which the rating is favorable\n",
    "    Expected output - \n",
    "        - Pandas dataframe with user-item interactions ready to be fed in a recommendation algorithm\n",
    "    '''\n",
    "    interactions = df.groupby([user_col, item_col])[rating_col] \\\n",
    "            .sum().unstack().reset_index(). \\\n",
    "            fillna(0).set_index(user_col)\n",
    "    if norm:\n",
    "        interactions = interactions.applymap(lambda x: 1 if x > threshold else 0)\n",
    "    return interactions\n",
    "\n",
    "def create_user_dict(interactions):\n",
    "    '''\n",
    "    Function to create a user dictionary based on their index and number in interaction dataset\n",
    "    Required Input - \n",
    "        interactions - dataset create by create_interaction_matrix\n",
    "    Expected Output -\n",
    "        user_dict - Dictionary type output containing interaction_index as key and user_id as value\n",
    "    '''\n",
    "    user_id = list(interactions.index)\n",
    "    user_dict = {}\n",
    "    counter = 0 \n",
    "    for i in user_id:\n",
    "        user_dict[i] = counter\n",
    "        counter += 1\n",
    "    return user_dict\n",
    "\n",
    "    \n",
    "def create_item_dict(df,id_col,name_col):\n",
    "    '''\n",
    "    Function to create an item dictionary based on their item_id and item name\n",
    "    Required Input - \n",
    "        - df = Pandas dataframe with Item information\n",
    "        - id_col = Column name containing unique identifier for an item\n",
    "        - name_col = Column name containing name of the item\n",
    "    Expected Output -\n",
    "        item_dict = Dictionary type output containing item_id as key and item_name as value\n",
    "    '''\n",
    "    item_dict ={}\n",
    "    for i in range(df.shape[0]):\n",
    "        item_dict[(df.loc[i,id_col])] = df.loc[i,name_col]\n",
    "    return item_dict\n",
    "\n",
    "def runMF(interactions, n_components=30, loss='warp', k=15, epoch=30,n_jobs = 4):\n",
    "    '''\n",
    "    Function to run matrix-factorization algorithm\n",
    "    Required Input -\n",
    "        - interactions = dataset create by create_interaction_matrix\n",
    "        - n_components = number of embeddings you want to create to define Item and user\n",
    "        - loss = loss function other options are logistic, brp\n",
    "        - epoch = number of epochs to run \n",
    "        - n_jobs = number of cores used for execution \n",
    "    Expected Output  -\n",
    "        Model - Trained model\n",
    "    '''\n",
    "    x = sparse.csr_matrix(interactions.values)\n",
    "    model = LightFM(no_components= n_components, loss=loss,k=k)\n",
    "    model.fit(x,epochs=epoch,num_threads = n_jobs)\n",
    "    return model\n",
    "\n",
    "def sample_recommendation_user(model, interactions, user_id, user_dict, \n",
    "                               item_dict,threshold = 0,nrec_items = 10, show = True):\n",
    "    '''\n",
    "    Function to produce user recommendations\n",
    "    Required Input - \n",
    "        - model = Trained matrix factorization model\n",
    "        - interactions = dataset used for training the model\n",
    "        - user_id = user ID for which we need to generate recommendation\n",
    "        - user_dict = Dictionary type input containing interaction_index as key and user_id as value\n",
    "        - item_dict = Dictionary type input containing item_id as key and item_name as value\n",
    "        - threshold = value above which the rating is favorable in new interaction matrix\n",
    "        - nrec_items = Number of output recommendation needed\n",
    "    Expected Output - \n",
    "        - Prints list of items the given user has already bought\n",
    "        - Prints list of N recommended items  which user hopefully will be interested in\n",
    "    '''\n",
    "    n_users, n_items = interactions.shape\n",
    "    user_x = user_dict[user_id]\n",
    "    scores = pd.Series(model.predict(user_x,np.arange(n_items)))\n",
    "    scores.index = interactions.columns\n",
    "    scores = list(pd.Series(scores.sort_values(ascending=False).index))\n",
    "    \n",
    "    known_items = list(pd.Series(interactions.loc[user_id,:] \\\n",
    "                                 [interactions.loc[user_id,:] > threshold].index) \\\n",
    "\t\t\t\t\t\t\t\t .sort_values(ascending=False))\n",
    "    \n",
    "    scores = [x for x in scores if x not in known_items]\n",
    "    return_score_list = scores[0:nrec_items]\n",
    "    known_items = list(pd.Series(known_items).apply(lambda x: item_dict[x]))\n",
    "    scores = list(pd.Series(return_score_list).apply(lambda x: item_dict[x]))\n",
    "    print('Playlist Name: '+ df.iloc[(df['Playist ID #'].values == user_id).argmax()]['Playlist Name'])\n",
    "    if show == True:\n",
    "        print(\"Known Positives:\")\n",
    "        counter = 1\n",
    "        for i in known_items:\n",
    "            print(str(counter) + '- ' + i)\n",
    "            counter+=1\n",
    "\n",
    "        print(\"\\n Recommended Tracks:\")\n",
    "        counter = 1\n",
    "        for i in scores:\n",
    "            print(str(counter) + '- ' + i)\n",
    "            counter+=1\n",
    "    return return_score_list\n",
    "    \n",
    "\n",
    "def sample_recommendation_item(model,interactions,item_id,user_dict,item_dict,number_of_user,show=True):\n",
    "    '''\n",
    "    Function to produce a list of top N interested users for a given item\n",
    "    Required Input -\n",
    "        - model = Trained matrix factorization model\n",
    "        - interactions = dataset used for training the model\n",
    "        - item_id = item ID for which we need to generate recommended users\n",
    "        - user_dict =  Dictionary type input containing interaction_index as key and user_id as value\n",
    "        - item_dict = Dictionary type input containing item_id as key and item_name as value\n",
    "        - number_of_user = Number of users needed as an output\n",
    "    Expected Output -\n",
    "        - user_list = List of recommended users \n",
    "    '''\n",
    "    n_users, n_items = interactions.shape\n",
    "    x = np.array(interactions.columns)\n",
    "    scores = pd.Series(model.predict(np.arange(n_users), np.repeat(x.searchsorted(item_id),n_users)))\n",
    "    user_list = list(interactions.index[scores.sort_values(ascending=False).head(number_of_user).index])\n",
    "    if show == True:\n",
    "        print(\"Best matched playlists for given track:\")\n",
    "        counter = 1\n",
    "        for i in user_list:\n",
    "            print(str(counter) + '- ' + str(i) + ' - ' + df.iloc[(df['Playist ID #'].values == i).argmax()]['Playlist Name'])\n",
    "            counter+=1\n",
    "    return user_list \n",
    "\n",
    "\n",
    "def create_item_emdedding_distance_matrix(model,interactions):\n",
    "    '''\n",
    "    Function to create item-item distance embedding matrix\n",
    "    Required Input -\n",
    "        - model = Trained matrix factorization model\n",
    "        - interactions = dataset used for training the model\n",
    "    Expected Output -\n",
    "        - item_emdedding_distance_matrix = Pandas dataframe containing cosine distance matrix b/w items\n",
    "    '''\n",
    "    df_item_norm_sparse = sparse.csr_matrix(model.item_embeddings)\n",
    "    similarities = cosine_similarity(df_item_norm_sparse)\n",
    "    item_emdedding_distance_matrix = pd.DataFrame(similarities)\n",
    "    item_emdedding_distance_matrix.columns = interactions.columns\n",
    "    item_emdedding_distance_matrix.index = interactions.columns\n",
    "    return item_emdedding_distance_matrix\n",
    "\n",
    "def item_item_recommendation(item_emdedding_distance_matrix, item_id, \n",
    "                             item_dict, n_items = 10, show = True):\n",
    "    '''\n",
    "    Function to create item-item recommendation\n",
    "    Required Input - \n",
    "        - item_emdedding_distance_matrix = Pandas dataframe containing cosine distance matrix b/w items\n",
    "        - item_id  = item ID for which we need to generate recommended items\n",
    "        - item_dict = Dictionary type input containing item_id as key and item_name as value\n",
    "        - n_items = Number of items needed as an output\n",
    "    Expected Output -\n",
    "        - recommended_items = List of recommended items\n",
    "    '''\n",
    "    recommended_items = list(pd.Series(item_emdedding_distance_matrix.loc[item_id,:]. \\\n",
    "                                  sort_values(ascending = False).head(n_items+1). \\\n",
    "                                  index[1:n_items+1]))\n",
    "    if show == True:\n",
    "        print(\"Track of interest: {0}\".format(item_dict[item_id]))\n",
    "        print(\"Similar Tracks:\")\n",
    "        counter = 1\n",
    "        for i in recommended_items:\n",
    "            print(str(counter) + '- ' +  item_dict[i])\n",
    "            counter+=1\n",
    "#     return recommended_items"
   ]
  },
  {
   "cell_type": "markdown",
   "metadata": {},
   "source": [
    "## The dataset is split into 1,000 JSON files, each about 35MB.  Each contains 1,000 complete playlists.  \n",
    "## Each playlist has 4>x>251 tracks, with x>2 unique artists, and with x>1 unique albums.  \n",
    "\n",
    "number of playlists 1000000  \n",
    "number of tracks 66346428  \n",
    "number of unique tracks 2262292  \n",
    "number of unique albums 734684  \n",
    "number of unique artists 295860  \n",
    "mean playlist length 66.346428  \n",
    "mode playlist length 20   \n",
    "top track: HUMBLE. by Kendrick Lamar in 46574 playlists  \n",
    "top artist: 847160 tracks by Drake   "
   ]
  },
  {
   "cell_type": "markdown",
   "metadata": {},
   "source": [
    "## Loading the first JSON with 1000 playlists."
   ]
  },
  {
   "cell_type": "code",
   "execution_count": 4,
   "metadata": {},
   "outputs": [],
   "source": [
    "with open('data/mpd.slice.0-999.json') as f:\n",
    "  file = json.load(f)"
   ]
  },
  {
   "cell_type": "code",
   "execution_count": 5,
   "metadata": {},
   "outputs": [
    {
     "data": {
      "text/plain": [
       "1000"
      ]
     },
     "execution_count": 5,
     "metadata": {},
     "output_type": "execute_result"
    }
   ],
   "source": [
    "file = file['playlists'] \n",
    "len(file)"
   ]
  },
  {
   "cell_type": "markdown",
   "metadata": {},
   "source": [
    "## Here's the first playlist."
   ]
  },
  {
   "cell_type": "code",
   "execution_count": 6,
   "metadata": {},
   "outputs": [
    {
     "data": {
      "text/plain": [
       "{'name': 'Amy',\n",
       " 'collaborative': 'false',\n",
       " 'pid': 700,\n",
       " 'modified_at': 1504915200,\n",
       " 'num_tracks': 72,\n",
       " 'num_albums': 57,\n",
       " 'num_followers': 1,\n",
       " 'tracks': [{'pos': 0,\n",
       "   'artist_name': 'Iron & Wine',\n",
       "   'track_uri': 'spotify:track:2gUSIsapdX6jEJ0DvjqTt2',\n",
       "   'artist_uri': 'spotify:artist:4M5nCE77Qaxayuhp3fVn4V',\n",
       "   'track_name': 'Naked As We Came',\n",
       "   'album_uri': 'spotify:album:20OPxsW0aYB6InxDImJRdt',\n",
       "   'duration_ms': 152626,\n",
       "   'album_name': 'Our Endless Numbered Days'},\n",
       "  {'pos': 1,\n",
       "   'artist_name': 'Ed Sheeran',\n",
       "   'track_uri': 'spotify:track:5mxTOMM0NiRud8VdBxbA2o',\n",
       "   'artist_uri': 'spotify:artist:6eUKZXaKkcviH0Ku9w2n3V',\n",
       "   'track_name': 'Bloodstream',\n",
       "   'album_uri': 'spotify:album:6NoBzYmh5gUusGPCfg0pct',\n",
       "   'duration_ms': 300253,\n",
       "   'album_name': 'x'},\n",
       "  {'pos': 2,\n",
       "   'artist_name': 'The Head and the Heart',\n",
       "   'track_uri': 'spotify:track:5aVhFEvhPKibeOoCx7aNtG',\n",
       "   'artist_uri': 'spotify:artist:0n94vC3S9c3mb2HyNAOcjg',\n",
       "   'track_name': 'Down In The Valley',\n",
       "   'album_uri': 'spotify:album:4JKVVz1tD8PYKoXIZ7ZEJy',\n",
       "   'duration_ms': 303653,\n",
       "   'album_name': 'The Head And The Heart'},\n",
       "  {'pos': 3,\n",
       "   'artist_name': 'First Aid Kit',\n",
       "   'track_uri': 'spotify:track:7exdcu9SmgcrZ7hW9ZdcYo',\n",
       "   'artist_uri': 'spotify:artist:21egYD1eInY6bGFcniCRT1',\n",
       "   'track_name': 'Emmylou - Spotify Sessions',\n",
       "   'album_uri': 'spotify:album:0YneOS1OMqNFfnOTtccqwv',\n",
       "   'duration_ms': 304226,\n",
       "   'album_name': 'Spotify Sessions'},\n",
       "  {'pos': 4,\n",
       "   'artist_name': 'The Lumineers',\n",
       "   'track_uri': 'spotify:track:6ZYS6QQxTLsQ6IFXdVx1r4',\n",
       "   'artist_uri': 'spotify:artist:16oZKvXb6WkQlVAjwo2Wbg',\n",
       "   'track_name': 'Ophelia',\n",
       "   'album_uri': 'spotify:album:03WMNRxqKog3sBZ6G5jGDw',\n",
       "   'duration_ms': 160106,\n",
       "   'album_name': 'Cleopatra'},\n",
       "  {'pos': 5,\n",
       "   'artist_name': 'Mumford & Sons',\n",
       "   'track_uri': 'spotify:track:3pLTOP0G0etiWUknFoRpsr',\n",
       "   'artist_uri': 'spotify:artist:3gd8FJtBJtkRxdfbTu19U2',\n",
       "   'track_name': 'The Cave',\n",
       "   'album_uri': 'spotify:album:7GiLJfRPHARQrRJf01P2Tt',\n",
       "   'duration_ms': 217986,\n",
       "   'album_name': 'Sigh No More'},\n",
       "  {'pos': 6,\n",
       "   'artist_name': 'Band of Horses',\n",
       "   'track_uri': 'spotify:track:5MYfpFJYm8WNFGssR6H2Oz',\n",
       "   'artist_uri': 'spotify:artist:0OdUWJ0sBjDrqHygGUXeCF',\n",
       "   'track_name': \"No One's Gonna Love You - Live from Spotify Sweden\",\n",
       "   'album_uri': 'spotify:album:2j80e8guCnpYphNJW8hSaX',\n",
       "   'duration_ms': 239080,\n",
       "   'album_name': 'Spotify Sessions'},\n",
       "  {'pos': 7,\n",
       "   'artist_name': 'The xx',\n",
       "   'track_uri': 'spotify:track:0bXpmJyHHYPk6QBFj25bYF',\n",
       "   'artist_uri': 'spotify:artist:3iOvXCl6edW5Um0fXEBRXy',\n",
       "   'track_name': 'Intro',\n",
       "   'album_uri': 'spotify:album:2nXJkqkS1tIKIyhBcFMmwz',\n",
       "   'duration_ms': 127920,\n",
       "   'album_name': 'xx'},\n",
       "  {'pos': 8,\n",
       "   'artist_name': 'Ed Sheeran',\n",
       "   'track_uri': 'spotify:track:6fxVffaTuwjgEk5h9QyRjy',\n",
       "   'artist_uri': 'spotify:artist:6eUKZXaKkcviH0Ku9w2n3V',\n",
       "   'track_name': 'Photograph',\n",
       "   'album_uri': 'spotify:album:6NoBzYmh5gUusGPCfg0pct',\n",
       "   'duration_ms': 258986,\n",
       "   'album_name': 'x'},\n",
       "  {'pos': 9,\n",
       "   'artist_name': 'Ed Sheeran',\n",
       "   'track_uri': 'spotify:track:3B7udSGy2PfgoCniMSb523',\n",
       "   'artist_uri': 'spotify:artist:6eUKZXaKkcviH0Ku9w2n3V',\n",
       "   'track_name': 'I See Fire',\n",
       "   'album_uri': 'spotify:album:2nsRpsb5aeOhNEWV1MoiHB',\n",
       "   'duration_ms': 300840,\n",
       "   'album_name': 'The Hobbit - The Desolation Of Smaug'},\n",
       "  {'pos': 10,\n",
       "   'artist_name': 'Fleet Foxes',\n",
       "   'track_uri': 'spotify:track:3RVupqMb1zXl8FNG9TlWBZ',\n",
       "   'artist_uri': 'spotify:artist:4EVpmkEwrLYEg6jIsiPMIb',\n",
       "   'track_name': 'Mykonos',\n",
       "   'album_uri': 'spotify:album:1THgsJygpeEj3yfXuRm7Bb',\n",
       "   'duration_ms': 275306,\n",
       "   'album_name': 'Sun Giant'},\n",
       "  {'pos': 11,\n",
       "   'artist_name': 'Mumford & Sons',\n",
       "   'track_uri': 'spotify:track:6rhFQMrr2BWrnLewzBh0Wq',\n",
       "   'artist_uri': 'spotify:artist:3gd8FJtBJtkRxdfbTu19U2',\n",
       "   'track_name': 'Tompkins Square Park',\n",
       "   'album_uri': 'spotify:album:4trTvSZSfcCSzeH8kJeCbD',\n",
       "   'duration_ms': 312626,\n",
       "   'album_name': 'Wilder Mind'},\n",
       "  {'pos': 12,\n",
       "   'artist_name': 'Daughter',\n",
       "   'track_uri': 'spotify:track:1vyrrrnb7182SL6iOMor3O',\n",
       "   'artist_uri': 'spotify:artist:46CitWgnWrvF9t70C2p1Me',\n",
       "   'track_name': 'Youth',\n",
       "   'album_uri': 'spotify:album:2Y3kTeMHY7GZAvyNwV1jIH',\n",
       "   'duration_ms': 253013,\n",
       "   'album_name': 'If You Leave'},\n",
       "  {'pos': 13,\n",
       "   'artist_name': 'Bon Iver',\n",
       "   'track_uri': 'spotify:track:3ZMv9EzGoteNi5Qnx0KpEO',\n",
       "   'artist_uri': 'spotify:artist:4LEiUm1SRbFMgfqnQTwUbQ',\n",
       "   'track_name': 'Skinny Love',\n",
       "   'album_uri': 'spotify:album:10HuTnFqkhym6gXmIDxBsm',\n",
       "   'duration_ms': 232426,\n",
       "   'album_name': 'For Emma, Forever Ago'},\n",
       "  {'pos': 14,\n",
       "   'artist_name': 'Mumford & Sons',\n",
       "   'track_uri': 'spotify:track:4UMXrBprrvRfWUCnWsai01',\n",
       "   'artist_uri': 'spotify:artist:3gd8FJtBJtkRxdfbTu19U2',\n",
       "   'track_name': 'Believe - Live',\n",
       "   'album_uri': 'spotify:album:6RDgz01L7K6gG7hPs3Vszi',\n",
       "   'duration_ms': 229789,\n",
       "   'album_name': 'Wilder Mind'},\n",
       "  {'pos': 15,\n",
       "   'artist_name': 'Mumford & Sons',\n",
       "   'track_uri': 'spotify:track:51Sg6U2cg2KRZA0yuxhemu',\n",
       "   'artist_uri': 'spotify:artist:3gd8FJtBJtkRxdfbTu19U2',\n",
       "   'track_name': 'Little Lion Man - Live',\n",
       "   'album_uri': 'spotify:album:29FcYjTgAVS4WouXPvMwah',\n",
       "   'duration_ms': 268000,\n",
       "   'album_name': 'The Road To Red Rocks'},\n",
       "  {'pos': 16,\n",
       "   'artist_name': 'Fitz and The Tantrums',\n",
       "   'track_uri': 'spotify:track:7j56HrjR9cGzvekvZY3Faz',\n",
       "   'artist_uri': 'spotify:artist:4AcHt3JxKy59IX7JNNlZn4',\n",
       "   'track_name': 'HandClap',\n",
       "   'album_uri': 'spotify:album:7HBKKw5pJLNj6mdRLb1KG3',\n",
       "   'duration_ms': 193253,\n",
       "   'album_name': 'Fitz and The Tantrums'},\n",
       "  {'pos': 17,\n",
       "   'artist_name': 'Fitz and The Tantrums',\n",
       "   'track_uri': 'spotify:track:2eNEuwvBePoYUEQavlcvUT',\n",
       "   'artist_uri': 'spotify:artist:4AcHt3JxKy59IX7JNNlZn4',\n",
       "   'track_name': 'MoneyGrabber',\n",
       "   'album_uri': 'spotify:album:6RT7CswpKz8DSNeT6KoIOX',\n",
       "   'duration_ms': 189893,\n",
       "   'album_name': 'Pickin’ Up The Pieces'},\n",
       "  {'pos': 18,\n",
       "   'artist_name': 'Fitz and The Tantrums',\n",
       "   'track_uri': 'spotify:track:2AYEOC02WLhUiOoaig2SEH',\n",
       "   'artist_uri': 'spotify:artist:4AcHt3JxKy59IX7JNNlZn4',\n",
       "   'track_name': 'Out Of My League',\n",
       "   'album_uri': 'spotify:album:3IWUFJCM3CvCCQIHQ4vtRK',\n",
       "   'duration_ms': 209386,\n",
       "   'album_name': 'More Than Just A Dream'},\n",
       "  {'pos': 19,\n",
       "   'artist_name': 'Fitz and The Tantrums',\n",
       "   'track_uri': 'spotify:track:3zlifCn4Aj4P0EnaP0ndLf',\n",
       "   'artist_uri': 'spotify:artist:4AcHt3JxKy59IX7JNNlZn4',\n",
       "   'track_name': 'Get Right Back',\n",
       "   'album_uri': 'spotify:album:7HBKKw5pJLNj6mdRLb1KG3',\n",
       "   'duration_ms': 224160,\n",
       "   'album_name': 'Fitz and The Tantrums'},\n",
       "  {'pos': 20,\n",
       "   'artist_name': 'Fitz and The Tantrums',\n",
       "   'track_uri': 'spotify:track:3goyor536uLlIuv0zHgq0B',\n",
       "   'artist_uri': 'spotify:artist:4AcHt3JxKy59IX7JNNlZn4',\n",
       "   'track_name': 'Fools Gold',\n",
       "   'album_uri': 'spotify:album:3IWUFJCM3CvCCQIHQ4vtRK',\n",
       "   'duration_ms': 214573,\n",
       "   'album_name': 'More Than Just A Dream'},\n",
       "  {'pos': 21,\n",
       "   'artist_name': 'Fitz and The Tantrums',\n",
       "   'track_uri': 'spotify:track:7ggOV9TQuzCptmnO7StKyd',\n",
       "   'artist_uri': 'spotify:artist:4AcHt3JxKy59IX7JNNlZn4',\n",
       "   'track_name': 'Complicated',\n",
       "   'album_uri': 'spotify:album:7HBKKw5pJLNj6mdRLb1KG3',\n",
       "   'duration_ms': 191453,\n",
       "   'album_name': 'Fitz and The Tantrums'},\n",
       "  {'pos': 22,\n",
       "   'artist_name': 'Fitz and The Tantrums',\n",
       "   'track_uri': 'spotify:track:7kClqlbpmpZmGMimROkvh6',\n",
       "   'artist_uri': 'spotify:artist:4AcHt3JxKy59IX7JNNlZn4',\n",
       "   'track_name': 'Roll Up',\n",
       "   'album_uri': 'spotify:album:7HBKKw5pJLNj6mdRLb1KG3',\n",
       "   'duration_ms': 218400,\n",
       "   'album_name': 'Fitz and The Tantrums'},\n",
       "  {'pos': 23,\n",
       "   'artist_name': 'Fitz and The Tantrums',\n",
       "   'track_uri': 'spotify:track:5QWWKKZByQJO3urxJB4XB0',\n",
       "   'artist_uri': 'spotify:artist:4AcHt3JxKy59IX7JNNlZn4',\n",
       "   'track_name': 'Don’t Gotta Work It Out',\n",
       "   'album_uri': 'spotify:album:6RT7CswpKz8DSNeT6KoIOX',\n",
       "   'duration_ms': 249693,\n",
       "   'album_name': 'Pickin’ Up The Pieces'},\n",
       "  {'pos': 24,\n",
       "   'artist_name': 'The Lumineers',\n",
       "   'track_uri': 'spotify:track:1jdNcAD8Ir58RlsdGjJJdx',\n",
       "   'artist_uri': 'spotify:artist:16oZKvXb6WkQlVAjwo2Wbg',\n",
       "   'track_name': 'Ho Hey',\n",
       "   'album_uri': 'spotify:album:5h7fx8ILwOZ3I5yQ4eGBl7',\n",
       "   'duration_ms': 161226,\n",
       "   'album_name': 'The Lumineers'},\n",
       "  {'pos': 25,\n",
       "   'artist_name': 'Alabama Shakes',\n",
       "   'track_uri': 'spotify:track:1gGY6qfslDtJ4OoWQGKtkE',\n",
       "   'artist_uri': 'spotify:artist:16GcWuvvybAoaHr0NqT8Eh',\n",
       "   'track_name': 'Hold On',\n",
       "   'album_uri': 'spotify:album:0YcQyzstsSbcnLCk4h7AUh',\n",
       "   'duration_ms': 226186,\n",
       "   'album_name': 'Boys & Girls'},\n",
       "  {'pos': 26,\n",
       "   'artist_name': 'Of Monsters and Men',\n",
       "   'track_uri': 'spotify:track:5g7rJvWYVrloJZwKiShqlS',\n",
       "   'artist_uri': 'spotify:artist:4dwdTW1Lfiq0cM8nBAqIIz',\n",
       "   'track_name': 'Dirty Paws',\n",
       "   'album_uri': 'spotify:album:4p9dVvZDaZliSjTCbFRhJy',\n",
       "   'duration_ms': 278373,\n",
       "   'album_name': 'My Head Is An Animal'},\n",
       "  {'pos': 27,\n",
       "   'artist_name': 'Of Monsters and Men',\n",
       "   'track_uri': 'spotify:track:60ZGteAEtPCnGE6zevgUcd',\n",
       "   'artist_uri': 'spotify:artist:4dwdTW1Lfiq0cM8nBAqIIz',\n",
       "   'track_name': 'Mountain Sound',\n",
       "   'album_uri': 'spotify:album:6uD3oJCWT1gtlSCg5lDiNF',\n",
       "   'duration_ms': 211453,\n",
       "   'album_name': 'My Head Is An Animal'},\n",
       "  {'pos': 28,\n",
       "   'artist_name': 'Of Monsters and Men',\n",
       "   'track_uri': 'spotify:track:15IWqq4MaJ09ZQZgzcbn4p',\n",
       "   'artist_uri': 'spotify:artist:4dwdTW1Lfiq0cM8nBAqIIz',\n",
       "   'track_name': 'Love Love Love',\n",
       "   'album_uri': 'spotify:album:6uD3oJCWT1gtlSCg5lDiNF',\n",
       "   'duration_ms': 238786,\n",
       "   'album_name': 'My Head Is An Animal'},\n",
       "  {'pos': 29,\n",
       "   'artist_name': 'Arctic Monkeys',\n",
       "   'track_uri': 'spotify:track:48q0vSHcJdhK3IiXH8C5WJ',\n",
       "   'artist_uri': 'spotify:artist:7Ln80lUS6He07XvHI8qqHH',\n",
       "   'track_name': \"Why'd You Only Call Me When You're High?\",\n",
       "   'album_uri': 'spotify:album:6645HGh7ZOZSUTpqW9iYLR',\n",
       "   'duration_ms': 161123,\n",
       "   'album_name': 'AM'},\n",
       "  {'pos': 30,\n",
       "   'artist_name': 'The Black Keys',\n",
       "   'track_uri': 'spotify:track:5G1sTBGbZT5o4PNRc75RKI',\n",
       "   'artist_uri': 'spotify:artist:7mnBLXK823vNxN3UWB7Gfz',\n",
       "   'track_name': 'Lonely Boy',\n",
       "   'album_uri': 'spotify:album:5DLhV9yOvZ7IxVmljMXtNm',\n",
       "   'duration_ms': 193653,\n",
       "   'album_name': 'El Camino'},\n",
       "  {'pos': 31,\n",
       "   'artist_name': 'The Lumineers',\n",
       "   'track_uri': 'spotify:track:5V5Cwi9sEA5e73n0MvyFLM',\n",
       "   'artist_uri': 'spotify:artist:16oZKvXb6WkQlVAjwo2Wbg',\n",
       "   'track_name': 'Slow It Down - Live At The Cannery Ball Room / 2013',\n",
       "   'album_uri': 'spotify:album:0nRgsLe1she16l3pclpyy7',\n",
       "   'duration_ms': 280186,\n",
       "   'album_name': 'The Lumineers'},\n",
       "  {'pos': 32,\n",
       "   'artist_name': 'George Ezra',\n",
       "   'track_uri': 'spotify:track:7GJClzimvMSghjcrKxuf1M',\n",
       "   'artist_uri': 'spotify:artist:2ysnwxxNtSgbb9t1m2Ur4j',\n",
       "   'track_name': 'Budapest',\n",
       "   'album_uri': 'spotify:album:5tF2lAa2rh2kU2xIiBzWia',\n",
       "   'duration_ms': 200720,\n",
       "   'album_name': 'Wanted On Voyage'},\n",
       "  {'pos': 33,\n",
       "   'artist_name': 'Band of Horses',\n",
       "   'track_uri': 'spotify:track:4o0NjemqhmsYLIMwlcosvW',\n",
       "   'artist_uri': 'spotify:artist:0OdUWJ0sBjDrqHygGUXeCF',\n",
       "   'track_name': 'The Funeral',\n",
       "   'album_uri': 'spotify:album:5uMfshtC2Jwqui0NUyUYIL',\n",
       "   'duration_ms': 321146,\n",
       "   'album_name': 'Everything All The Time'},\n",
       "  {'pos': 34,\n",
       "   'artist_name': 'Arctic Monkeys',\n",
       "   'track_uri': 'spotify:track:3rq5w4bQGigXOfdN30ATJt',\n",
       "   'artist_uri': 'spotify:artist:7Ln80lUS6He07XvHI8qqHH',\n",
       "   'track_name': 'Do I Wanna Know?',\n",
       "   'album_uri': 'spotify:album:6645HGh7ZOZSUTpqW9iYLR',\n",
       "   'duration_ms': 272394,\n",
       "   'album_name': 'AM'},\n",
       "  {'pos': 35,\n",
       "   'artist_name': 'Arctic Monkeys',\n",
       "   'track_uri': 'spotify:track:29tzJGvqJPTAFs6LXmsHoA',\n",
       "   'artist_uri': 'spotify:artist:7Ln80lUS6He07XvHI8qqHH',\n",
       "   'track_name': 'R U Mine?',\n",
       "   'album_uri': 'spotify:album:6645HGh7ZOZSUTpqW9iYLR',\n",
       "   'duration_ms': 201726,\n",
       "   'album_name': 'AM'},\n",
       "  {'pos': 36,\n",
       "   'artist_name': 'X Ambassadors',\n",
       "   'track_uri': 'spotify:track:46GGxd8TVRt6FjUBfCavVT',\n",
       "   'artist_uri': 'spotify:artist:3NPpFNZtSTHheNBaWC82rB',\n",
       "   'track_name': 'Renegades',\n",
       "   'album_uri': 'spotify:album:5yQ3ctYzF5d1SgMzhyWe8s',\n",
       "   'duration_ms': 195199,\n",
       "   'album_name': 'VHS'},\n",
       "  {'pos': 37,\n",
       "   'artist_name': 'Mark Ronson',\n",
       "   'track_uri': 'spotify:track:32OlwWuMpZ6b0aN2RZOeMS',\n",
       "   'artist_uri': 'spotify:artist:3hv9jJF3adDNsBSIQDqcjp',\n",
       "   'track_name': 'Uptown Funk',\n",
       "   'album_uri': 'spotify:album:3vLaOYCNCzngDf8QdBg2V1',\n",
       "   'duration_ms': 269666,\n",
       "   'album_name': 'Uptown Special'},\n",
       "  {'pos': 38,\n",
       "   'artist_name': 'Rihanna',\n",
       "   'track_uri': 'spotify:track:3U3Ff8ZvL6oEu1r98gCCWW',\n",
       "   'artist_uri': 'spotify:artist:5pKCCKE2ajJHZ9KAiaK11H',\n",
       "   'track_name': 'Pon de Replay',\n",
       "   'album_uri': 'spotify:album:19UbDbyaYRW1U7lBMYO9F2',\n",
       "   'duration_ms': 246960,\n",
       "   'album_name': 'Music Of The Sun'},\n",
       "  {'pos': 39,\n",
       "   'artist_name': 'Eminem',\n",
       "   'track_uri': 'spotify:track:5U8hKxSaDXB8cVeLFQjvwx',\n",
       "   'artist_uri': 'spotify:artist:7dGJo4pcD2V6oG8kP0tJRR',\n",
       "   'track_name': 'The Monster',\n",
       "   'album_uri': 'spotify:album:3qGeRY1wt4rrLIt1YuSwHR',\n",
       "   'duration_ms': 250188,\n",
       "   'album_name': 'The Marshall Mathers LP2'},\n",
       "  {'pos': 40,\n",
       "   'artist_name': 'Imagine Dragons',\n",
       "   'track_uri': 'spotify:track:6Ep6BzIOB9tz3P4sWqiiAB',\n",
       "   'artist_uri': 'spotify:artist:53XhwfbYqKCa1cC15pYq2q',\n",
       "   'track_name': 'Radioactive',\n",
       "   'album_uri': 'spotify:album:1vAEF8F0HoRFGiYOEeJXHW',\n",
       "   'duration_ms': 186813,\n",
       "   'album_name': 'Night Visions'},\n",
       "  {'pos': 41,\n",
       "   'artist_name': 'JAY Z',\n",
       "   'track_uri': 'spotify:track:3lPAHV0b53zgRRm9LBgnTY',\n",
       "   'artist_uri': 'spotify:artist:3nFkdlSjzX9mRTtwJOzDYB',\n",
       "   'track_name': 'Empire State Of Mind',\n",
       "   'album_uri': 'spotify:album:22v70dJq6kWS32SkR2c7kd',\n",
       "   'duration_ms': 276920,\n",
       "   'album_name': 'The Blueprint 3'},\n",
       "  {'pos': 42,\n",
       "   'artist_name': 'Heart',\n",
       "   'track_uri': 'spotify:track:5zH710lFSLtkHbMkslLDjR',\n",
       "   'artist_uri': 'spotify:artist:34jw2BbxjoYalTp8cJFCPv',\n",
       "   'track_name': 'Crazy On You',\n",
       "   'album_uri': 'spotify:album:2N0AgtWbCmVoNUl2GN1opH',\n",
       "   'duration_ms': 293440,\n",
       "   'album_name': 'Dreamboat Annie'},\n",
       "  {'pos': 43,\n",
       "   'artist_name': 'Heart',\n",
       "   'track_uri': 'spotify:track:6gOgTWY8trzXja4ZfmqFKt',\n",
       "   'artist_uri': 'spotify:artist:34jw2BbxjoYalTp8cJFCPv',\n",
       "   'track_name': 'Stairway to Heaven (Live At The Kennedy Center Honors)',\n",
       "   'album_uri': 'spotify:album:0R1bzKE9eDnJuozWK253BL',\n",
       "   'duration_ms': 478819,\n",
       "   'album_name': 'Stairway to Heaven (Live At The Kennedy Center Honors)'},\n",
       "  {'pos': 44,\n",
       "   'artist_name': 'Evanescence',\n",
       "   'track_uri': 'spotify:track:2xjxlKErJn74pDjpIIIZnf',\n",
       "   'artist_uri': 'spotify:artist:5nGIFgo0shDenQYSE0Sn7c',\n",
       "   'track_name': 'Bring Me To Life - Live From Le Zénith,France/2004',\n",
       "   'album_uri': 'spotify:album:59Fxlo6NV3ZAUCelWAS7Pl',\n",
       "   'duration_ms': 283760,\n",
       "   'album_name': 'Anywhere But Home'},\n",
       "  {'pos': 45,\n",
       "   'artist_name': 'Queen',\n",
       "   'track_uri': 'spotify:track:2fuCquhmrzHpu5xcA1ci9x',\n",
       "   'artist_uri': 'spotify:artist:1dfeR4HaWDbWqFHLkxsg1d',\n",
       "   'track_name': 'Under Pressure - Remastered 2011',\n",
       "   'album_uri': 'spotify:album:6reTSIf5MoBco62rk8T7Q1',\n",
       "   'duration_ms': 248440,\n",
       "   'album_name': 'Hot Space'},\n",
       "  {'pos': 46,\n",
       "   'artist_name': 'Dave Matthews Band',\n",
       "   'track_uri': 'spotify:track:1qHXpsRP2gwteJCPUrc9wA',\n",
       "   'artist_uri': 'spotify:artist:2TI7qyDE0QfyOlnbtfDo7L',\n",
       "   'track_name': 'You & Me',\n",
       "   'album_uri': 'spotify:album:0rbGx96lGWaTAPgd1a9fWR',\n",
       "   'duration_ms': 340533,\n",
       "   'album_name': 'Big Whiskey and the GrooGrux King'},\n",
       "  {'pos': 47,\n",
       "   'artist_name': 'Chris Stapleton',\n",
       "   'track_uri': 'spotify:track:3fqwjXwUGN6vbzIwvyFMhx',\n",
       "   'artist_uri': 'spotify:artist:4YLtscXsxbVgi031ovDDdh',\n",
       "   'track_name': 'Tennessee Whiskey',\n",
       "   'album_uri': 'spotify:album:7lxHnls3yQNl8B9bILmHj7',\n",
       "   'duration_ms': 293293,\n",
       "   'album_name': 'Traveller'},\n",
       "  {'pos': 48,\n",
       "   'artist_name': 'P!nk',\n",
       "   'track_uri': 'spotify:track:4kWXYls0WkkB363cl7x82D',\n",
       "   'artist_uri': 'spotify:artist:1KCSPY1glIKqW2TotWuXOR',\n",
       "   'track_name': 'Mean',\n",
       "   'album_uri': 'spotify:album:2MqP4akeOQpLkq7jpQqlHT',\n",
       "   'duration_ms': 257906,\n",
       "   'album_name': 'Funhouse: The Tour Edition'},\n",
       "  {'pos': 49,\n",
       "   'artist_name': 'P!nk',\n",
       "   'track_uri': 'spotify:track:7wvptWp2c8tHKzylMeh73K',\n",
       "   'artist_uri': 'spotify:artist:1KCSPY1glIKqW2TotWuXOR',\n",
       "   'track_name': 'Crystal Ball',\n",
       "   'album_uri': 'spotify:album:2MqP4akeOQpLkq7jpQqlHT',\n",
       "   'duration_ms': 206293,\n",
       "   'album_name': 'Funhouse: The Tour Edition'},\n",
       "  {'pos': 50,\n",
       "   'artist_name': 'Raury',\n",
       "   'track_uri': 'spotify:track:2uK0gfnFYHKpb73WkQml8h',\n",
       "   'artist_uri': 'spotify:artist:2PU4qFehXQF7WnlFsJpBiJ',\n",
       "   'track_name': \"Devil's Whisper\",\n",
       "   'album_uri': 'spotify:album:5UOaWbjsdPwjPzzQbCGPWl',\n",
       "   'duration_ms': 220920,\n",
       "   'album_name': 'All We Need'},\n",
       "  {'pos': 51,\n",
       "   'artist_name': 'Eddie Vedder',\n",
       "   'track_uri': 'spotify:track:6O6uCLip9LyOJhm6iV7M2y',\n",
       "   'artist_uri': 'spotify:artist:0mXTJETA4XUa12MmmXxZJh',\n",
       "   'track_name': 'Long Nights',\n",
       "   'album_uri': 'spotify:album:4kgUVxCBvTnJIeyHpclrNl',\n",
       "   'duration_ms': 151773,\n",
       "   'album_name': 'Into The Wild'},\n",
       "  {'pos': 52,\n",
       "   'artist_name': 'Glen Hansard',\n",
       "   'track_uri': 'spotify:track:6EIVLz5xM1xE29r0OmIkWt',\n",
       "   'artist_uri': 'spotify:artist:3Caot8EtHX6wLpNF2wRzS0',\n",
       "   'track_name': 'Falling Slowly',\n",
       "   'album_uri': 'spotify:album:4BUG3kfPOB6DWVKKDY2icE',\n",
       "   'duration_ms': 244133,\n",
       "   'album_name': 'Music From The Motion Picture Once'},\n",
       "  {'pos': 53,\n",
       "   'artist_name': 'Glen Hansard',\n",
       "   'track_uri': 'spotify:track:0Tn997k4OPDZaT96R1MR8r',\n",
       "   'artist_uri': 'spotify:artist:3Caot8EtHX6wLpNF2wRzS0',\n",
       "   'track_name': 'All The Way Down',\n",
       "   'album_uri': 'spotify:album:4BUG3kfPOB6DWVKKDY2icE',\n",
       "   'duration_ms': 159346,\n",
       "   'album_name': 'Music From The Motion Picture Once'},\n",
       "  {'pos': 54,\n",
       "   'artist_name': 'Cage The Elephant',\n",
       "   'track_uri': 'spotify:track:2tznHmp70DxMyr2XhWLOW0',\n",
       "   'artist_uri': 'spotify:artist:26T3LtbuGT1Fu9m0eRq5X3',\n",
       "   'track_name': 'Cigarette Daydreams',\n",
       "   'album_uri': 'spotify:album:4EK8gtQfdVsmDTji7gBFlz',\n",
       "   'duration_ms': 208760,\n",
       "   'album_name': 'Melophobia'},\n",
       "  {'pos': 55,\n",
       "   'artist_name': 'Kate Bush',\n",
       "   'track_uri': 'spotify:track:1Q0sruYhnsq6lmhWgeRFh5',\n",
       "   'artist_uri': 'spotify:artist:1aSxMhuvixZ8h9dK9jIDwL',\n",
       "   'track_name': \"This Woman's Work\",\n",
       "   'album_uri': 'spotify:album:0Bk6rV33JObdtOpjJg0vIy',\n",
       "   'duration_ms': 218906,\n",
       "   'album_name': 'The Sensual World'},\n",
       "  {'pos': 56,\n",
       "   'artist_name': 'The Black Keys',\n",
       "   'track_uri': 'spotify:track:2MVwrvjmcdt4MsYYLCYMt8',\n",
       "   'artist_uri': 'spotify:artist:7mnBLXK823vNxN3UWB7Gfz',\n",
       "   'track_name': 'Tighten Up',\n",
       "   'album_uri': 'spotify:album:7qE6RXYyz5kj5Tll7mJU0v',\n",
       "   'duration_ms': 211080,\n",
       "   'album_name': 'Brothers'},\n",
       "  {'pos': 57,\n",
       "   'artist_name': 'Ed Sheeran',\n",
       "   'track_uri': 'spotify:track:1Slwb6dOYkBlWal1PGtnNg',\n",
       "   'artist_uri': 'spotify:artist:6eUKZXaKkcviH0Ku9w2n3V',\n",
       "   'track_name': 'Thinking Out Loud',\n",
       "   'album_uri': 'spotify:album:6NoBzYmh5gUusGPCfg0pct',\n",
       "   'duration_ms': 281560,\n",
       "   'album_name': 'x'},\n",
       "  {'pos': 58,\n",
       "   'artist_name': 'The National',\n",
       "   'track_uri': 'spotify:track:33xh6sgYhga7iQ7HARN7V6',\n",
       "   'artist_uri': 'spotify:artist:2cCUtGK9sDU2EoElnk0GNB',\n",
       "   'track_name': 'About Today',\n",
       "   'album_uri': 'spotify:album:12G4rtxl2ZFl1BVsKUomB9',\n",
       "   'duration_ms': 250760,\n",
       "   'album_name': 'Cherry Tree'},\n",
       "  {'pos': 59,\n",
       "   'artist_name': 'The Civil Wars',\n",
       "   'track_uri': 'spotify:track:5gRUHiPQKr4JNh1cFR50PF',\n",
       "   'artist_uri': 'spotify:artist:6J7rw7NELJUCThPbAfyLIE',\n",
       "   'track_name': 'To Whom It May Concern',\n",
       "   'album_uri': 'spotify:album:6tQjO7LXVL6byHa0ZF4emD',\n",
       "   'duration_ms': 211346,\n",
       "   'album_name': 'Barton Hollow'},\n",
       "  {'pos': 60,\n",
       "   'artist_name': 'Indigo Girls',\n",
       "   'track_uri': 'spotify:track:5Z23PEDJZK0ppK1tyMXpcI',\n",
       "   'artist_uri': 'spotify:artist:4wM29TDTr3HI0qFY3KoSFG',\n",
       "   'track_name': 'All That We Let In',\n",
       "   'album_uri': 'spotify:album:6Oh7EHUJqX7SYPq6K5KbPl',\n",
       "   'duration_ms': 278200,\n",
       "   'album_name': 'All That We Let In'},\n",
       "  {'pos': 61,\n",
       "   'artist_name': 'Indigo Girls',\n",
       "   'track_uri': 'spotify:track:5kfq8LQa2BgSz6WGlZJySk',\n",
       "   'artist_uri': 'spotify:artist:4wM29TDTr3HI0qFY3KoSFG',\n",
       "   'track_name': 'Closer to fine',\n",
       "   'album_uri': 'spotify:album:0HX6Lqi58R0eCWR5LKIrkP',\n",
       "   'duration_ms': 240800,\n",
       "   'album_name': 'Indigo Girls/Strange Fire/Nomads, Indians, Saints (3 Pak for Costco Only)'},\n",
       "  {'pos': 62,\n",
       "   'artist_name': \"Israel Kamakawiwo'ole\",\n",
       "   'track_uri': 'spotify:track:3HU4vFJPelZfj0xyJDVALk',\n",
       "   'artist_uri': 'spotify:artist:4ogvuDRerGhZfSf7TtzHlr',\n",
       "   'track_name': 'Over The Rainbow',\n",
       "   'album_uri': 'spotify:album:48233DEdh8xA32E1BZoc3H',\n",
       "   'duration_ms': 210651,\n",
       "   'album_name': 'Alone In IZ World'},\n",
       "  {'pos': 63,\n",
       "   'artist_name': 'Adele',\n",
       "   'track_uri': 'spotify:track:4I3KMa9p00MJwWbT0vi5iX',\n",
       "   'artist_uri': 'spotify:artist:4dpARuHxo51G3z768sgnrY',\n",
       "   'track_name': 'One And Only',\n",
       "   'album_uri': 'spotify:album:1azUkThwd2HfUDdeNeT147',\n",
       "   'duration_ms': 346813,\n",
       "   'album_name': '21'},\n",
       "  {'pos': 64,\n",
       "   'artist_name': 'Adele',\n",
       "   'track_uri': 'spotify:track:4sPmO7WMQUAf45kwMOtONw',\n",
       "   'artist_uri': 'spotify:artist:4dpARuHxo51G3z768sgnrY',\n",
       "   'track_name': 'Hello',\n",
       "   'album_uri': 'spotify:album:0K4pIOOsfJ9lK8OjrZfXzd',\n",
       "   'duration_ms': 295493,\n",
       "   'album_name': '25'},\n",
       "  {'pos': 65,\n",
       "   'artist_name': 'Adele',\n",
       "   'track_uri': 'spotify:track:1CkvWZme3pRgbzaxZnTl5X',\n",
       "   'artist_uri': 'spotify:artist:4dpARuHxo51G3z768sgnrY',\n",
       "   'track_name': 'Rolling in the Deep',\n",
       "   'album_uri': 'spotify:album:1azUkThwd2HfUDdeNeT147',\n",
       "   'duration_ms': 228293,\n",
       "   'album_name': '21'},\n",
       "  {'pos': 66,\n",
       "   'artist_name': 'The Lumineers',\n",
       "   'track_uri': 'spotify:track:2d9totnSVmmczPtHFl8Ys6',\n",
       "   'artist_uri': 'spotify:artist:16oZKvXb6WkQlVAjwo2Wbg',\n",
       "   'track_name': 'Sleep On The Floor',\n",
       "   'album_uri': 'spotify:album:03WMNRxqKog3sBZ6G5jGDw',\n",
       "   'duration_ms': 211840,\n",
       "   'album_name': 'Cleopatra'},\n",
       "  {'pos': 67,\n",
       "   'artist_name': 'X Ambassadors',\n",
       "   'track_uri': 'spotify:track:7lGKEWMXVWWTt3X71Bv44I',\n",
       "   'artist_uri': 'spotify:artist:3NPpFNZtSTHheNBaWC82rB',\n",
       "   'track_name': 'Unsteady',\n",
       "   'album_uri': 'spotify:album:7A8fZ2jjiu5heq7wNCutKN',\n",
       "   'duration_ms': 193546,\n",
       "   'album_name': 'VHS'},\n",
       "  {'pos': 68,\n",
       "   'artist_name': 'Evanescence',\n",
       "   'track_uri': 'spotify:track:1C0vXECyJHUeqOo2Etvrr2',\n",
       "   'artist_uri': 'spotify:artist:5nGIFgo0shDenQYSE0Sn7c',\n",
       "   'track_name': 'My Immortal',\n",
       "   'album_uri': 'spotify:album:20mh1X1FQQidKMu2XypyMI',\n",
       "   'duration_ms': 262533,\n",
       "   'album_name': 'Fallen'},\n",
       "  {'pos': 69,\n",
       "   'artist_name': 'The Head and the Heart',\n",
       "   'track_uri': 'spotify:track:7jOXGeS0v0rdFssNy7Mxkn',\n",
       "   'artist_uri': 'spotify:artist:0n94vC3S9c3mb2HyNAOcjg',\n",
       "   'track_name': 'Lost In My Mind',\n",
       "   'album_uri': 'spotify:album:4JKVVz1tD8PYKoXIZ7ZEJy',\n",
       "   'duration_ms': 259120,\n",
       "   'album_name': 'The Head And The Heart'},\n",
       "  {'pos': 70,\n",
       "   'artist_name': 'Paolo Nutini',\n",
       "   'track_uri': 'spotify:track:2UXO3rKTfsfPieGDQHgG6q',\n",
       "   'artist_uri': 'spotify:artist:7x5rK9BClDQ8wmCkYAGsQp',\n",
       "   'track_name': 'Last Request',\n",
       "   'album_uri': 'spotify:album:6jvaYzdcyKbh1B8ZWAfPix',\n",
       "   'duration_ms': 220413,\n",
       "   'album_name': 'These Streets'},\n",
       "  {'pos': 71,\n",
       "   'artist_name': 'The Paper Kites',\n",
       "   'track_uri': 'spotify:track:41yIvlFgvGwxq8qTqAR7eG',\n",
       "   'artist_uri': 'spotify:artist:79hrYiudVcFyyxyJW0ipTy',\n",
       "   'track_name': 'Bloom - Bonus Track',\n",
       "   'album_uri': 'spotify:album:5l8axHOB8sCsWqfK5XVtbF',\n",
       "   'duration_ms': 210080,\n",
       "   'album_name': 'Woodland - EP'}],\n",
       " 'num_edits': 19,\n",
       " 'duration_ms': 17319215,\n",
       " 'num_artists': 41}"
      ]
     },
     "execution_count": 6,
     "metadata": {},
     "output_type": "execute_result"
    }
   ],
   "source": [
    "file[700]"
   ]
  },
  {
   "cell_type": "markdown",
   "metadata": {},
   "source": [
    "## I guess the best way to find similar songs is by finding which songs are on the same playlists.  I'll try making a list of tracks first.  Tracks by different artists could have the same name, so I'll use the Spotify track URI (User Resource Indicator) as the unique label.  We end up with 67,503 tracks from the first 1,000 playlists."
   ]
  },
  {
   "cell_type": "code",
   "execution_count": 7,
   "metadata": {},
   "outputs": [],
   "source": [
    "OnePlaylist = []\n",
    "for x in file:\n",
    "    for y in x['tracks']:\n",
    "        OnePlaylist.append([y['track_uri'], y['artist_name'], y['track_name'], x['pid'], x['name']])"
   ]
  },
  {
   "cell_type": "code",
   "execution_count": 8,
   "metadata": {},
   "outputs": [
    {
     "data": {
      "text/plain": [
       "67503"
      ]
     },
     "execution_count": 8,
     "metadata": {},
     "output_type": "execute_result"
    }
   ],
   "source": [
    "OnePlaylist = pd.DataFrame(OnePlaylist, columns=['Spotify Track URI', 'Artist Name', 'Track Name', 'Playist ID #', 'Playlist Name'])\n",
    "len(OnePlaylist)"
   ]
  },
  {
   "cell_type": "code",
   "execution_count": 9,
   "metadata": {},
   "outputs": [
    {
     "data": {
      "text/html": [
       "<div>\n",
       "<style scoped>\n",
       "    .dataframe tbody tr th:only-of-type {\n",
       "        vertical-align: middle;\n",
       "    }\n",
       "\n",
       "    .dataframe tbody tr th {\n",
       "        vertical-align: top;\n",
       "    }\n",
       "\n",
       "    .dataframe thead th {\n",
       "        text-align: right;\n",
       "    }\n",
       "</style>\n",
       "<table border=\"1\" class=\"dataframe\">\n",
       "  <thead>\n",
       "    <tr style=\"text-align: right;\">\n",
       "      <th></th>\n",
       "      <th>Spotify Track URI</th>\n",
       "      <th>Artist Name</th>\n",
       "      <th>Track Name</th>\n",
       "      <th>Playist ID #</th>\n",
       "      <th>Playlist Name</th>\n",
       "    </tr>\n",
       "  </thead>\n",
       "  <tbody>\n",
       "    <tr>\n",
       "      <th>0</th>\n",
       "      <td>spotify:track:0UaMYEvWZi0ZqiDOoHU3YI</td>\n",
       "      <td>Missy Elliott</td>\n",
       "      <td>Lose Control (feat. Ciara &amp; Fat Man Scoop)</td>\n",
       "      <td>0</td>\n",
       "      <td>Throwbacks</td>\n",
       "    </tr>\n",
       "    <tr>\n",
       "      <th>1</th>\n",
       "      <td>spotify:track:6I9VzXrHxO9rA9A5euc8Ak</td>\n",
       "      <td>Britney Spears</td>\n",
       "      <td>Toxic</td>\n",
       "      <td>0</td>\n",
       "      <td>Throwbacks</td>\n",
       "    </tr>\n",
       "    <tr>\n",
       "      <th>2</th>\n",
       "      <td>spotify:track:0WqIKmW4BTrj3eJFmnCKMv</td>\n",
       "      <td>Beyoncé</td>\n",
       "      <td>Crazy In Love</td>\n",
       "      <td>0</td>\n",
       "      <td>Throwbacks</td>\n",
       "    </tr>\n",
       "    <tr>\n",
       "      <th>3</th>\n",
       "      <td>spotify:track:1AWQoqb9bSvzTjaLralEkT</td>\n",
       "      <td>Justin Timberlake</td>\n",
       "      <td>Rock Your Body</td>\n",
       "      <td>0</td>\n",
       "      <td>Throwbacks</td>\n",
       "    </tr>\n",
       "    <tr>\n",
       "      <th>4</th>\n",
       "      <td>spotify:track:1lzr43nnXAijIGYnCT8M8H</td>\n",
       "      <td>Shaggy</td>\n",
       "      <td>It Wasn't Me</td>\n",
       "      <td>0</td>\n",
       "      <td>Throwbacks</td>\n",
       "    </tr>\n",
       "  </tbody>\n",
       "</table>\n",
       "</div>"
      ],
      "text/plain": [
       "                      Spotify Track URI        Artist Name  \\\n",
       "0  spotify:track:0UaMYEvWZi0ZqiDOoHU3YI      Missy Elliott   \n",
       "1  spotify:track:6I9VzXrHxO9rA9A5euc8Ak     Britney Spears   \n",
       "2  spotify:track:0WqIKmW4BTrj3eJFmnCKMv            Beyoncé   \n",
       "3  spotify:track:1AWQoqb9bSvzTjaLralEkT  Justin Timberlake   \n",
       "4  spotify:track:1lzr43nnXAijIGYnCT8M8H             Shaggy   \n",
       "\n",
       "                                   Track Name  Playist ID # Playlist Name  \n",
       "0  Lose Control (feat. Ciara & Fat Man Scoop)             0    Throwbacks  \n",
       "1                                       Toxic             0    Throwbacks  \n",
       "2                               Crazy In Love             0    Throwbacks  \n",
       "3                              Rock Your Body             0    Throwbacks  \n",
       "4                                It Wasn't Me             0    Throwbacks  "
      ]
     },
     "execution_count": 9,
     "metadata": {},
     "output_type": "execute_result"
    }
   ],
   "source": [
    "OnePlaylist.head()"
   ]
  },
  {
   "cell_type": "code",
   "execution_count": 10,
   "metadata": {
    "scrolled": true
   },
   "outputs": [
    {
     "data": {
      "text/html": [
       "<div>\n",
       "<style scoped>\n",
       "    .dataframe tbody tr th:only-of-type {\n",
       "        vertical-align: middle;\n",
       "    }\n",
       "\n",
       "    .dataframe tbody tr th {\n",
       "        vertical-align: top;\n",
       "    }\n",
       "\n",
       "    .dataframe thead th {\n",
       "        text-align: right;\n",
       "    }\n",
       "</style>\n",
       "<table border=\"1\" class=\"dataframe\">\n",
       "  <thead>\n",
       "    <tr style=\"text-align: right;\">\n",
       "      <th></th>\n",
       "      <th>Spotify Track URI</th>\n",
       "      <th>Artist Name</th>\n",
       "      <th>Track Name</th>\n",
       "      <th>Playist ID #</th>\n",
       "      <th>Playlist Name</th>\n",
       "    </tr>\n",
       "  </thead>\n",
       "  <tbody>\n",
       "    <tr>\n",
       "      <th>67498</th>\n",
       "      <td>spotify:track:5uCax9HTNlzGybIStD3vDh</td>\n",
       "      <td>James Arthur</td>\n",
       "      <td>Say You Won't Let Go</td>\n",
       "      <td>999</td>\n",
       "      <td>thinking of you</td>\n",
       "    </tr>\n",
       "    <tr>\n",
       "      <th>67499</th>\n",
       "      <td>spotify:track:0P1oO2gREMYUCoOkzYAyFu</td>\n",
       "      <td>Big Words</td>\n",
       "      <td>The Answer</td>\n",
       "      <td>999</td>\n",
       "      <td>thinking of you</td>\n",
       "    </tr>\n",
       "    <tr>\n",
       "      <th>67500</th>\n",
       "      <td>spotify:track:2oM4BuruDnEvk59IvIXCwn</td>\n",
       "      <td>Allan Rayman</td>\n",
       "      <td>25.22</td>\n",
       "      <td>999</td>\n",
       "      <td>thinking of you</td>\n",
       "    </tr>\n",
       "    <tr>\n",
       "      <th>67501</th>\n",
       "      <td>spotify:track:4Ri5TTUgjM96tbQZd5Ua7V</td>\n",
       "      <td>Jon Jason</td>\n",
       "      <td>Good Feeling</td>\n",
       "      <td>999</td>\n",
       "      <td>thinking of you</td>\n",
       "    </tr>\n",
       "    <tr>\n",
       "      <th>67502</th>\n",
       "      <td>spotify:track:5RVuBrXVLptAEbGJdSDzL5</td>\n",
       "      <td>Grizfolk</td>\n",
       "      <td>Cosmic Angel - Acoustic From Capitol Studios</td>\n",
       "      <td>999</td>\n",
       "      <td>thinking of you</td>\n",
       "    </tr>\n",
       "  </tbody>\n",
       "</table>\n",
       "</div>"
      ],
      "text/plain": [
       "                          Spotify Track URI   Artist Name  \\\n",
       "67498  spotify:track:5uCax9HTNlzGybIStD3vDh  James Arthur   \n",
       "67499  spotify:track:0P1oO2gREMYUCoOkzYAyFu     Big Words   \n",
       "67500  spotify:track:2oM4BuruDnEvk59IvIXCwn  Allan Rayman   \n",
       "67501  spotify:track:4Ri5TTUgjM96tbQZd5Ua7V     Jon Jason   \n",
       "67502  spotify:track:5RVuBrXVLptAEbGJdSDzL5      Grizfolk   \n",
       "\n",
       "                                         Track Name  Playist ID #  \\\n",
       "67498                          Say You Won't Let Go           999   \n",
       "67499                                    The Answer           999   \n",
       "67500                                         25.22           999   \n",
       "67501                                  Good Feeling           999   \n",
       "67502  Cosmic Angel - Acoustic From Capitol Studios           999   \n",
       "\n",
       "         Playlist Name  \n",
       "67498  thinking of you  \n",
       "67499  thinking of you  \n",
       "67500  thinking of you  \n",
       "67501  thinking of you  \n",
       "67502  thinking of you  "
      ]
     },
     "execution_count": 10,
     "metadata": {},
     "output_type": "execute_result"
    }
   ],
   "source": [
    "OnePlaylist.tail()"
   ]
  },
  {
   "cell_type": "markdown",
   "metadata": {},
   "source": [
    "## So let's make a way that we could add more data.  Loading 10 JSONs."
   ]
  },
  {
   "cell_type": "code",
   "execution_count": 11,
   "metadata": {},
   "outputs": [],
   "source": [
    "df = []\n",
    "for x in range(0,10):\n",
    "    low = 1000 * x\n",
    "    high = low + 999\n",
    "    path = \"data/mpd.slice.\" + str(low) + \"-\" + str(high) + \".json\"\n",
    "    with open(path) as f:\n",
    "        file = json.load(f)\n",
    "        file = file['playlists'] \n",
    "        for y in file:\n",
    "            for z in y['tracks']:\n",
    "                df.append([z['track_uri'], z['artist_name'], z['track_name'], y['pid'], y['name']])"
   ]
  },
  {
   "cell_type": "markdown",
   "metadata": {},
   "source": [
    "## Total length of all tracks in all playlists (including tracks that appear in multiple playlists)."
   ]
  },
  {
   "cell_type": "code",
   "execution_count": 12,
   "metadata": {
    "scrolled": true
   },
   "outputs": [
    {
     "data": {
      "text/plain": [
       "664712"
      ]
     },
     "execution_count": 12,
     "metadata": {},
     "output_type": "execute_result"
    }
   ],
   "source": [
    "df = pd.DataFrame(df, columns=['Spotify Track URI', 'Artist Name', 'Track Name', 'Playist ID #', 'Playlist Name'])\n",
    "len(df)"
   ]
  },
  {
   "cell_type": "markdown",
   "metadata": {},
   "source": [
    "## I combined the track artist and title and added a rating column ('1' for each track in each playlist)."
   ]
  },
  {
   "cell_type": "code",
   "execution_count": 13,
   "metadata": {},
   "outputs": [],
   "source": [
    "df['Track Name'] = df['Artist Name']+' - '+df['Track Name']\n",
    "df.drop('Artist Name', axis=1, inplace=True)\n",
    "df['Rating']=1"
   ]
  },
  {
   "cell_type": "code",
   "execution_count": 14,
   "metadata": {},
   "outputs": [
    {
     "data": {
      "text/html": [
       "<div>\n",
       "<style scoped>\n",
       "    .dataframe tbody tr th:only-of-type {\n",
       "        vertical-align: middle;\n",
       "    }\n",
       "\n",
       "    .dataframe tbody tr th {\n",
       "        vertical-align: top;\n",
       "    }\n",
       "\n",
       "    .dataframe thead th {\n",
       "        text-align: right;\n",
       "    }\n",
       "</style>\n",
       "<table border=\"1\" class=\"dataframe\">\n",
       "  <thead>\n",
       "    <tr style=\"text-align: right;\">\n",
       "      <th></th>\n",
       "      <th>Spotify Track URI</th>\n",
       "      <th>Track Name</th>\n",
       "      <th>Playist ID #</th>\n",
       "      <th>Playlist Name</th>\n",
       "      <th>Rating</th>\n",
       "    </tr>\n",
       "  </thead>\n",
       "  <tbody>\n",
       "    <tr>\n",
       "      <th>0</th>\n",
       "      <td>spotify:track:0UaMYEvWZi0ZqiDOoHU3YI</td>\n",
       "      <td>Missy Elliott - Lose Control (feat. Ciara &amp; Fa...</td>\n",
       "      <td>0</td>\n",
       "      <td>Throwbacks</td>\n",
       "      <td>1</td>\n",
       "    </tr>\n",
       "    <tr>\n",
       "      <th>1</th>\n",
       "      <td>spotify:track:6I9VzXrHxO9rA9A5euc8Ak</td>\n",
       "      <td>Britney Spears - Toxic</td>\n",
       "      <td>0</td>\n",
       "      <td>Throwbacks</td>\n",
       "      <td>1</td>\n",
       "    </tr>\n",
       "    <tr>\n",
       "      <th>2</th>\n",
       "      <td>spotify:track:0WqIKmW4BTrj3eJFmnCKMv</td>\n",
       "      <td>Beyoncé - Crazy In Love</td>\n",
       "      <td>0</td>\n",
       "      <td>Throwbacks</td>\n",
       "      <td>1</td>\n",
       "    </tr>\n",
       "    <tr>\n",
       "      <th>3</th>\n",
       "      <td>spotify:track:1AWQoqb9bSvzTjaLralEkT</td>\n",
       "      <td>Justin Timberlake - Rock Your Body</td>\n",
       "      <td>0</td>\n",
       "      <td>Throwbacks</td>\n",
       "      <td>1</td>\n",
       "    </tr>\n",
       "    <tr>\n",
       "      <th>4</th>\n",
       "      <td>spotify:track:1lzr43nnXAijIGYnCT8M8H</td>\n",
       "      <td>Shaggy - It Wasn't Me</td>\n",
       "      <td>0</td>\n",
       "      <td>Throwbacks</td>\n",
       "      <td>1</td>\n",
       "    </tr>\n",
       "  </tbody>\n",
       "</table>\n",
       "</div>"
      ],
      "text/plain": [
       "                      Spotify Track URI  \\\n",
       "0  spotify:track:0UaMYEvWZi0ZqiDOoHU3YI   \n",
       "1  spotify:track:6I9VzXrHxO9rA9A5euc8Ak   \n",
       "2  spotify:track:0WqIKmW4BTrj3eJFmnCKMv   \n",
       "3  spotify:track:1AWQoqb9bSvzTjaLralEkT   \n",
       "4  spotify:track:1lzr43nnXAijIGYnCT8M8H   \n",
       "\n",
       "                                          Track Name  Playist ID #  \\\n",
       "0  Missy Elliott - Lose Control (feat. Ciara & Fa...             0   \n",
       "1                             Britney Spears - Toxic             0   \n",
       "2                            Beyoncé - Crazy In Love             0   \n",
       "3                 Justin Timberlake - Rock Your Body             0   \n",
       "4                              Shaggy - It Wasn't Me             0   \n",
       "\n",
       "  Playlist Name  Rating  \n",
       "0    Throwbacks       1  \n",
       "1    Throwbacks       1  \n",
       "2    Throwbacks       1  \n",
       "3    Throwbacks       1  \n",
       "4    Throwbacks       1  "
      ]
     },
     "execution_count": 14,
     "metadata": {},
     "output_type": "execute_result"
    }
   ],
   "source": [
    "df.head()"
   ]
  },
  {
   "cell_type": "code",
   "execution_count": 15,
   "metadata": {},
   "outputs": [
    {
     "data": {
      "text/html": [
       "<div>\n",
       "<style scoped>\n",
       "    .dataframe tbody tr th:only-of-type {\n",
       "        vertical-align: middle;\n",
       "    }\n",
       "\n",
       "    .dataframe tbody tr th {\n",
       "        vertical-align: top;\n",
       "    }\n",
       "\n",
       "    .dataframe thead th {\n",
       "        text-align: right;\n",
       "    }\n",
       "</style>\n",
       "<table border=\"1\" class=\"dataframe\">\n",
       "  <thead>\n",
       "    <tr style=\"text-align: right;\">\n",
       "      <th></th>\n",
       "      <th>Spotify Track URI</th>\n",
       "      <th>Track Name</th>\n",
       "      <th>Playist ID #</th>\n",
       "      <th>Playlist Name</th>\n",
       "      <th>Rating</th>\n",
       "    </tr>\n",
       "  </thead>\n",
       "  <tbody>\n",
       "    <tr>\n",
       "      <th>664707</th>\n",
       "      <td>spotify:track:6ZOPiKQeibCn7fP8dncucL</td>\n",
       "      <td>Keith Urban - Blue Ain't Your Color</td>\n",
       "      <td>9999</td>\n",
       "      <td>Country jams</td>\n",
       "      <td>1</td>\n",
       "    </tr>\n",
       "    <tr>\n",
       "      <th>664708</th>\n",
       "      <td>spotify:track:7pxhKtuTwofDIdgHx2DcVK</td>\n",
       "      <td>Dustin Lynch - Seein' Red</td>\n",
       "      <td>9999</td>\n",
       "      <td>Country jams</td>\n",
       "      <td>1</td>\n",
       "    </tr>\n",
       "    <tr>\n",
       "      <th>664709</th>\n",
       "      <td>spotify:track:7mldq42yDuxiUNn08nvzHO</td>\n",
       "      <td>Sam Hunt - Body Like A Back Road</td>\n",
       "      <td>9999</td>\n",
       "      <td>Country jams</td>\n",
       "      <td>1</td>\n",
       "    </tr>\n",
       "    <tr>\n",
       "      <th>664710</th>\n",
       "      <td>spotify:track:23TxRN09aR1RB0G0tFoT0b</td>\n",
       "      <td>Little Big Town - Better Man</td>\n",
       "      <td>9999</td>\n",
       "      <td>Country jams</td>\n",
       "      <td>1</td>\n",
       "    </tr>\n",
       "    <tr>\n",
       "      <th>664711</th>\n",
       "      <td>spotify:track:2TAcwD5KcV9uY3O1tLGV15</td>\n",
       "      <td>Thompson Square - Are You Gonna Kiss Me Or Not</td>\n",
       "      <td>9999</td>\n",
       "      <td>Country jams</td>\n",
       "      <td>1</td>\n",
       "    </tr>\n",
       "  </tbody>\n",
       "</table>\n",
       "</div>"
      ],
      "text/plain": [
       "                           Spotify Track URI  \\\n",
       "664707  spotify:track:6ZOPiKQeibCn7fP8dncucL   \n",
       "664708  spotify:track:7pxhKtuTwofDIdgHx2DcVK   \n",
       "664709  spotify:track:7mldq42yDuxiUNn08nvzHO   \n",
       "664710  spotify:track:23TxRN09aR1RB0G0tFoT0b   \n",
       "664711  spotify:track:2TAcwD5KcV9uY3O1tLGV15   \n",
       "\n",
       "                                            Track Name  Playist ID #  \\\n",
       "664707             Keith Urban - Blue Ain't Your Color          9999   \n",
       "664708                       Dustin Lynch - Seein' Red          9999   \n",
       "664709                Sam Hunt - Body Like A Back Road          9999   \n",
       "664710                    Little Big Town - Better Man          9999   \n",
       "664711  Thompson Square - Are You Gonna Kiss Me Or Not          9999   \n",
       "\n",
       "       Playlist Name  Rating  \n",
       "664707  Country jams       1  \n",
       "664708  Country jams       1  \n",
       "664709  Country jams       1  \n",
       "664710  Country jams       1  \n",
       "664711  Country jams       1  "
      ]
     },
     "execution_count": 15,
     "metadata": {},
     "output_type": "execute_result"
    }
   ],
   "source": [
    "df.tail()"
   ]
  },
  {
   "cell_type": "markdown",
   "metadata": {},
   "source": [
    "## So there are 170k unique tracks out of 665k total tracks in all playlists.  Which is good, because we need overlapping tracks in order to make predictions this way."
   ]
  },
  {
   "cell_type": "code",
   "execution_count": 16,
   "metadata": {},
   "outputs": [
    {
     "data": {
      "text/html": [
       "<div>\n",
       "<style scoped>\n",
       "    .dataframe tbody tr th:only-of-type {\n",
       "        vertical-align: middle;\n",
       "    }\n",
       "\n",
       "    .dataframe tbody tr th {\n",
       "        vertical-align: top;\n",
       "    }\n",
       "\n",
       "    .dataframe thead th {\n",
       "        text-align: right;\n",
       "    }\n",
       "</style>\n",
       "<table border=\"1\" class=\"dataframe\">\n",
       "  <thead>\n",
       "    <tr style=\"text-align: right;\">\n",
       "      <th></th>\n",
       "      <th>count</th>\n",
       "      <th>unique</th>\n",
       "      <th>top</th>\n",
       "      <th>freq</th>\n",
       "      <th>mean</th>\n",
       "      <th>std</th>\n",
       "      <th>min</th>\n",
       "      <th>25%</th>\n",
       "      <th>50%</th>\n",
       "      <th>75%</th>\n",
       "      <th>max</th>\n",
       "    </tr>\n",
       "  </thead>\n",
       "  <tbody>\n",
       "    <tr>\n",
       "      <th>Spotify Track URI</th>\n",
       "      <td>664712</td>\n",
       "      <td>170089</td>\n",
       "      <td>spotify:track:7KXjTSCq5nL1LoYtL7XAwS</td>\n",
       "      <td>468</td>\n",
       "      <td>NaN</td>\n",
       "      <td>NaN</td>\n",
       "      <td>NaN</td>\n",
       "      <td>NaN</td>\n",
       "      <td>NaN</td>\n",
       "      <td>NaN</td>\n",
       "      <td>NaN</td>\n",
       "    </tr>\n",
       "    <tr>\n",
       "      <th>Track Name</th>\n",
       "      <td>664712</td>\n",
       "      <td>168069</td>\n",
       "      <td>Kendrick Lamar - HUMBLE.</td>\n",
       "      <td>468</td>\n",
       "      <td>NaN</td>\n",
       "      <td>NaN</td>\n",
       "      <td>NaN</td>\n",
       "      <td>NaN</td>\n",
       "      <td>NaN</td>\n",
       "      <td>NaN</td>\n",
       "      <td>NaN</td>\n",
       "    </tr>\n",
       "    <tr>\n",
       "      <th>Playist ID #</th>\n",
       "      <td>664712</td>\n",
       "      <td>NaN</td>\n",
       "      <td>NaN</td>\n",
       "      <td>NaN</td>\n",
       "      <td>4971.48</td>\n",
       "      <td>2873.04</td>\n",
       "      <td>0</td>\n",
       "      <td>2479</td>\n",
       "      <td>4957</td>\n",
       "      <td>7451</td>\n",
       "      <td>9999</td>\n",
       "    </tr>\n",
       "    <tr>\n",
       "      <th>Playlist Name</th>\n",
       "      <td>664712</td>\n",
       "      <td>5954</td>\n",
       "      <td>Country</td>\n",
       "      <td>13532</td>\n",
       "      <td>NaN</td>\n",
       "      <td>NaN</td>\n",
       "      <td>NaN</td>\n",
       "      <td>NaN</td>\n",
       "      <td>NaN</td>\n",
       "      <td>NaN</td>\n",
       "      <td>NaN</td>\n",
       "    </tr>\n",
       "    <tr>\n",
       "      <th>Rating</th>\n",
       "      <td>664712</td>\n",
       "      <td>NaN</td>\n",
       "      <td>NaN</td>\n",
       "      <td>NaN</td>\n",
       "      <td>1</td>\n",
       "      <td>0</td>\n",
       "      <td>1</td>\n",
       "      <td>1</td>\n",
       "      <td>1</td>\n",
       "      <td>1</td>\n",
       "      <td>1</td>\n",
       "    </tr>\n",
       "  </tbody>\n",
       "</table>\n",
       "</div>"
      ],
      "text/plain": [
       "                    count  unique                                   top  \\\n",
       "Spotify Track URI  664712  170089  spotify:track:7KXjTSCq5nL1LoYtL7XAwS   \n",
       "Track Name         664712  168069              Kendrick Lamar - HUMBLE.   \n",
       "Playist ID #       664712     NaN                                   NaN   \n",
       "Playlist Name      664712    5954                               Country   \n",
       "Rating             664712     NaN                                   NaN   \n",
       "\n",
       "                    freq     mean      std  min   25%   50%   75%   max  \n",
       "Spotify Track URI    468      NaN      NaN  NaN   NaN   NaN   NaN   NaN  \n",
       "Track Name           468      NaN      NaN  NaN   NaN   NaN   NaN   NaN  \n",
       "Playist ID #         NaN  4971.48  2873.04    0  2479  4957  7451  9999  \n",
       "Playlist Name      13532      NaN      NaN  NaN   NaN   NaN   NaN   NaN  \n",
       "Rating               NaN        1        0    1     1     1     1     1  "
      ]
     },
     "execution_count": 16,
     "metadata": {},
     "output_type": "execute_result"
    }
   ],
   "source": [
    "df.describe(include='all').T"
   ]
  },
  {
   "cell_type": "markdown",
   "metadata": {},
   "source": [
    "## Setting up the prediction system using LightFM."
   ]
  },
  {
   "cell_type": "code",
   "execution_count": 17,
   "metadata": {},
   "outputs": [],
   "source": [
    "# Creating interaction matrix using rating data\n",
    "interactions = create_interaction_matrix(df = df,\n",
    "                                         user_col = 'Playist ID #',\n",
    "                                         item_col = 'Spotify Track URI',\n",
    "                                         rating_col = 'Rating')\n",
    "#Create Model (could also add learning_rate, random_state, sample_weight, verbose)\n",
    "mf_model = runMF(interactions = interactions,\n",
    "                 n_components = 20,\n",
    "                 loss = 'warp',\n",
    "                 epoch = 250,\n",
    "                 n_jobs = 4)\n",
    "# Create User Dict\n",
    "user_dict = create_user_dict(interactions=interactions)\n",
    "# Create Item Dict\n",
    "track_dict = create_item_dict(df = df,\n",
    "                               id_col = 'Spotify Track URI',\n",
    "                               name_col = 'Track Name')"
   ]
  },
  {
   "cell_type": "code",
   "execution_count": 18,
   "metadata": {
    "scrolled": false
   },
   "outputs": [
    {
     "name": "stdout",
     "output_type": "stream",
     "text": [
      "Playlist Name: Amy\n",
      "Known Positives:\n",
      "1- P!nk - Crystal Ball\n",
      "2- X Ambassadors - Unsteady\n",
      "3- Fitz and The Tantrums - Roll Up\n",
      "4- The Head and the Heart - Lost In My Mind\n",
      "5- Fitz and The Tantrums - HandClap\n",
      "6- Fitz and The Tantrums - Complicated\n",
      "7- First Aid Kit - Emmylou - Spotify Sessions\n",
      "8- George Ezra - Budapest\n",
      "9- Mumford & Sons - Tompkins Square Park\n",
      "10- Heart - Stairway to Heaven (Live At The Kennedy Center Honors)\n",
      "11- Ed Sheeran - Photograph\n",
      "12- The Lumineers - Ophelia\n",
      "13- Eddie Vedder - Long Nights\n",
      "14- Imagine Dragons - Radioactive\n",
      "15- Glen Hansard - Falling Slowly\n",
      "16- Of Monsters and Men - Mountain Sound\n",
      "17- Heart - Crazy On You\n",
      "18- Ed Sheeran - Bloodstream\n",
      "19- Indigo Girls - Closer to fine\n",
      "20- The Civil Wars - To Whom It May Concern\n",
      "21- Of Monsters and Men - Dirty Paws\n",
      "22- The Head and the Heart - Down In The Valley\n",
      "23- Indigo Girls - All That We Let In\n",
      "24- The Lumineers - Slow It Down - Live At The Cannery Ball Room / 2013\n",
      "25- Eminem - The Monster\n",
      "26- Fitz and The Tantrums - Don’t Gotta Work It Out\n",
      "27- Band of Horses - No One's Gonna Love You - Live from Spotify Sweden\n",
      "28- The Black Keys - Lonely Boy\n",
      "29- Mumford & Sons - Little Lion Man - Live\n",
      "30- Adele - Hello\n",
      "31- Band of Horses - The Funeral\n",
      "32- P!nk - Mean\n",
      "33- Mumford & Sons - Believe - Live\n",
      "34- Adele - One And Only\n",
      "35- Arctic Monkeys - Why'd You Only Call Me When You're High?\n",
      "36- X Ambassadors - Renegades\n",
      "37- The Paper Kites - Bloom - Bonus Track\n",
      "38- Fitz and The Tantrums - Get Right Back\n",
      "39- Arctic Monkeys - Do I Wanna Know?\n",
      "40- Mumford & Sons - The Cave\n",
      "41- JAY Z - Empire State Of Mind\n",
      "42- Fitz and The Tantrums - Fools Gold\n",
      "43- Chris Stapleton - Tennessee Whiskey\n",
      "44- Bon Iver - Skinny Love\n",
      "45- Rihanna - Pon de Replay\n",
      "46- Fleet Foxes - Mykonos\n",
      "47- Israel Kamakawiwo'ole - Over The Rainbow\n",
      "48- Ed Sheeran - I See Fire\n",
      "49- The National - About Today\n",
      "50- Mark Ronson - Uptown Funk\n",
      "51- Evanescence - Bring Me To Life - Live From Le Zénith,France/2004\n",
      "52- Raury - Devil's Whisper\n",
      "53- Cage The Elephant - Cigarette Daydreams\n",
      "54- Iron & Wine - Naked As We Came\n",
      "55- Queen - Under Pressure - Remastered 2011\n",
      "56- Fitz and The Tantrums - MoneyGrabber\n",
      "57- The Lumineers - Sleep On The Floor\n",
      "58- Paolo Nutini - Last Request\n",
      "59- The Black Keys - Tighten Up\n",
      "60- Fitz and The Tantrums - Out Of My League\n",
      "61- Arctic Monkeys - R U Mine?\n",
      "62- Daughter - Youth\n",
      "63- Dave Matthews Band - You & Me\n",
      "64- The Lumineers - Ho Hey\n",
      "65- Alabama Shakes - Hold On\n",
      "66- Ed Sheeran - Thinking Out Loud\n",
      "67- Kate Bush - This Woman's Work\n",
      "68- Adele - Rolling in the Deep\n",
      "69- Evanescence - My Immortal\n",
      "70- Of Monsters and Men - Love Love Love\n",
      "71- The xx - Intro\n",
      "72- Glen Hansard - All The Way Down\n",
      "\n",
      " Recommended Tracks:\n",
      "1- Vance Joy - Riptide\n",
      "2- Mumford & Sons - I Will Wait\n",
      "3- The Lumineers - Stubborn Love\n",
      "4- Of Monsters and Men - Little Talks\n",
      "5- Mumford & Sons - Little Lion Man\n",
      "6- Edward Sharpe & The Magnetic Zeros - Home\n",
      "7- Grouplove - Tongue Tied\n",
      "8- Foster The People - Pumped Up Kicks\n",
      "9- Young the Giant - Cough Syrup\n",
      "10- The Killers - All These Things That I've Done\n",
      "11- The Lumineers - Flowers In Your Hair\n",
      "12- Passenger - Let Her Go\n",
      "13- Jack Johnson - Banana Pancakes\n",
      "14- Florence + The Machine - Dog Days Are Over\n",
      "15- Two Door Cinema Club - What You Know\n",
      "16- Vance Joy - Mess Is Mine\n",
      "17- Kodaline - All I Want\n",
      "18- alt-J - Breezeblocks\n",
      "19- MGMT - Kids\n",
      "20- The Neighbourhood - Sweater Weather\n"
     ]
    }
   ],
   "source": [
    "## Track recommendations for a playlist\n",
    "rec_list = sample_recommendation_user(model = mf_model, \n",
    "                                      interactions = interactions, \n",
    "                                      user_id = 700, \n",
    "                                      user_dict = user_dict,\n",
    "                                      item_dict = track_dict, \n",
    "                                      threshold = 0,\n",
    "                                      nrec_items = 20,\n",
    "                                      show = True)"
   ]
  },
  {
   "cell_type": "code",
   "execution_count": 19,
   "metadata": {},
   "outputs": [
    {
     "name": "stdout",
     "output_type": "stream",
     "text": [
      "Best matched playlists for given track:\n",
      "1- 7210 - Old school.\n",
      "2- 7953 - throw backs\n",
      "3- 1980 - TBT\n",
      "4- 5969 - Dance Party\n",
      "5- 1337 - Pool Party\n",
      "6- 3387 - 90s Dance\n",
      "7- 8930 - Old School\n",
      "8- 9212 - tbt\n",
      "9- 9715 - Throwback Music\n",
      "10- 8067 - prom\n",
      "11- 7358 - Fergie \n",
      "12- 1298 - erin\n",
      "13- 7959 - Pump It\n",
      "14- 9200 - the ultimate\n",
      "15- 7515 - Prom 2017 \n",
      "16- 4766 - Get Happy\n",
      "17- 2173 - Slow Songs\n",
      "18- 1538 - BOMB\n",
      "19- 678 - tb\n",
      "20- 6107 - Party songs\n"
     ]
    }
   ],
   "source": [
    "## Best playlist matches for a track\n",
    "pl_rec_list = sample_recommendation_item(model=mf_model,\n",
    "                                           interactions=interactions,\n",
    "                                           item_id='spotify:track:1AWQoqb9bSvzTjaLralEkT',\n",
    "                                           user_dict=user_dict,\n",
    "                                           item_dict=track_dict,\n",
    "                                           number_of_user=20)"
   ]
  },
  {
   "cell_type": "code",
   "execution_count": 20,
   "metadata": {},
   "outputs": [],
   "source": [
    "# item_dist_mat = create_item_emdedding_distance_matrix(model=mf_model,interactions=interactions)\n",
    "\n",
    "# ## Find tracks similar to a given track\n",
    "# item_item_recommendation(item_emdedding_distance_matrix=item_dist_mat, \n",
    "#                              item_id='spotify:track:1AWQoqb9bSvzTjaLralEkT', \n",
    "#                              item_dict=track_dict, \n",
    "#                              n_items = 20, \n",
    "#                              show = True)\n",
    "\n",
    "# RuntimeError: nnz of the result is too large"
   ]
  },
  {
   "cell_type": "markdown",
   "metadata": {},
   "source": [
    "## Create Sparse Matrix."
   ]
  },
  {
   "cell_type": "code",
   "execution_count": 21,
   "metadata": {},
   "outputs": [],
   "source": [
    "sparseInt = sparse.csr_matrix(interactions)"
   ]
  },
  {
   "cell_type": "code",
   "execution_count": 22,
   "metadata": {},
   "outputs": [
    {
     "data": {
      "text/plain": [
       "scipy.sparse.csr.csr_matrix"
      ]
     },
     "execution_count": 22,
     "metadata": {},
     "output_type": "execute_result"
    }
   ],
   "source": [
    "type(sparseInt)"
   ]
  },
  {
   "cell_type": "markdown",
   "metadata": {},
   "source": [
    "## Create Train/Test split."
   ]
  },
  {
   "cell_type": "code",
   "execution_count": 23,
   "metadata": {},
   "outputs": [],
   "source": [
    "train, test = cross_validation.random_train_test_split(sparseInt, test_percentage=0.2, random_state=615)"
   ]
  },
  {
   "cell_type": "markdown",
   "metadata": {},
   "source": [
    "## Measure the precision at k metric for a model: the fraction of known positives in the first k positions of the ranked list of results. A perfect score is 1.0."
   ]
  },
  {
   "cell_type": "code",
   "execution_count": 24,
   "metadata": {},
   "outputs": [],
   "source": [
    "prec20train = evaluation.precision_at_k(mf_model, train, k=20, user_features=None, item_features=None, preserve_rows=False, num_threads=4, check_intersections=True)"
   ]
  },
  {
   "cell_type": "code",
   "execution_count": 25,
   "metadata": {},
   "outputs": [
    {
     "data": {
      "text/plain": [
       "0.262705"
      ]
     },
     "execution_count": 25,
     "metadata": {},
     "output_type": "execute_result"
    }
   ],
   "source": [
    "prec20train.mean()"
   ]
  },
  {
   "cell_type": "code",
   "execution_count": 26,
   "metadata": {},
   "outputs": [
    {
     "data": {
      "text/plain": [
       "0.2"
      ]
     },
     "execution_count": 26,
     "metadata": {},
     "output_type": "execute_result"
    }
   ],
   "source": [
    "np.median(prec20train)"
   ]
  },
  {
   "cell_type": "code",
   "execution_count": 27,
   "metadata": {},
   "outputs": [
    {
     "data": {
      "text/plain": [
       "(array([ 865., 1135., 1145., 1049.,  990.,  856.,  724.,  595.,  521.,\n",
       "         434.,  362.,  309.,  260.,  239.,  170.,  157.,  101.,   48.,\n",
       "          28.,   12.]),\n",
       " array([0.  , 0.05, 0.1 , 0.15, 0.2 , 0.25, 0.3 , 0.35, 0.4 , 0.45, 0.5 ,\n",
       "        0.55, 0.6 , 0.65, 0.7 , 0.75, 0.8 , 0.85, 0.9 , 0.95, 1.  ],\n",
       "       dtype=float32),\n",
       " <BarContainer object of 20 artists>)"
      ]
     },
     "execution_count": 27,
     "metadata": {},
     "output_type": "execute_result"
    },
    {
     "data": {
      "image/png": "[encoded data removed]",
      "text/plain": [
       "<Figure size 432x288 with 1 Axes>"
      ]
     },
     "metadata": {
      "needs_background": "light"
     },
     "output_type": "display_data"
    }
   ],
   "source": [
    "plt.hist(prec20train, bins=20)"
   ]
  },
  {
   "cell_type": "code",
   "execution_count": 28,
   "metadata": {},
   "outputs": [],
   "source": [
    "prec20test = evaluation.precision_at_k(mf_model, test, k=20, user_features=None, item_features=None, preserve_rows=False, num_threads=4, check_intersections=True)"
   ]
  },
  {
   "cell_type": "code",
   "execution_count": 29,
   "metadata": {},
   "outputs": [
    {
     "data": {
      "text/plain": [
       "0.06648102"
      ]
     },
     "execution_count": 29,
     "metadata": {},
     "output_type": "execute_result"
    }
   ],
   "source": [
    "prec20test.mean()"
   ]
  },
  {
   "cell_type": "code",
   "execution_count": 30,
   "metadata": {},
   "outputs": [
    {
     "data": {
      "text/plain": [
       "0.05"
      ]
     },
     "execution_count": 30,
     "metadata": {},
     "output_type": "execute_result"
    }
   ],
   "source": [
    "np.median(prec20test)"
   ]
  },
  {
   "cell_type": "code",
   "execution_count": 44,
   "metadata": {
    "scrolled": false
   },
   "outputs": [
    {
     "data": {
      "text/plain": [
       "(array([3.574e+03, 2.822e+03, 1.663e+03, 9.180e+02, 4.980e+02, 2.490e+02,\n",
       "        9.300e+01, 3.700e+01, 1.700e+01, 2.000e+00, 2.000e+00, 0.000e+00,\n",
       "        0.000e+00, 0.000e+00, 0.000e+00, 0.000e+00, 0.000e+00, 0.000e+00,\n",
       "        0.000e+00, 0.000e+00]),\n",
       " array([0.  , 0.05, 0.1 , 0.15, 0.2 , 0.25, 0.3 , 0.35, 0.4 , 0.45, 0.5 ,\n",
       "        0.55, 0.6 , 0.65, 0.7 , 0.75, 0.8 , 0.85, 0.9 , 0.95, 1.  ],\n",
       "       dtype=float32),\n",
       " <BarContainer object of 20 artists>)"
      ]
     },
     "execution_count": 44,
     "metadata": {},
     "output_type": "execute_result"
    },
    {
     "data": {
      "image/png": "[encoded data removed]",
      "text/plain": [
       "<Figure size 432x288 with 1 Axes>"
      ]
     },
     "metadata": {
      "needs_background": "light"
     },
     "output_type": "display_data"
    }
   ],
   "source": [
    "plt.hist(prec20test, bins=20, range=[0, 1.0])"
   ]
  },
  {
   "cell_type": "markdown",
   "metadata": {},
   "source": [
    "## Measure the recall at k metric for a model: the number of positive items in the first k positions of the ranked list of results divided by the number of positive items in the test period. A perfect score is 1.0."
   ]
  },
  {
   "cell_type": "code",
   "execution_count": 32,
   "metadata": {},
   "outputs": [],
   "source": [
    "rec20train = evaluation.recall_at_k(mf_model, train, k=20, user_features=None, item_features=None, preserve_rows=False, num_threads=4, check_intersections=True)"
   ]
  },
  {
   "cell_type": "code",
   "execution_count": 33,
   "metadata": {},
   "outputs": [
    {
     "data": {
      "text/plain": [
       "0.1437974197002011"
      ]
     },
     "execution_count": 33,
     "metadata": {},
     "output_type": "execute_result"
    }
   ],
   "source": [
    "rec20train.mean()"
   ]
  },
  {
   "cell_type": "code",
   "execution_count": 34,
   "metadata": {},
   "outputs": [
    {
     "data": {
      "text/plain": [
       "0.09433962264150944"
      ]
     },
     "execution_count": 34,
     "metadata": {},
     "output_type": "execute_result"
    }
   ],
   "source": [
    "np.median(rec20train)"
   ]
  },
  {
   "cell_type": "code",
   "execution_count": 35,
   "metadata": {},
   "outputs": [
    {
     "data": {
      "text/plain": [
       "(array([2550., 2615., 1752.,  923.,  636.,  474.,  206.,  162.,  146.,\n",
       "          56.,  112.,   79.,   35.,   42.,   23.,   34.,   42.,   27.,\n",
       "          15.,   71.]),\n",
       " array([0.  , 0.05, 0.1 , 0.15, 0.2 , 0.25, 0.3 , 0.35, 0.4 , 0.45, 0.5 ,\n",
       "        0.55, 0.6 , 0.65, 0.7 , 0.75, 0.8 , 0.85, 0.9 , 0.95, 1.  ]),\n",
       " <BarContainer object of 20 artists>)"
      ]
     },
     "execution_count": 35,
     "metadata": {},
     "output_type": "execute_result"
    },
    {
     "data": {
      "image/png": "[encoded data removed]",
      "text/plain": [
       "<Figure size 432x288 with 1 Axes>"
      ]
     },
     "metadata": {
      "needs_background": "light"
     },
     "output_type": "display_data"
    }
   ],
   "source": [
    "plt.hist(rec20train, bins=20)"
   ]
  },
  {
   "cell_type": "code",
   "execution_count": 36,
   "metadata": {},
   "outputs": [],
   "source": [
    "rec20test = evaluation.recall_at_k(mf_model, test, k=20, user_features=None, item_features=None, preserve_rows=False, num_threads=4, check_intersections=True)"
   ]
  },
  {
   "cell_type": "code",
   "execution_count": 37,
   "metadata": {},
   "outputs": [
    {
     "data": {
      "text/plain": [
       "0.14204812908447023"
      ]
     },
     "execution_count": 37,
     "metadata": {},
     "output_type": "execute_result"
    }
   ],
   "source": [
    "rec20test.mean()"
   ]
  },
  {
   "cell_type": "code",
   "execution_count": 38,
   "metadata": {},
   "outputs": [
    {
     "data": {
      "text/plain": [
       "0.07407407407407407"
      ]
     },
     "execution_count": 38,
     "metadata": {},
     "output_type": "execute_result"
    }
   ],
   "source": [
    "np.median(rec20test)"
   ]
  },
  {
   "cell_type": "code",
   "execution_count": 39,
   "metadata": {
    "scrolled": false
   },
   "outputs": [
    {
     "data": {
      "text/plain": [
       "(array([4198., 1376., 1272.,  588.,  514.,  536.,  327.,   82.,  171.,\n",
       "          21.,  310.,   67.,   12.,   88.,    5.,   34.,   28.,   10.,\n",
       "           0.,  236.]),\n",
       " array([0.  , 0.05, 0.1 , 0.15, 0.2 , 0.25, 0.3 , 0.35, 0.4 , 0.45, 0.5 ,\n",
       "        0.55, 0.6 , 0.65, 0.7 , 0.75, 0.8 , 0.85, 0.9 , 0.95, 1.  ]),\n",
       " <BarContainer object of 20 artists>)"
      ]
     },
     "execution_count": 39,
     "metadata": {},
     "output_type": "execute_result"
    },
    {
     "data": {
      "image/png": "[encoded data removed]",
      "text/plain": [
       "<Figure size 432x288 with 1 Axes>"
      ]
     },
     "metadata": {
      "needs_background": "light"
     },
     "output_type": "display_data"
    }
   ],
   "source": [
    "plt.hist(rec20test, bins=20)"
   ]
  },
  {
   "cell_type": "markdown",
   "metadata": {},
   "source": [
    "## Measure the ROC AUC metric for a model: the probability that a randomly chosen positive example has a higher score than a randomly chosen negative example. A perfect score is 1.0."
   ]
  },
  {
   "cell_type": "code",
   "execution_count": 40,
   "metadata": {},
   "outputs": [],
   "source": [
    "auc = evaluation.auc_score(mf_model, test, train, user_features=None, item_features=None, preserve_rows=False, num_threads=4, check_intersections=True)"
   ]
  },
  {
   "cell_type": "code",
   "execution_count": 41,
   "metadata": {},
   "outputs": [
    {
     "data": {
      "text/plain": [
       "0.99875325"
      ]
     },
     "execution_count": 41,
     "metadata": {},
     "output_type": "execute_result"
    }
   ],
   "source": [
    "auc.mean()"
   ]
  },
  {
   "cell_type": "code",
   "execution_count": 42,
   "metadata": {},
   "outputs": [
    {
     "data": {
      "text/plain": [
       "0.9989356"
      ]
     },
     "execution_count": 42,
     "metadata": {},
     "output_type": "execute_result"
    }
   ],
   "source": [
    "np.median(auc)"
   ]
  },
  {
   "cell_type": "code",
   "execution_count": 46,
   "metadata": {
    "scrolled": false
   },
   "outputs": [
    {
     "data": {
      "text/plain": [
       "(array([  11.,   16.,   36.,   56.,   61.,   97.,  131.,  172.,  239.,\n",
       "         301.,  362.,  503.,  611.,  740.,  860.,  965.,  955.,  980.,\n",
       "        1078., 1666.]),\n",
       " array([0.995  , 0.99525, 0.9955 , 0.99575, 0.996  , 0.99625, 0.9965 ,\n",
       "        0.99675, 0.997  , 0.99725, 0.9975 , 0.99775, 0.998  , 0.99825,\n",
       "        0.9985 , 0.99875, 0.999  , 0.99925, 0.9995 , 0.99975, 1.     ],\n",
       "       dtype=float32),\n",
       " <BarContainer object of 20 artists>)"
      ]
     },
     "execution_count": 46,
     "metadata": {},
     "output_type": "execute_result"
    },
    {
     "data": {
      "image/png": "[encoded data removed]",
      "text/plain": [
       "<Figure size 432x288 with 1 Axes>"
      ]
     },
     "metadata": {
      "needs_background": "light"
     },
     "output_type": "display_data"
    }
   ],
   "source": [
    "plt.hist(auc, bins=20, range=[.995, 1.0])"
   ]
  },
  {
   "cell_type": "code",
   "execution_count": null,
   "metadata": {},
   "outputs": [],
   "source": []
  },
  {
   "cell_type": "code",
   "execution_count": null,
   "metadata": {},
   "outputs": [],
   "source": []
  },
  {
   "cell_type": "code",
   "execution_count": null,
   "metadata": {},
   "outputs": [],
   "source": []
  },
  {
   "cell_type": "code",
   "execution_count": null,
   "metadata": {},
   "outputs": [],
   "source": []
  },
  {
   "cell_type": "code",
   "execution_count": null,
   "metadata": {},
   "outputs": [],
   "source": []
  },
  {
   "cell_type": "code",
   "execution_count": null,
   "metadata": {},
   "outputs": [],
   "source": []
  },
  {
   "cell_type": "markdown",
   "metadata": {},
   "source": [
    "## Should I try using hyperparameters?"
   ]
  },
  {
   "cell_type": "markdown",
   "metadata": {},
   "source": [
    "## I'll try figuring out how to add in playlist title to the recos."
   ]
  },
  {
   "cell_type": "markdown",
   "metadata": {},
   "source": [
    "## Then test out some cloud computing."
   ]
  }
 ],
 "metadata": {
  "kernelspec": {
   "display_name": "Python 3",
   "language": "python",
   "name": "python3"
  },
  "language_info": {
   "codemirror_mode": {
    "name": "ipython",
    "version": 3
   },
   "file_extension": ".py",
   "mimetype": "text/x-python",
   "name": "python",
   "nbconvert_exporter": "python",
   "pygments_lexer": "ipython3",
   "version": "3.8.5"
  }
 },
 "nbformat": 4,
 "nbformat_minor": 4
}
