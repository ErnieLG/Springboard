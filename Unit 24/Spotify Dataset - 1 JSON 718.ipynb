{
 "cells": [
  {
   "cell_type": "markdown",
   "metadata": {},
   "source": [
    "# Here's the ReadMe for the dataset:\n",
    "\n",
    "## Detailed description\n",
    "The Million Playlist Dataset consists of 1,000 slice files. These files have the naming convention of:\n",
    "\n",
    "mpd.slice._STARTING\\_PLAYLIST\\_ID\\_-\\_ENDING\\_PLAYLIST\\_ID_.json\n",
    "\n",
    "For example, the first 1,000 playlists in the MPD are in a file called \n",
    "`mpd.slice.0-999.json` and the last 1,000 playlists are in a file called\n",
    "`mpd.slice.999000-999999.json`.\n",
    "\n",
    "Each slice file is a JSON dictionary with two fields:\n",
    "*info* and *playlists*.\n",
    "\n",
    "### `info` Field\n",
    "The info field is a dictionary that contains general information about the particular slice:\n",
    "\n",
    "   * **slice** - the range of slices that in in this particular file - such as 0-999\n",
    "   * ***version*** -  - the current version of the MPD (which should be v1)\n",
    "   * ***description*** - a description of the MPD\n",
    "   * ***license*** - licensing info for the MPD\n",
    "   * ***generated_on*** - a timestamp indicating when the slice was generated.\n",
    "\n",
    "### `playlists` field \n",
    "This is an array that typically contains 1,000 playlists. Each playlist is a dictionary that contains the following fields:\n",
    "\n",
    "\n",
    "* ***pid*** - integer - playlist id - the MPD ID of this playlist. This is an integer between 0 and 999,999.\n",
    "* ***name*** - string - the name of the playlist \n",
    "* ***description*** - optional string - if present, the description given to the playlist.  Note that user-provided playlist descrptions are a relatively new feature of Spotify, so most playlists do not have descriptions.\n",
    "* ***modified_at*** - seconds - timestamp (in seconds since the epoch) when this playlist was last updated. Times are rounded to midnight GMT of the date when the playlist was last updated.\n",
    "* ***num_artists*** - the total number of unique artists for the tracks in the playlist.\n",
    "* ***num_albums*** - the number of unique albums for the tracks in the playlist\n",
    "* ***num_tracks*** - the number of tracks in the playlist\n",
    "* ***num_followers*** - the number of followers this playlist had at the time the MPD was created. (Note that the follower count does not including the playlist creator)\n",
    "* ***num_edits*** - the number of separate editing sessions. Tracks added in a two hour window are considered to be added in a single editing session.\n",
    "* ***duration_ms*** - the total duration of all the tracks in the playlist (in milliseconds)\n",
    "* ***collaborative*** -  boolean - if true, the playlist is a collaborative playlist. Multiple users may contribute tracks to a collaborative playlist.\n",
    "* ***tracks*** - an array of information about each track in the playlist. Each element in the array is a dictionary with the following fields:\n",
    "   * ***track_name*** - the name of the track\n",
    "   * ***track_uri*** - the Spotify URI of the track\n",
    "   * ***album_name*** - the name of the track's album\n",
    "   * ***album_uri*** - the Spotify URI of the album\n",
    "   * ***artist_name*** - the name of the track's primary artist\n",
    "   * ***artist_uri*** - the Spotify URI of track's primary artist\n",
    "   * ***duration_ms*** - the duration of the track in milliseconds\n",
    "   * ***pos*** - the position of the track in the playlist (zero-based)"
   ]
  },
  {
   "cell_type": "code",
   "execution_count": 1,
   "metadata": {},
   "outputs": [
    {
     "name": "stderr",
     "output_type": "stream",
     "text": [
      "C:\\Users\\Ernie\\anaconda3\\lib\\site-packages\\lightfm\\_lightfm_fast.py:9: UserWarning: LightFM was compiled without OpenMP support. Only a single thread will be used.\n",
      "  warnings.warn(\n"
     ]
    }
   ],
   "source": [
    "# import re\n",
    "# import seaborn as sns\n",
    "# import time\n",
    "# import lightgbm as lgbm\n",
    "# from pathlib import Path\n",
    "# import pickle\n",
    "# from catboost import CatBoostClassifier, cv, Pool\n",
    "# import scikitplot as skplt\n",
    "# from hyperopt import tpe, STATUS_OK, Trials, hp, fmin, tpe, partial\n",
    "# import plotly.graph_objects as go\n",
    "\n",
    "\n",
    "# import itertools\n",
    "# from itertools import combinations\n",
    "\n",
    "# import scipy as sp\n",
    "# from scipy.stats import pearsonr, chi2_contingency\n",
    "\n",
    "# import matplotlib as mpl\n",
    "\n",
    "# import matplotlib.cm as cm\n",
    "# from matplotlib.colors import ListedColormap\n",
    "# from matplotlib import rc\n",
    "\n",
    "# import datetime\n",
    "# from dateutil import relativedelta\n",
    "\n",
    "# # from IPython.display import display\n",
    "# # pd.options.display.max_columns = None\n",
    "# # pd.options.display.max_colwidth = None\n",
    "# # pd.options.display.max_rows = None\n",
    "\n",
    "# import statsmodels.api as sm \n",
    "# from statsmodels.graphics.api import abline_plot # For visualling evaluating predictions.\n",
    "# from statsmodels.stats.proportion import proportion_confint\n",
    "\n",
    "# import warnings # For handling error messages.\n",
    "# warnings.simplefilter(action=\"ignore\", category=FutureWarning)\n",
    "# warnings.filterwarnings('ignore')\n",
    "\n",
    "# import sklearn.metrics as met\n",
    "# from sklearn import linear_model, preprocessing, model_selection, svm, datasets\n",
    "# from sklearn.ensemble import RandomForestClassifier, AdaBoostClassifier, GradientBoostingClassifier\n",
    "# from sklearn.feature_selection import SelectFromModel, SelectKBest, chi2, RFE\n",
    "# from sklearn.linear_model import LassoCV, LogisticRegression, Lasso\n",
    "# from sklearn.metrics import plot_confusion_matrix, auc, confusion_matrix, classification_report, accuracy_score, roc_curve, roc_auc_score, plot_roc_curve\n",
    "# from sklearn.model_selection import train_test_split, cross_val_score, GridSearchCV, KFold\n",
    "# from sklearn.neighbors import KNeighborsClassifier \n",
    "# from sklearn.pipeline import Pipeline\n",
    "# from sklearn.preprocessing import scale, StandardScaler, LabelEncoder, MinMaxScaler, Binarizer\n",
    "# from sklearn.svm import SVC\n",
    "# from sklearn.tree import DecisionTreeClassifier\n",
    "\n",
    "# from bayes_opt import BayesianOptimization\n",
    "# from bayes_opt.logger import JSONLogger\n",
    "# from bayes_opt.event import Events\n",
    "# from bayes_opt.util import load_logs\n",
    "\n",
    "# from surprise import SVD, BaselineOnly, KNNBasic, KNNWithMeans,KNNWithZScore, KNNBaseline\n",
    "# from surprise.model_selection import cross_validate\n",
    "\n",
    "#definitely need\n",
    "import pandas as pd\n",
    "import numpy as np\n",
    "from scipy import sparse\n",
    "from lightfm import LightFM, evaluation, cross_validation, data\n",
    "from sklearn.metrics.pairwise import cosine_similarity\n",
    "import json\n",
    "import matplotlib.pyplot as plt\n",
    "import time\n",
    "import string\n",
    "import re\n",
    "\n",
    "from IPython.display import display\n",
    "pd.options.display.max_columns = None\n",
    "pd.options.display.max_colwidth = None\n",
    "pd.options.display.max_rows = None"
   ]
  },
  {
   "cell_type": "code",
   "execution_count": 2,
   "metadata": {},
   "outputs": [],
   "source": [
    "# @inproceedings{DBLP:conf/recsys/Kula15,\n",
    "#   author    = {Maciej Kula},\n",
    "#   editor    = {Toine Bogers and\n",
    "#                Marijn Koolen},\n",
    "#   title     = {Metadata Embeddings for User and Item Cold-start Recommendations},\n",
    "#   booktitle = {Proceedings of the 2nd Workshop on New Trends on Content-Based Recommender\n",
    "#                Systems co-located with 9th {ACM} Conference on Recommender Systems\n",
    "#                (RecSys 2015), Vienna, Austria, September 16-20, 2015.},\n",
    "#   series    = {{CEUR} Workshop Proceedings},\n",
    "#   volume    = {1448},\n",
    "#   pages     = {14--21},\n",
    "#   publisher = {CEUR-WS.org},\n",
    "#   year      = {2015},\n",
    "#   url       = {http://ceur-ws.org/Vol-1448/paper4.pdf},\n",
    "# }"
   ]
  },
  {
   "cell_type": "code",
   "execution_count": 3,
   "metadata": {},
   "outputs": [],
   "source": [
    "#RecSys functions by Aayush Agrawal\n",
    "#https://github.com/aayushmnit/cookbook\n",
    "\n",
    "def create_interaction_matrix(df,user_col, item_col, rating_col, norm= False, threshold = None):\n",
    "    '''\n",
    "    Function to create an interaction matrix dataframe from transactional type interactions\n",
    "    Required Input -\n",
    "        - df = Pandas DataFrame containing user-item interactions\n",
    "        - user_col = column name containing user's identifier\n",
    "        - item_col = column name containing item's identifier\n",
    "        - rating col = column name containing user feedback on interaction with a given item\n",
    "        - norm (optional) = True if a normalization of ratings is needed\n",
    "        - threshold (required if norm = True) = value above which the rating is favorable\n",
    "    Expected output - \n",
    "        - Pandas dataframe with user-item interactions ready to be fed in a recommendation algorithm\n",
    "    '''\n",
    "    interactions = df.groupby([user_col, item_col])[rating_col] \\\n",
    "            .sum().unstack().reset_index(). \\\n",
    "            fillna(0).set_index(user_col)\n",
    "    if norm:\n",
    "        interactions = interactions.applymap(lambda x: 1 if x > threshold else 0)\n",
    "    return interactions\n",
    "\n",
    "def create_user_dict(interactions):\n",
    "    '''\n",
    "    Function to create a user dictionary based on their index and number in interaction dataset\n",
    "    Required Input - \n",
    "        interactions - dataset create by create_interaction_matrix\n",
    "    Expected Output -\n",
    "        user_dict - Dictionary type output containing interaction_index as key and user_id as value\n",
    "    '''\n",
    "    user_id = list(interactions.index)\n",
    "    user_dict = {}\n",
    "    counter = 0 \n",
    "    for i in user_id:\n",
    "        user_dict[i] = counter\n",
    "        counter += 1\n",
    "    return user_dict\n",
    "\n",
    "    \n",
    "def create_item_dict(df,id_col,name_col):\n",
    "    '''\n",
    "    Function to create an item dictionary based on their item_id and item name\n",
    "    Required Input - \n",
    "        - df = Pandas dataframe with Item information\n",
    "        - id_col = Column name containing unique identifier for an item\n",
    "        - name_col = Column name containing name of the item\n",
    "    Expected Output -\n",
    "        item_dict = Dictionary type output containing item_id as key and item_name as value\n",
    "    '''\n",
    "    item_dict ={}\n",
    "    for i in range(df.shape[0]):\n",
    "        item_dict[(df.loc[i,id_col])] = df.loc[i,name_col]\n",
    "    return item_dict\n",
    "\n",
    "def runMF(interactions, n_components=30, loss='warp', k=15, epoch=30,n_jobs = 4):\n",
    "    '''\n",
    "    Function to run matrix-factorization algorithm\n",
    "    Required Input -\n",
    "        - interactions = dataset create by create_interaction_matrix\n",
    "        - n_components = number of embeddings you want to create to define Item and user\n",
    "        - loss = loss function other options are logistic, brp\n",
    "        - epoch = number of epochs to run \n",
    "        - n_jobs = number of cores used for execution \n",
    "    Expected Output  -\n",
    "        Model - Trained model\n",
    "    '''\n",
    "    x = sparse.csr_matrix(interactions.values)\n",
    "    model = LightFM(no_components= n_components, loss=loss,k=k)\n",
    "    model.fit(x,epochs=epoch,num_threads = n_jobs)\n",
    "    return model\n",
    "\n",
    "def sample_recommendation_user(model, interactions, user_id, user_dict, \n",
    "                               item_dict,threshold = 0,nrec_items = 10, show = True):\n",
    "    '''\n",
    "    Function to produce user recommendations\n",
    "    Required Input - \n",
    "        - model = Trained matrix factorization model\n",
    "        - interactions = dataset used for training the model\n",
    "        - user_id = user ID for which we need to generate recommendation\n",
    "        - user_dict = Dictionary type input containing interaction_index as key and user_id as value\n",
    "        - item_dict = Dictionary type input containing item_id as key and item_name as value\n",
    "        - threshold = value above which the rating is favorable in new interaction matrix\n",
    "        - nrec_items = Number of output recommendation needed\n",
    "    Expected Output - \n",
    "        - Prints list of items the given user has already bought\n",
    "        - Prints list of N recommended items  which user hopefully will be interested in\n",
    "    '''\n",
    "    n_users, n_items = interactions.shape\n",
    "    user_x = user_dict[user_id]\n",
    "    scores = pd.Series(model.predict(user_x,np.arange(n_items)))\n",
    "    scores.index = interactions.columns\n",
    "    scores = list(pd.Series(scores.sort_values(ascending=False).index))\n",
    "    \n",
    "    known_items = list(pd.Series(interactions.loc[user_id,:] \\\n",
    "                                 [interactions.loc[user_id,:] > threshold].index) \\\n",
    "\t\t\t\t\t\t\t\t .sort_values(ascending=False))\n",
    "    \n",
    "    scores = [x for x in scores if x not in known_items]\n",
    "    return_score_list = scores[0:nrec_items]\n",
    "    known_items = list(pd.Series(known_items).apply(lambda x: item_dict[x]))\n",
    "    scores = list(pd.Series(return_score_list).apply(lambda x: item_dict[x]))\n",
    "    print('Playlist Name: '+ df.iloc[(df['Playlist_ID'].values == user_id).argmax()]['Playlist_Name'])\n",
    "    if show == True:\n",
    "        print(\"Tracks in Playlist:\")\n",
    "        counter = 1\n",
    "        for i in known_items:\n",
    "            print(str(counter) + ': ' + i)\n",
    "            counter+=1\n",
    "\n",
    "        print(\"\\n Recommended Tracks:\")\n",
    "        counter = 1\n",
    "        for i in scores:\n",
    "            print(str(counter) + ': ' + i)\n",
    "            counter+=1\n",
    "    return return_score_list\n",
    "    \n",
    "\n",
    "def sample_recommendation_item(model,interactions,item_id,user_dict,item_dict,number_of_user,show=True):\n",
    "    '''\n",
    "    Function to produce a list of top N interested users for a given item\n",
    "    Required Input -\n",
    "        - model = Trained matrix factorization model\n",
    "        - interactions = dataset used for training the model\n",
    "        - item_id = item ID for which we need to generate recommended users\n",
    "        - user_dict =  Dictionary type input containing interaction_index as key and user_id as value\n",
    "        - item_dict = Dictionary type input containing item_id as key and item_name as value\n",
    "        - number_of_user = Number of users needed as an output\n",
    "    Expected Output -\n",
    "        - user_list = List of recommended users \n",
    "    '''\n",
    "    n_users, n_items = interactions.shape\n",
    "    x = np.array(interactions.columns)\n",
    "    scores = pd.Series(model.predict(np.arange(n_users), np.repeat(x.searchsorted(item_id),n_users)))\n",
    "    user_list = list(interactions.index[scores.sort_values(ascending=False).head(number_of_user).index])\n",
    "    if show == True:\n",
    "        print(\"Best matched playlists for track:\", item_dict[item_id])\n",
    "        counter = 1\n",
    "        for i in user_list:\n",
    "            print(str(counter) + ': ' + str(i) + ' - ' + df.iloc[(df['Playlist_ID'].values == i).argmax()]['Playlist_Name'])\n",
    "            counter+=1\n",
    "    return user_list \n",
    "\n",
    "\n",
    "def create_item_emdedding_distance_matrix(model,interactions):\n",
    "    '''\n",
    "    Function to create item-item distance embedding matrix\n",
    "    Required Input -\n",
    "        - model = Trained matrix factorization model\n",
    "        - interactions = dataset used for training the model\n",
    "    Expected Output -\n",
    "        - item_emdedding_distance_matrix = Pandas dataframe containing cosine distance matrix b/w items\n",
    "    '''\n",
    "    df_item_norm_sparse = sparse.csr_matrix(model.item_embeddings)\n",
    "    similarities = cosine_similarity(df_item_norm_sparse)\n",
    "    item_emdedding_distance_matrix = pd.DataFrame(similarities)\n",
    "    item_emdedding_distance_matrix.columns = interactions.columns\n",
    "    item_emdedding_distance_matrix.index = interactions.columns\n",
    "    return item_emdedding_distance_matrix\n",
    "\n",
    "def item_item_recommendation(item_emdedding_distance_matrix, item_id, \n",
    "                             item_dict, n_items = 10, show = True):\n",
    "    '''\n",
    "    Function to create item-item recommendation\n",
    "    Required Input - \n",
    "        - item_emdedding_distance_matrix = Pandas dataframe containing cosine distance matrix b/w items\n",
    "        - item_id  = item ID for which we need to generate recommended items\n",
    "        - item_dict = Dictionary type input containing item_id as key and item_name as value\n",
    "        - n_items = Number of items needed as an output\n",
    "    Expected Output -\n",
    "        - recommended_items = List of recommended items\n",
    "    '''\n",
    "    recommended_items = list(pd.Series(item_emdedding_distance_matrix.loc[item_id,:]. \\\n",
    "                                  sort_values(ascending = False).head(n_items+1). \\\n",
    "                                  index[1:n_items+1]))\n",
    "    if show == True:\n",
    "        print(\"Tracks similar to track: {0}\".format(item_dict[item_id]))\n",
    "        print(\"Similar Tracks:\")\n",
    "        counter = 1\n",
    "        for i in recommended_items:\n",
    "            print(str(counter) + ': ' +  item_dict[i])\n",
    "            counter+=1\n",
    "#     return recommended_items"
   ]
  },
  {
   "cell_type": "markdown",
   "metadata": {},
   "source": [
    "## The dataset is split into 1,000 JSON files, each about 35MB.  Each contains 1,000 complete playlists.  \n",
    "## Each playlist has 4>x>251 tracks, with x>2 unique artists, and with x>1 unique albums.  \n",
    "\n",
    "number of playlists 1000000  \n",
    "number of tracks 66346428  \n",
    "number of unique tracks 2262292  \n",
    "number of unique albums 734684  \n",
    "number of unique artists 295860  \n",
    "mean playlist length 66.346428  \n",
    "mode playlist length 20   \n",
    "top track: HUMBLE. by Kendrick Lamar in 46574 playlists  \n",
    "top artist: 847160 tracks by Drake   "
   ]
  },
  {
   "cell_type": "markdown",
   "metadata": {},
   "source": [
    "## Loading the first JSON with 1000 playlists."
   ]
  },
  {
   "cell_type": "code",
   "execution_count": 4,
   "metadata": {},
   "outputs": [],
   "source": [
    "with open('data/mpd.slice.0-999.json') as f:\n",
    "  file = json.load(f)"
   ]
  },
  {
   "cell_type": "code",
   "execution_count": 5,
   "metadata": {},
   "outputs": [
    {
     "data": {
      "text/plain": [
       "1000"
      ]
     },
     "execution_count": 5,
     "metadata": {},
     "output_type": "execute_result"
    }
   ],
   "source": [
    "file = file['playlists'] \n",
    "len(file)"
   ]
  },
  {
   "cell_type": "markdown",
   "metadata": {},
   "source": [
    "## Here's the first playlist."
   ]
  },
  {
   "cell_type": "code",
   "execution_count": 6,
   "metadata": {},
   "outputs": [
    {
     "data": {
      "text/plain": [
       "{'name': 'Throwbacks',\n",
       " 'collaborative': 'false',\n",
       " 'pid': 0,\n",
       " 'modified_at': 1493424000,\n",
       " 'num_tracks': 52,\n",
       " 'num_albums': 47,\n",
       " 'num_followers': 1,\n",
       " 'tracks': [{'pos': 0,\n",
       "   'artist_name': 'Missy Elliott',\n",
       "   'track_uri': 'spotify:track:0UaMYEvWZi0ZqiDOoHU3YI',\n",
       "   'artist_uri': 'spotify:artist:2wIVse2owClT7go1WT98tk',\n",
       "   'track_name': 'Lose Control (feat. Ciara & Fat Man Scoop)',\n",
       "   'album_uri': 'spotify:album:6vV5UrXcfyQD1wu4Qo2I9K',\n",
       "   'duration_ms': 226863,\n",
       "   'album_name': 'The Cookbook'},\n",
       "  {'pos': 1,\n",
       "   'artist_name': 'Britney Spears',\n",
       "   'track_uri': 'spotify:track:6I9VzXrHxO9rA9A5euc8Ak',\n",
       "   'artist_uri': 'spotify:artist:26dSoYclwsYLMAKD3tpOr4',\n",
       "   'track_name': 'Toxic',\n",
       "   'album_uri': 'spotify:album:0z7pVBGOD7HCIB7S8eLkLI',\n",
       "   'duration_ms': 198800,\n",
       "   'album_name': 'In The Zone'},\n",
       "  {'pos': 2,\n",
       "   'artist_name': 'Beyoncé',\n",
       "   'track_uri': 'spotify:track:0WqIKmW4BTrj3eJFmnCKMv',\n",
       "   'artist_uri': 'spotify:artist:6vWDO969PvNqNYHIOW5v0m',\n",
       "   'track_name': 'Crazy In Love',\n",
       "   'album_uri': 'spotify:album:25hVFAxTlDvXbx2X2QkUkE',\n",
       "   'duration_ms': 235933,\n",
       "   'album_name': 'Dangerously In Love (Alben für die Ewigkeit)'},\n",
       "  {'pos': 3,\n",
       "   'artist_name': 'Justin Timberlake',\n",
       "   'track_uri': 'spotify:track:1AWQoqb9bSvzTjaLralEkT',\n",
       "   'artist_uri': 'spotify:artist:31TPClRtHm23RisEBtV3X7',\n",
       "   'track_name': 'Rock Your Body',\n",
       "   'album_uri': 'spotify:album:6QPkyl04rXwTGlGlcYaRoW',\n",
       "   'duration_ms': 267266,\n",
       "   'album_name': 'Justified'},\n",
       "  {'pos': 4,\n",
       "   'artist_name': 'Shaggy',\n",
       "   'track_uri': 'spotify:track:1lzr43nnXAijIGYnCT8M8H',\n",
       "   'artist_uri': 'spotify:artist:5EvFsr3kj42KNv97ZEnqij',\n",
       "   'track_name': \"It Wasn't Me\",\n",
       "   'album_uri': 'spotify:album:6NmFmPX56pcLBOFMhIiKvF',\n",
       "   'duration_ms': 227600,\n",
       "   'album_name': 'Hot Shot'},\n",
       "  {'pos': 5,\n",
       "   'artist_name': 'Usher',\n",
       "   'track_uri': 'spotify:track:0XUfyU2QviPAs6bxSpXYG4',\n",
       "   'artist_uri': 'spotify:artist:23zg3TcAtWQy7J6upgbUnj',\n",
       "   'track_name': 'Yeah!',\n",
       "   'album_uri': 'spotify:album:0vO0b1AvY49CPQyVisJLj0',\n",
       "   'duration_ms': 250373,\n",
       "   'album_name': 'Confessions'},\n",
       "  {'pos': 6,\n",
       "   'artist_name': 'Usher',\n",
       "   'track_uri': 'spotify:track:68vgtRHr7iZHpzGpon6Jlo',\n",
       "   'artist_uri': 'spotify:artist:23zg3TcAtWQy7J6upgbUnj',\n",
       "   'track_name': 'My Boo',\n",
       "   'album_uri': 'spotify:album:1RM6MGv6bcl6NrAG8PGoZk',\n",
       "   'duration_ms': 223440,\n",
       "   'album_name': 'Confessions'},\n",
       "  {'pos': 7,\n",
       "   'artist_name': 'The Pussycat Dolls',\n",
       "   'track_uri': 'spotify:track:3BxWKCI06eQ5Od8TY2JBeA',\n",
       "   'artist_uri': 'spotify:artist:6wPhSqRtPu1UhRCDX5yaDJ',\n",
       "   'track_name': 'Buttons',\n",
       "   'album_uri': 'spotify:album:5x8e8UcCeOgrOzSnDGuPye',\n",
       "   'duration_ms': 225560,\n",
       "   'album_name': 'PCD'},\n",
       "  {'pos': 8,\n",
       "   'artist_name': \"Destiny's Child\",\n",
       "   'track_uri': 'spotify:track:7H6ev70Weq6DdpZyyTmUXk',\n",
       "   'artist_uri': 'spotify:artist:1Y8cdNmUJH7yBTd9yOvr5i',\n",
       "   'track_name': 'Say My Name',\n",
       "   'album_uri': 'spotify:album:283NWqNsCA9GwVHrJk59CG',\n",
       "   'duration_ms': 271333,\n",
       "   'album_name': \"The Writing's On The Wall\"},\n",
       "  {'pos': 9,\n",
       "   'artist_name': 'OutKast',\n",
       "   'track_uri': 'spotify:track:2PpruBYCo4H7WOBJ7Q2EwM',\n",
       "   'artist_uri': 'spotify:artist:1G9G7WwrXka3Z1r7aIDjI7',\n",
       "   'track_name': 'Hey Ya! - Radio Mix / Club Mix',\n",
       "   'album_uri': 'spotify:album:1UsmQ3bpJTyK6ygoOOjG1r',\n",
       "   'duration_ms': 235213,\n",
       "   'album_name': 'Speakerboxxx/The Love Below'},\n",
       "  {'pos': 10,\n",
       "   'artist_name': 'Nelly Furtado',\n",
       "   'track_uri': 'spotify:track:2gam98EZKrF9XuOkU13ApN',\n",
       "   'artist_uri': 'spotify:artist:2jw70GZXlAI8QzWeY2bgRc',\n",
       "   'track_name': 'Promiscuous',\n",
       "   'album_uri': 'spotify:album:2yboV2QBcVGEhcRlYuPpDT',\n",
       "   'duration_ms': 242293,\n",
       "   'album_name': 'Loose'},\n",
       "  {'pos': 11,\n",
       "   'artist_name': 'Jesse McCartney',\n",
       "   'track_uri': 'spotify:track:4Y45aqo9QMa57rDsAJv40A',\n",
       "   'artist_uri': 'spotify:artist:2Hjj68yyUPiC0HKEOigcEp',\n",
       "   'track_name': 'Right Where You Want Me - Radio Edit Version',\n",
       "   'album_uri': 'spotify:album:6022khQj4Fsvvse8f3A4lF',\n",
       "   'duration_ms': 211693,\n",
       "   'album_name': 'Right Where You Want Me'},\n",
       "  {'pos': 12,\n",
       "   'artist_name': 'Jesse McCartney',\n",
       "   'track_uri': 'spotify:track:1HwpWwa6bnqqRhK8agG4RS',\n",
       "   'artist_uri': 'spotify:artist:2Hjj68yyUPiC0HKEOigcEp',\n",
       "   'track_name': 'Beautiful Soul',\n",
       "   'album_uri': 'spotify:album:2gidE8vgVOkYufANjuvj3S',\n",
       "   'duration_ms': 214226,\n",
       "   'album_name': 'Beautiful Soul'},\n",
       "  {'pos': 13,\n",
       "   'artist_name': 'Jesse McCartney',\n",
       "   'track_uri': 'spotify:track:20ORwCJusz4KS2PbTPVNKo',\n",
       "   'artist_uri': 'spotify:artist:2Hjj68yyUPiC0HKEOigcEp',\n",
       "   'track_name': \"Leavin'\",\n",
       "   'album_uri': 'spotify:album:2tDCfKFy2YW9N0IwNSRdOJ',\n",
       "   'duration_ms': 216880,\n",
       "   'album_name': 'Departure - Recharged'},\n",
       "  {'pos': 14,\n",
       "   'artist_name': 'Cassie',\n",
       "   'track_uri': 'spotify:track:7k6IzwMGpxnRghE7YosnXT',\n",
       "   'artist_uri': 'spotify:artist:27FGXRNruFoOdf1vP8dqcH',\n",
       "   'track_name': 'Me & U',\n",
       "   'album_uri': 'spotify:album:0j1qzjaJmsF1FkcICf3hRu',\n",
       "   'duration_ms': 192213,\n",
       "   'album_name': 'Cassie'},\n",
       "  {'pos': 15,\n",
       "   'artist_name': 'Omarion',\n",
       "   'track_uri': 'spotify:track:1Bv0Yl01xBDZD4OQP93fyl',\n",
       "   'artist_uri': 'spotify:artist:0f5nVCcR06GX8Qikz0COtT',\n",
       "   'track_name': 'Ice Box',\n",
       "   'album_uri': 'spotify:album:4cVVEOXyUaWo7vlDWIkKsI',\n",
       "   'duration_ms': 256426,\n",
       "   'album_name': '21'},\n",
       "  {'pos': 16,\n",
       "   'artist_name': 'Avril Lavigne',\n",
       "   'track_uri': 'spotify:track:4omisSlTk6Dsq2iQD7MA07',\n",
       "   'artist_uri': 'spotify:artist:0p4nmQO2msCgU4IF37Wi3j',\n",
       "   'track_name': 'Sk8er Boi',\n",
       "   'album_uri': 'spotify:album:7h6XeTzy0SRXDrFJeA9gO7',\n",
       "   'duration_ms': 204000,\n",
       "   'album_name': 'Let Go'},\n",
       "  {'pos': 17,\n",
       "   'artist_name': 'Chris Brown',\n",
       "   'track_uri': 'spotify:track:7xYnUQigPoIDAMPVK79NEq',\n",
       "   'artist_uri': 'spotify:artist:7bXgB6jMjp9ATFy66eO08Z',\n",
       "   'track_name': 'Run It!',\n",
       "   'album_uri': 'spotify:album:49gaz5rhWWgqCw61M9700v',\n",
       "   'duration_ms': 229866,\n",
       "   'album_name': 'Chris Brown'},\n",
       "  {'pos': 18,\n",
       "   'artist_name': 'Beyoncé',\n",
       "   'track_uri': 'spotify:track:6d8A5sAx9TfdeseDvfWNHd',\n",
       "   'artist_uri': 'spotify:artist:6vWDO969PvNqNYHIOW5v0m',\n",
       "   'track_name': 'Check On It - feat. Bun B and Slim Thug',\n",
       "   'album_uri': 'spotify:album:3MJHoQUI828kmB6IpjejbW',\n",
       "   'duration_ms': 210453,\n",
       "   'album_name': \"B'Day\"},\n",
       "  {'pos': 19,\n",
       "   'artist_name': \"Destiny's Child\",\n",
       "   'track_uri': 'spotify:track:4pmc2AxSEq6g7hPVlJCPyP',\n",
       "   'artist_uri': 'spotify:artist:1Y8cdNmUJH7yBTd9yOvr5i',\n",
       "   'track_name': \"Jumpin', Jumpin'\",\n",
       "   'album_uri': 'spotify:album:283NWqNsCA9GwVHrJk59CG',\n",
       "   'duration_ms': 230200,\n",
       "   'album_name': \"The Writing's On The Wall\"},\n",
       "  {'pos': 20,\n",
       "   'artist_name': 'Sheryl Crow',\n",
       "   'track_uri': 'spotify:track:215JYyyUnrJ98NK3KEwu6d',\n",
       "   'artist_uri': 'spotify:artist:4TKTii6gnOnUXQHyuo9JaD',\n",
       "   'track_name': 'Soak Up The Sun',\n",
       "   'album_uri': 'spotify:album:5NYcTXrRZHxNyRKVOd0vs1',\n",
       "   'duration_ms': 292306,\n",
       "   'album_name': \"C'Mon C'Mon\"},\n",
       "  {'pos': 21,\n",
       "   'artist_name': 'The Black Eyed Peas',\n",
       "   'track_uri': 'spotify:track:0uqPG793dkDDN7sCUJJIVC',\n",
       "   'artist_uri': 'spotify:artist:1yxSLGMDHlW21z4YXirZDS',\n",
       "   'track_name': 'Where Is The Love?',\n",
       "   'album_uri': 'spotify:album:1bNyYpkDRovmErm4QeDrpJ',\n",
       "   'duration_ms': 272533,\n",
       "   'album_name': 'Elephunk'},\n",
       "  {'pos': 22,\n",
       "   'artist_name': 'Bowling For Soup',\n",
       "   'track_uri': 'spotify:track:19Js5ypV6JKn4DMExHQbGc',\n",
       "   'artist_uri': 'spotify:artist:5ND0mGcL9SKSjWIjPd0xIb',\n",
       "   'track_name': \"Stacy's Mom\",\n",
       "   'album_uri': 'spotify:album:3Q7xpHmP8k3HryE0LQdIk0',\n",
       "   'duration_ms': 193042,\n",
       "   'album_name': \"I've Never Done Anything Like This\"},\n",
       "  {'pos': 23,\n",
       "   'artist_name': 'The Click Five',\n",
       "   'track_uri': 'spotify:track:1JURww012QnWAw0zZXi6Aa',\n",
       "   'artist_uri': 'spotify:artist:01lz5VBfkMFDteSA9pKJuP',\n",
       "   'track_name': 'Just The Girl',\n",
       "   'album_uri': 'spotify:album:7gZilZGYr8M7UwEeYvdAKZ',\n",
       "   'duration_ms': 234146,\n",
       "   'album_name': 'Greetings From Imrie House'},\n",
       "  {'pos': 24,\n",
       "   'artist_name': 'Chris Brown',\n",
       "   'track_uri': 'spotify:track:7DFnq8FYhHMCylykf6ZCxA',\n",
       "   'artist_uri': 'spotify:artist:7bXgB6jMjp9ATFy66eO08Z',\n",
       "   'track_name': 'Yo (Excuse Me Miss)',\n",
       "   'album_uri': 'spotify:album:49gaz5rhWWgqCw61M9700v',\n",
       "   'duration_ms': 229040,\n",
       "   'album_name': 'Chris Brown'},\n",
       "  {'pos': 25,\n",
       "   'artist_name': 'Jonas Brothers',\n",
       "   'track_uri': 'spotify:track:1TfAhjzRBWzYZ8IdUV3igl',\n",
       "   'artist_uri': 'spotify:artist:7gOdHgIoIKoe4i9Tta6qdD',\n",
       "   'track_name': 'Year 3000',\n",
       "   'album_uri': 'spotify:album:20RAjvZ9LX2FDuDU8RDuIl',\n",
       "   'duration_ms': 201960,\n",
       "   'album_name': 'Jonas Brothers'},\n",
       "  {'pos': 26,\n",
       "   'artist_name': 'Lil Mama',\n",
       "   'track_uri': 'spotify:track:1Y4ZdPOOgCUhBcKZOrUFiS',\n",
       "   'artist_uri': 'spotify:artist:5qK5bOC6wLtuLhG5KvU17c',\n",
       "   'track_name': 'Lip Gloss',\n",
       "   'album_uri': 'spotify:album:3vgVsm9GY3i39fZ7b1sqV5',\n",
       "   'duration_ms': 219773,\n",
       "   'album_name': 'Lip Gloss'},\n",
       "  {'pos': 27,\n",
       "   'artist_name': 'Cascada',\n",
       "   'track_uri': 'spotify:track:6MjljecHzHelUDismyKkba',\n",
       "   'artist_uri': 'spotify:artist:0N0d3kjwdY2h7UVuTdJGfp',\n",
       "   'track_name': 'Everytime We Touch - Radio Edit',\n",
       "   'album_uri': 'spotify:album:5DvuKZTzEKjm0oUuhP237C',\n",
       "   'duration_ms': 199120,\n",
       "   'album_name': 'Everytime We Touch'},\n",
       "  {'pos': 28,\n",
       "   'artist_name': 'Jason Derulo',\n",
       "   'track_uri': 'spotify:track:67T6l4q3zVjC5nZZPXByU8',\n",
       "   'artist_uri': 'spotify:artist:07YZf4WDAMNwqr4jfgOZ8y',\n",
       "   'track_name': 'Whatcha Say',\n",
       "   'album_uri': 'spotify:album:0aVJmVAeEx78nAA1rAKYf7',\n",
       "   'duration_ms': 221253,\n",
       "   'album_name': 'Jason Derulo'},\n",
       "  {'pos': 29,\n",
       "   'artist_name': 'Ne-Yo',\n",
       "   'track_uri': 'spotify:track:34ceTg8ChN5HjrqiIYCn9Q',\n",
       "   'artist_uri': 'spotify:artist:21E3waRsmPlU7jZsS13rcj',\n",
       "   'track_name': 'Miss Independent',\n",
       "   'album_uri': 'spotify:album:6dTn9vJSxVTIGm4Cu5dH4x',\n",
       "   'duration_ms': 232000,\n",
       "   'album_name': 'Year Of The Gentleman'},\n",
       "  {'pos': 30,\n",
       "   'artist_name': 'Miley Cyrus',\n",
       "   'track_uri': 'spotify:track:5Q0Nhxo0l2bP3pNjpGJwV1',\n",
       "   'artist_uri': 'spotify:artist:5YGY8feqx7naU7z4HrwZM6',\n",
       "   'track_name': 'Party In The U.S.A.',\n",
       "   'album_uri': 'spotify:album:64aKkqxc3Ur2LYIKeS5osS',\n",
       "   'duration_ms': 202066,\n",
       "   'album_name': 'The Time Of Our Lives'},\n",
       "  {'pos': 31,\n",
       "   'artist_name': 'Boys Like Girls',\n",
       "   'track_uri': 'spotify:track:6GIrIt2M39wEGwjCQjGChX',\n",
       "   'artist_uri': 'spotify:artist:0vWCyXMrrvMlCcepuOJaGI',\n",
       "   'track_name': 'The Great Escape',\n",
       "   'album_uri': 'spotify:album:4WqgusSAgXkrjbXzqdBY68',\n",
       "   'duration_ms': 206520,\n",
       "   'album_name': 'Boys Like Girls'},\n",
       "  {'pos': 32,\n",
       "   'artist_name': 'Iyaz',\n",
       "   'track_uri': 'spotify:track:4E5P1XyAFtrjpiIxkydly4',\n",
       "   'artist_uri': 'spotify:artist:5tKXB9uuebKE34yowVaU3C',\n",
       "   'track_name': 'Replay',\n",
       "   'album_uri': 'spotify:album:44hyrGuZKAvITbmrlhryf8',\n",
       "   'duration_ms': 182306,\n",
       "   'album_name': 'Replay'},\n",
       "  {'pos': 33,\n",
       "   'artist_name': 'Chris Brown',\n",
       "   'track_uri': 'spotify:track:3H1LCvO3fVsK2HPguhbml0',\n",
       "   'artist_uri': 'spotify:artist:7bXgB6jMjp9ATFy66eO08Z',\n",
       "   'track_name': 'Forever',\n",
       "   'album_uri': 'spotify:album:1UtE4zAlSE2TlKmTFgrTg5',\n",
       "   'duration_ms': 277106,\n",
       "   'album_name': 'Exclusive - The Forever Edition'},\n",
       "  {'pos': 34,\n",
       "   'artist_name': 'Kesha',\n",
       "   'track_uri': 'spotify:track:3uoQULcUWfnt6nc6J7Vgai',\n",
       "   'artist_uri': 'spotify:artist:6LqNN22kT3074XbTVUrhzX',\n",
       "   'track_name': 'Your Love Is My Drug',\n",
       "   'album_uri': 'spotify:album:5peRwC6pQh8eaoIPtvmmOB',\n",
       "   'duration_ms': 187133,\n",
       "   'album_name': 'Animal'},\n",
       "  {'pos': 35,\n",
       "   'artist_name': 'Ne-Yo',\n",
       "   'track_uri': 'spotify:track:2nbClS09zsIAqNkshg6jnp',\n",
       "   'artist_uri': 'spotify:artist:21E3waRsmPlU7jZsS13rcj',\n",
       "   'track_name': 'Closer',\n",
       "   'album_uri': 'spotify:album:1nv3KEXZPmcwOXMoLTs1vn',\n",
       "   'duration_ms': 234360,\n",
       "   'album_name': 'Year Of The Gentleman'},\n",
       "  {'pos': 36,\n",
       "   'artist_name': 'Justin Bieber',\n",
       "   'track_uri': 'spotify:track:69ghzc538EQSVon2Gm3wrr',\n",
       "   'artist_uri': 'spotify:artist:1uNFoZAHBGtllmzznpCI3s',\n",
       "   'track_name': 'One Less Lonely Girl',\n",
       "   'album_uri': 'spotify:album:1rG5TDs3jYh6OU753I54CI',\n",
       "   'duration_ms': 229106,\n",
       "   'album_name': 'My World'},\n",
       "  {'pos': 37,\n",
       "   'artist_name': 'M.I.A.',\n",
       "   'track_uri': 'spotify:track:1kusepF3AacIEtUTYrw4GV',\n",
       "   'artist_uri': 'spotify:artist:0QJIPDAEDILuo8AIq3pMuU',\n",
       "   'track_name': 'Paper Planes',\n",
       "   'album_uri': 'spotify:album:1Lymt1abGCr3J06bbnmWca',\n",
       "   'duration_ms': 203760,\n",
       "   'album_name': 'Kala'},\n",
       "  {'pos': 38,\n",
       "   'artist_name': 'The Killers',\n",
       "   'track_uri': 'spotify:track:7oK9VyNzrYvRFo7nQEYkWN',\n",
       "   'artist_uri': 'spotify:artist:0C0XlULifJtAgn6ZNCW2eu',\n",
       "   'track_name': 'Mr. Brightside',\n",
       "   'album_uri': 'spotify:album:4undIeGmofnAYKhnDclN1w',\n",
       "   'duration_ms': 222586,\n",
       "   'album_name': 'Hot Fuss'},\n",
       "  {'pos': 39,\n",
       "   'artist_name': 'blink-182',\n",
       "   'track_uri': 'spotify:track:12qZHAeOyTf93YAWvGDTat',\n",
       "   'artist_uri': 'spotify:artist:6FBDaR13swtiWwGhX1WQsP',\n",
       "   'track_name': 'All The Small Things',\n",
       "   'album_uri': 'spotify:album:1fF8kYX49s5Ufv4XEY5sjW',\n",
       "   'duration_ms': 168000,\n",
       "   'album_name': 'Enema Of The State'},\n",
       "  {'pos': 40,\n",
       "   'artist_name': 'The Pussycat Dolls',\n",
       "   'track_uri': 'spotify:track:2jFlMILIQzs7lSFudG9lbo',\n",
       "   'artist_uri': 'spotify:artist:6wPhSqRtPu1UhRCDX5yaDJ',\n",
       "   'track_name': 'Beep',\n",
       "   'album_uri': 'spotify:album:0ylxpXE00fVxh6d60tevT8',\n",
       "   'duration_ms': 229360,\n",
       "   'album_name': 'PCD'},\n",
       "  {'pos': 41,\n",
       "   'artist_name': 'Justin Bieber',\n",
       "   'track_uri': 'spotify:track:4I2GqMe7L2ccMpUbnDzYLH',\n",
       "   'artist_uri': 'spotify:artist:1uNFoZAHBGtllmzznpCI3s',\n",
       "   'track_name': 'Somebody To Love',\n",
       "   'album_uri': 'spotify:album:6gdLfnf2vdNlMTyhJHaDLs',\n",
       "   'duration_ms': 220920,\n",
       "   'album_name': 'My Worlds'},\n",
       "  {'pos': 42,\n",
       "   'artist_name': 'The All-American Rejects',\n",
       "   'track_uri': 'spotify:track:5lDriBxJd22IhOH9zTcFrV',\n",
       "   'artist_uri': 'spotify:artist:3vAaWhdBR38Q02ohXqaNHT',\n",
       "   'track_name': 'Dirty Little Secret',\n",
       "   'album_uri': 'spotify:album:3PWEGZ6CYvXRnr0JCECsDe',\n",
       "   'duration_ms': 193653,\n",
       "   'album_name': 'Move Along'},\n",
       "  {'pos': 43,\n",
       "   'artist_name': 'Justin Bieber',\n",
       "   'track_uri': 'spotify:track:2eJ8ij1T3cNUKiGdcUvKhy',\n",
       "   'artist_uri': 'spotify:artist:1uNFoZAHBGtllmzznpCI3s',\n",
       "   'track_name': 'Baby',\n",
       "   'album_uri': 'spotify:album:6gdLfnf2vdNlMTyhJHaDLs',\n",
       "   'duration_ms': 213973,\n",
       "   'album_name': 'My Worlds'},\n",
       "  {'pos': 44,\n",
       "   'artist_name': 'Vanessa Carlton',\n",
       "   'track_uri': 'spotify:track:5y69gQtK33qxb8a24ACkCy',\n",
       "   'artist_uri': 'spotify:artist:5ILrArfIV0tMURcHJN8Q07',\n",
       "   'track_name': 'A Thousand Miles',\n",
       "   'album_uri': 'spotify:album:7D6BFTArx2ajtkKRVXIKO2',\n",
       "   'duration_ms': 237493,\n",
       "   'album_name': 'Be Not Nobody'},\n",
       "  {'pos': 45,\n",
       "   'artist_name': 'Cris Cab',\n",
       "   'track_uri': 'spotify:track:1X5WGCrUMuwRFuYU1eAo2I',\n",
       "   'artist_uri': 'spotify:artist:7vWBZm3sQ8yQvfV4nXxHXK',\n",
       "   'track_name': 'Livin on Sunday',\n",
       "   'album_uri': 'spotify:album:2kNznk4KDkYXifzOAUDoXN',\n",
       "   'duration_ms': 201230,\n",
       "   'album_name': 'Red Road'},\n",
       "  {'pos': 46,\n",
       "   'artist_name': 'Miley Cyrus',\n",
       "   'track_uri': 'spotify:track:3utIAb67sOu0QHxBE88P1M',\n",
       "   'artist_uri': 'spotify:artist:5YGY8feqx7naU7z4HrwZM6',\n",
       "   'track_name': 'See You Again',\n",
       "   'album_uri': 'spotify:album:6SkirMQoL4QhnXOM5MH5El',\n",
       "   'duration_ms': 190453,\n",
       "   'album_name': 'See You Again'},\n",
       "  {'pos': 47,\n",
       "   'artist_name': 'Jesse McCartney',\n",
       "   'track_uri': 'spotify:track:3jkdQNkDTxxXtjSO4l0o1H',\n",
       "   'artist_uri': 'spotify:artist:2Hjj68yyUPiC0HKEOigcEp',\n",
       "   'track_name': 'How Do You Sleep? - Featuring Ludacris',\n",
       "   'album_uri': 'spotify:album:2tDCfKFy2YW9N0IwNSRdOJ',\n",
       "   'duration_ms': 208333,\n",
       "   'album_name': 'Departure - Recharged'},\n",
       "  {'pos': 48,\n",
       "   'artist_name': 'Demi Lovato',\n",
       "   'track_uri': 'spotify:track:5c1sfI6wIQEsSUw0xrkFdl',\n",
       "   'artist_uri': 'spotify:artist:6S2OmqARrzebs0tKUEyXyp',\n",
       "   'track_name': 'This Is Me',\n",
       "   'album_uri': 'spotify:album:6vykWEBzBfEKYJxEFR1AQl',\n",
       "   'duration_ms': 189186,\n",
       "   'album_name': 'Camp Rock Original Soundtrack'},\n",
       "  {'pos': 49,\n",
       "   'artist_name': 'Avril Lavigne',\n",
       "   'track_uri': 'spotify:track:6sqNctd7MlJoKDOxPVCAvU',\n",
       "   'artist_uri': 'spotify:artist:0p4nmQO2msCgU4IF37Wi3j',\n",
       "   'track_name': 'My Happy Ending',\n",
       "   'album_uri': 'spotify:album:7851Vsjv3apS52sXUik6iF',\n",
       "   'duration_ms': 242413,\n",
       "   'album_name': 'Under My Skin'},\n",
       "  {'pos': 50,\n",
       "   'artist_name': 'We The Kings',\n",
       "   'track_uri': 'spotify:track:1b7vg5T9YKR3NNqXfBYRF7',\n",
       "   'artist_uri': 'spotify:artist:3ao3jf5d70Tf4fPh2bnXVl',\n",
       "   'track_name': 'Check Yes Juliet',\n",
       "   'album_uri': 'spotify:album:2F1hfUOuMnOxtSfrktL8VX',\n",
       "   'duration_ms': 220133,\n",
       "   'album_name': 'We The Kings'},\n",
       "  {'pos': 51,\n",
       "   'artist_name': 'Boys Like Girls',\n",
       "   'track_uri': 'spotify:track:6GIrIt2M39wEGwjCQjGChX',\n",
       "   'artist_uri': 'spotify:artist:0vWCyXMrrvMlCcepuOJaGI',\n",
       "   'track_name': 'The Great Escape',\n",
       "   'album_uri': 'spotify:album:4WqgusSAgXkrjbXzqdBY68',\n",
       "   'duration_ms': 206520,\n",
       "   'album_name': 'Boys Like Girls'}],\n",
       " 'num_edits': 6,\n",
       " 'duration_ms': 11532414,\n",
       " 'num_artists': 37}"
      ]
     },
     "execution_count": 6,
     "metadata": {},
     "output_type": "execute_result"
    }
   ],
   "source": [
    "file[0]"
   ]
  },
  {
   "cell_type": "markdown",
   "metadata": {},
   "source": [
    "## I guess the best way to find similar songs is by finding which songs are on the same playlists.  I'll try making a list of tracks first.  Tracks by different artists could have the same name, so I'll use the Spotify track URI (User Resource Indicator) as the unique label.  We end up with 67,503 tracks from the first 1,000 playlists."
   ]
  },
  {
   "cell_type": "markdown",
   "metadata": {},
   "source": [
    "## So let's make a way that we could add more data.  Here's testing again with just 1 JSON."
   ]
  },
  {
   "cell_type": "code",
   "execution_count": 7,
   "metadata": {},
   "outputs": [],
   "source": [
    "df = []\n",
    "for x in range(0,1):\n",
    "    low = 1000 * x\n",
    "    high = low + 999\n",
    "    path = \"data/mpd.slice.\" + str(low) + \"-\" + str(high) + \".json\"\n",
    "    with open(path) as f:\n",
    "        file = json.load(f)\n",
    "        file = file['playlists'] \n",
    "        for y in file:\n",
    "            for z in y['tracks']:\n",
    "                df.append([z['track_uri'], z['artist_name'], z['track_name'], z['album_name'], y['pid'], y['name']])"
   ]
  },
  {
   "cell_type": "markdown",
   "metadata": {},
   "source": [
    "## Total length of all tracks in all playlists (including tracks that appear in multiple playlists)."
   ]
  },
  {
   "cell_type": "code",
   "execution_count": 8,
   "metadata": {
    "scrolled": true
   },
   "outputs": [
    {
     "data": {
      "text/plain": [
       "67503"
      ]
     },
     "execution_count": 8,
     "metadata": {},
     "output_type": "execute_result"
    }
   ],
   "source": [
    "df = pd.DataFrame(df, columns=['Spotify_Track_URI', 'Artist_Name', 'Track_Name', 'Album_Name', 'Playlist_ID', 'Playlist_Name'])\n",
    "len(df)"
   ]
  },
  {
   "cell_type": "markdown",
   "metadata": {},
   "source": [
    "## I combined the track artist and title and added a rating column ('1' for each track in each playlist)."
   ]
  },
  {
   "cell_type": "code",
   "execution_count": 9,
   "metadata": {},
   "outputs": [],
   "source": [
    "df['Artist_and_Track_Name'] = df['Artist_Name']+' - '+df['Track_Name']\n",
    "df['Rating']=1"
   ]
  },
  {
   "cell_type": "code",
   "execution_count": 10,
   "metadata": {},
   "outputs": [
    {
     "data": {
      "text/html": [
       "<div>\n",
       "<style scoped>\n",
       "    .dataframe tbody tr th:only-of-type {\n",
       "        vertical-align: middle;\n",
       "    }\n",
       "\n",
       "    .dataframe tbody tr th {\n",
       "        vertical-align: top;\n",
       "    }\n",
       "\n",
       "    .dataframe thead th {\n",
       "        text-align: right;\n",
       "    }\n",
       "</style>\n",
       "<table border=\"1\" class=\"dataframe\">\n",
       "  <thead>\n",
       "    <tr style=\"text-align: right;\">\n",
       "      <th></th>\n",
       "      <th>Spotify_Track_URI</th>\n",
       "      <th>Artist_Name</th>\n",
       "      <th>Track_Name</th>\n",
       "      <th>Album_Name</th>\n",
       "      <th>Playlist_ID</th>\n",
       "      <th>Playlist_Name</th>\n",
       "      <th>Artist_and_Track_Name</th>\n",
       "      <th>Rating</th>\n",
       "    </tr>\n",
       "  </thead>\n",
       "  <tbody>\n",
       "    <tr>\n",
       "      <th>0</th>\n",
       "      <td>spotify:track:0UaMYEvWZi0ZqiDOoHU3YI</td>\n",
       "      <td>Missy Elliott</td>\n",
       "      <td>Lose Control (feat. Ciara &amp; Fat Man Scoop)</td>\n",
       "      <td>The Cookbook</td>\n",
       "      <td>0</td>\n",
       "      <td>Throwbacks</td>\n",
       "      <td>Missy Elliott - Lose Control (feat. Ciara &amp; Fat Man Scoop)</td>\n",
       "      <td>1</td>\n",
       "    </tr>\n",
       "    <tr>\n",
       "      <th>1</th>\n",
       "      <td>spotify:track:6I9VzXrHxO9rA9A5euc8Ak</td>\n",
       "      <td>Britney Spears</td>\n",
       "      <td>Toxic</td>\n",
       "      <td>In The Zone</td>\n",
       "      <td>0</td>\n",
       "      <td>Throwbacks</td>\n",
       "      <td>Britney Spears - Toxic</td>\n",
       "      <td>1</td>\n",
       "    </tr>\n",
       "    <tr>\n",
       "      <th>2</th>\n",
       "      <td>spotify:track:0WqIKmW4BTrj3eJFmnCKMv</td>\n",
       "      <td>Beyoncé</td>\n",
       "      <td>Crazy In Love</td>\n",
       "      <td>Dangerously In Love (Alben für die Ewigkeit)</td>\n",
       "      <td>0</td>\n",
       "      <td>Throwbacks</td>\n",
       "      <td>Beyoncé - Crazy In Love</td>\n",
       "      <td>1</td>\n",
       "    </tr>\n",
       "    <tr>\n",
       "      <th>3</th>\n",
       "      <td>spotify:track:1AWQoqb9bSvzTjaLralEkT</td>\n",
       "      <td>Justin Timberlake</td>\n",
       "      <td>Rock Your Body</td>\n",
       "      <td>Justified</td>\n",
       "      <td>0</td>\n",
       "      <td>Throwbacks</td>\n",
       "      <td>Justin Timberlake - Rock Your Body</td>\n",
       "      <td>1</td>\n",
       "    </tr>\n",
       "    <tr>\n",
       "      <th>4</th>\n",
       "      <td>spotify:track:1lzr43nnXAijIGYnCT8M8H</td>\n",
       "      <td>Shaggy</td>\n",
       "      <td>It Wasn't Me</td>\n",
       "      <td>Hot Shot</td>\n",
       "      <td>0</td>\n",
       "      <td>Throwbacks</td>\n",
       "      <td>Shaggy - It Wasn't Me</td>\n",
       "      <td>1</td>\n",
       "    </tr>\n",
       "  </tbody>\n",
       "</table>\n",
       "</div>"
      ],
      "text/plain": [
       "                      Spotify_Track_URI        Artist_Name  \\\n",
       "0  spotify:track:0UaMYEvWZi0ZqiDOoHU3YI      Missy Elliott   \n",
       "1  spotify:track:6I9VzXrHxO9rA9A5euc8Ak     Britney Spears   \n",
       "2  spotify:track:0WqIKmW4BTrj3eJFmnCKMv            Beyoncé   \n",
       "3  spotify:track:1AWQoqb9bSvzTjaLralEkT  Justin Timberlake   \n",
       "4  spotify:track:1lzr43nnXAijIGYnCT8M8H             Shaggy   \n",
       "\n",
       "                                   Track_Name  \\\n",
       "0  Lose Control (feat. Ciara & Fat Man Scoop)   \n",
       "1                                       Toxic   \n",
       "2                               Crazy In Love   \n",
       "3                              Rock Your Body   \n",
       "4                                It Wasn't Me   \n",
       "\n",
       "                                     Album_Name  Playlist_ID Playlist_Name  \\\n",
       "0                                  The Cookbook            0    Throwbacks   \n",
       "1                                   In The Zone            0    Throwbacks   \n",
       "2  Dangerously In Love (Alben für die Ewigkeit)            0    Throwbacks   \n",
       "3                                     Justified            0    Throwbacks   \n",
       "4                                      Hot Shot            0    Throwbacks   \n",
       "\n",
       "                                        Artist_and_Track_Name  Rating  \n",
       "0  Missy Elliott - Lose Control (feat. Ciara & Fat Man Scoop)       1  \n",
       "1                                      Britney Spears - Toxic       1  \n",
       "2                                     Beyoncé - Crazy In Love       1  \n",
       "3                          Justin Timberlake - Rock Your Body       1  \n",
       "4                                       Shaggy - It Wasn't Me       1  "
      ]
     },
     "execution_count": 10,
     "metadata": {},
     "output_type": "execute_result"
    }
   ],
   "source": [
    "df.head()"
   ]
  },
  {
   "cell_type": "code",
   "execution_count": 11,
   "metadata": {},
   "outputs": [
    {
     "data": {
      "text/html": [
       "<div>\n",
       "<style scoped>\n",
       "    .dataframe tbody tr th:only-of-type {\n",
       "        vertical-align: middle;\n",
       "    }\n",
       "\n",
       "    .dataframe tbody tr th {\n",
       "        vertical-align: top;\n",
       "    }\n",
       "\n",
       "    .dataframe thead th {\n",
       "        text-align: right;\n",
       "    }\n",
       "</style>\n",
       "<table border=\"1\" class=\"dataframe\">\n",
       "  <thead>\n",
       "    <tr style=\"text-align: right;\">\n",
       "      <th></th>\n",
       "      <th>Spotify_Track_URI</th>\n",
       "      <th>Artist_Name</th>\n",
       "      <th>Track_Name</th>\n",
       "      <th>Album_Name</th>\n",
       "      <th>Playlist_ID</th>\n",
       "      <th>Playlist_Name</th>\n",
       "      <th>Artist_and_Track_Name</th>\n",
       "      <th>Rating</th>\n",
       "    </tr>\n",
       "  </thead>\n",
       "  <tbody>\n",
       "    <tr>\n",
       "      <th>67498</th>\n",
       "      <td>spotify:track:5uCax9HTNlzGybIStD3vDh</td>\n",
       "      <td>James Arthur</td>\n",
       "      <td>Say You Won't Let Go</td>\n",
       "      <td>Back from the Edge</td>\n",
       "      <td>999</td>\n",
       "      <td>thinking of you</td>\n",
       "      <td>James Arthur - Say You Won't Let Go</td>\n",
       "      <td>1</td>\n",
       "    </tr>\n",
       "    <tr>\n",
       "      <th>67499</th>\n",
       "      <td>spotify:track:0P1oO2gREMYUCoOkzYAyFu</td>\n",
       "      <td>Big Words</td>\n",
       "      <td>The Answer</td>\n",
       "      <td>Hollywood, a Beautiful Coincidence</td>\n",
       "      <td>999</td>\n",
       "      <td>thinking of you</td>\n",
       "      <td>Big Words - The Answer</td>\n",
       "      <td>1</td>\n",
       "    </tr>\n",
       "    <tr>\n",
       "      <th>67500</th>\n",
       "      <td>spotify:track:2oM4BuruDnEvk59IvIXCwn</td>\n",
       "      <td>Allan Rayman</td>\n",
       "      <td>25.22</td>\n",
       "      <td>Roadhouse 01</td>\n",
       "      <td>999</td>\n",
       "      <td>thinking of you</td>\n",
       "      <td>Allan Rayman - 25.22</td>\n",
       "      <td>1</td>\n",
       "    </tr>\n",
       "    <tr>\n",
       "      <th>67501</th>\n",
       "      <td>spotify:track:4Ri5TTUgjM96tbQZd5Ua7V</td>\n",
       "      <td>Jon Jason</td>\n",
       "      <td>Good Feeling</td>\n",
       "      <td>Good Feeling</td>\n",
       "      <td>999</td>\n",
       "      <td>thinking of you</td>\n",
       "      <td>Jon Jason - Good Feeling</td>\n",
       "      <td>1</td>\n",
       "    </tr>\n",
       "    <tr>\n",
       "      <th>67502</th>\n",
       "      <td>spotify:track:5RVuBrXVLptAEbGJdSDzL5</td>\n",
       "      <td>Grizfolk</td>\n",
       "      <td>Cosmic Angel - Acoustic From Capitol Studios</td>\n",
       "      <td>Cosmic Angel</td>\n",
       "      <td>999</td>\n",
       "      <td>thinking of you</td>\n",
       "      <td>Grizfolk - Cosmic Angel - Acoustic From Capitol Studios</td>\n",
       "      <td>1</td>\n",
       "    </tr>\n",
       "  </tbody>\n",
       "</table>\n",
       "</div>"
      ],
      "text/plain": [
       "                          Spotify_Track_URI   Artist_Name  \\\n",
       "67498  spotify:track:5uCax9HTNlzGybIStD3vDh  James Arthur   \n",
       "67499  spotify:track:0P1oO2gREMYUCoOkzYAyFu     Big Words   \n",
       "67500  spotify:track:2oM4BuruDnEvk59IvIXCwn  Allan Rayman   \n",
       "67501  spotify:track:4Ri5TTUgjM96tbQZd5Ua7V     Jon Jason   \n",
       "67502  spotify:track:5RVuBrXVLptAEbGJdSDzL5      Grizfolk   \n",
       "\n",
       "                                         Track_Name  \\\n",
       "67498                          Say You Won't Let Go   \n",
       "67499                                    The Answer   \n",
       "67500                                         25.22   \n",
       "67501                                  Good Feeling   \n",
       "67502  Cosmic Angel - Acoustic From Capitol Studios   \n",
       "\n",
       "                               Album_Name  Playlist_ID    Playlist_Name  \\\n",
       "67498                  Back from the Edge          999  thinking of you   \n",
       "67499  Hollywood, a Beautiful Coincidence          999  thinking of you   \n",
       "67500                        Roadhouse 01          999  thinking of you   \n",
       "67501                        Good Feeling          999  thinking of you   \n",
       "67502                        Cosmic Angel          999  thinking of you   \n",
       "\n",
       "                                         Artist_and_Track_Name  Rating  \n",
       "67498                      James Arthur - Say You Won't Let Go       1  \n",
       "67499                                   Big Words - The Answer       1  \n",
       "67500                                     Allan Rayman - 25.22       1  \n",
       "67501                                 Jon Jason - Good Feeling       1  \n",
       "67502  Grizfolk - Cosmic Angel - Acoustic From Capitol Studios       1  "
      ]
     },
     "execution_count": 11,
     "metadata": {},
     "output_type": "execute_result"
    }
   ],
   "source": [
    "df.tail()"
   ]
  },
  {
   "cell_type": "markdown",
   "metadata": {},
   "source": [
    "## So there are 34k unique tracks out of 68k total tracks in all playlists.  Which is good, because we need overlapping tracks in order to make predictions this way."
   ]
  },
  {
   "cell_type": "code",
   "execution_count": 12,
   "metadata": {},
   "outputs": [
    {
     "data": {
      "text/html": [
       "<div>\n",
       "<style scoped>\n",
       "    .dataframe tbody tr th:only-of-type {\n",
       "        vertical-align: middle;\n",
       "    }\n",
       "\n",
       "    .dataframe tbody tr th {\n",
       "        vertical-align: top;\n",
       "    }\n",
       "\n",
       "    .dataframe thead th {\n",
       "        text-align: right;\n",
       "    }\n",
       "</style>\n",
       "<table border=\"1\" class=\"dataframe\">\n",
       "  <thead>\n",
       "    <tr style=\"text-align: right;\">\n",
       "      <th></th>\n",
       "      <th>count</th>\n",
       "      <th>unique</th>\n",
       "      <th>top</th>\n",
       "      <th>freq</th>\n",
       "      <th>mean</th>\n",
       "      <th>std</th>\n",
       "      <th>min</th>\n",
       "      <th>25%</th>\n",
       "      <th>50%</th>\n",
       "      <th>75%</th>\n",
       "      <th>max</th>\n",
       "    </tr>\n",
       "  </thead>\n",
       "  <tbody>\n",
       "    <tr>\n",
       "      <th>Spotify_Track_URI</th>\n",
       "      <td>67503</td>\n",
       "      <td>34443</td>\n",
       "      <td>spotify:track:1xznGGDReH1oQq0xzbwXa3</td>\n",
       "      <td>55</td>\n",
       "      <td>NaN</td>\n",
       "      <td>NaN</td>\n",
       "      <td>NaN</td>\n",
       "      <td>NaN</td>\n",
       "      <td>NaN</td>\n",
       "      <td>NaN</td>\n",
       "      <td>NaN</td>\n",
       "    </tr>\n",
       "    <tr>\n",
       "      <th>Artist_Name</th>\n",
       "      <td>67503</td>\n",
       "      <td>9722</td>\n",
       "      <td>Drake</td>\n",
       "      <td>939</td>\n",
       "      <td>NaN</td>\n",
       "      <td>NaN</td>\n",
       "      <td>NaN</td>\n",
       "      <td>NaN</td>\n",
       "      <td>NaN</td>\n",
       "      <td>NaN</td>\n",
       "      <td>NaN</td>\n",
       "    </tr>\n",
       "    <tr>\n",
       "      <th>Track_Name</th>\n",
       "      <td>67503</td>\n",
       "      <td>30049</td>\n",
       "      <td>Closer</td>\n",
       "      <td>75</td>\n",
       "      <td>NaN</td>\n",
       "      <td>NaN</td>\n",
       "      <td>NaN</td>\n",
       "      <td>NaN</td>\n",
       "      <td>NaN</td>\n",
       "      <td>NaN</td>\n",
       "      <td>NaN</td>\n",
       "    </tr>\n",
       "    <tr>\n",
       "      <th>Album_Name</th>\n",
       "      <td>67503</td>\n",
       "      <td>17437</td>\n",
       "      <td>Views</td>\n",
       "      <td>234</td>\n",
       "      <td>NaN</td>\n",
       "      <td>NaN</td>\n",
       "      <td>NaN</td>\n",
       "      <td>NaN</td>\n",
       "      <td>NaN</td>\n",
       "      <td>NaN</td>\n",
       "      <td>NaN</td>\n",
       "    </tr>\n",
       "    <tr>\n",
       "      <th>Playlist_ID</th>\n",
       "      <td>67503</td>\n",
       "      <td>NaN</td>\n",
       "      <td>NaN</td>\n",
       "      <td>NaN</td>\n",
       "      <td>508.371</td>\n",
       "      <td>286.288</td>\n",
       "      <td>0</td>\n",
       "      <td>262</td>\n",
       "      <td>505</td>\n",
       "      <td>752</td>\n",
       "      <td>999</td>\n",
       "    </tr>\n",
       "    <tr>\n",
       "      <th>Playlist_Name</th>\n",
       "      <td>67503</td>\n",
       "      <td>869</td>\n",
       "      <td>Country</td>\n",
       "      <td>1741</td>\n",
       "      <td>NaN</td>\n",
       "      <td>NaN</td>\n",
       "      <td>NaN</td>\n",
       "      <td>NaN</td>\n",
       "      <td>NaN</td>\n",
       "      <td>NaN</td>\n",
       "      <td>NaN</td>\n",
       "    </tr>\n",
       "    <tr>\n",
       "      <th>Artist_and_Track_Name</th>\n",
       "      <td>67503</td>\n",
       "      <td>34250</td>\n",
       "      <td>Drake - One Dance</td>\n",
       "      <td>55</td>\n",
       "      <td>NaN</td>\n",
       "      <td>NaN</td>\n",
       "      <td>NaN</td>\n",
       "      <td>NaN</td>\n",
       "      <td>NaN</td>\n",
       "      <td>NaN</td>\n",
       "      <td>NaN</td>\n",
       "    </tr>\n",
       "    <tr>\n",
       "      <th>Rating</th>\n",
       "      <td>67503</td>\n",
       "      <td>NaN</td>\n",
       "      <td>NaN</td>\n",
       "      <td>NaN</td>\n",
       "      <td>1</td>\n",
       "      <td>0</td>\n",
       "      <td>1</td>\n",
       "      <td>1</td>\n",
       "      <td>1</td>\n",
       "      <td>1</td>\n",
       "      <td>1</td>\n",
       "    </tr>\n",
       "  </tbody>\n",
       "</table>\n",
       "</div>"
      ],
      "text/plain": [
       "                       count unique                                   top  \\\n",
       "Spotify_Track_URI      67503  34443  spotify:track:1xznGGDReH1oQq0xzbwXa3   \n",
       "Artist_Name            67503   9722                                 Drake   \n",
       "Track_Name             67503  30049                                Closer   \n",
       "Album_Name             67503  17437                                 Views   \n",
       "Playlist_ID            67503    NaN                                   NaN   \n",
       "Playlist_Name          67503    869                               Country   \n",
       "Artist_and_Track_Name  67503  34250                     Drake - One Dance   \n",
       "Rating                 67503    NaN                                   NaN   \n",
       "\n",
       "                       freq     mean      std  min  25%  50%  75%  max  \n",
       "Spotify_Track_URI        55      NaN      NaN  NaN  NaN  NaN  NaN  NaN  \n",
       "Artist_Name             939      NaN      NaN  NaN  NaN  NaN  NaN  NaN  \n",
       "Track_Name               75      NaN      NaN  NaN  NaN  NaN  NaN  NaN  \n",
       "Album_Name              234      NaN      NaN  NaN  NaN  NaN  NaN  NaN  \n",
       "Playlist_ID             NaN  508.371  286.288    0  262  505  752  999  \n",
       "Playlist_Name          1741      NaN      NaN  NaN  NaN  NaN  NaN  NaN  \n",
       "Artist_and_Track_Name    55      NaN      NaN  NaN  NaN  NaN  NaN  NaN  \n",
       "Rating                  NaN        1        0    1    1    1    1    1  "
      ]
     },
     "execution_count": 12,
     "metadata": {},
     "output_type": "execute_result"
    }
   ],
   "source": [
    "df.describe(include='all').T"
   ]
  },
  {
   "cell_type": "markdown",
   "metadata": {},
   "source": [
    "## Create the Interactions and Collaborate Filtering matrices"
   ]
  },
  {
   "cell_type": "code",
   "execution_count": 13,
   "metadata": {},
   "outputs": [
    {
     "data": {
      "text/html": [
       "<div>\n",
       "<style scoped>\n",
       "    .dataframe tbody tr th:only-of-type {\n",
       "        vertical-align: middle;\n",
       "    }\n",
       "\n",
       "    .dataframe tbody tr th {\n",
       "        vertical-align: top;\n",
       "    }\n",
       "\n",
       "    .dataframe thead th {\n",
       "        text-align: right;\n",
       "    }\n",
       "</style>\n",
       "<table border=\"1\" class=\"dataframe\">\n",
       "  <thead>\n",
       "    <tr style=\"text-align: right;\">\n",
       "      <th></th>\n",
       "      <th>count</th>\n",
       "      <th>unique</th>\n",
       "      <th>top</th>\n",
       "      <th>freq</th>\n",
       "      <th>mean</th>\n",
       "      <th>std</th>\n",
       "      <th>min</th>\n",
       "      <th>25%</th>\n",
       "      <th>50%</th>\n",
       "      <th>75%</th>\n",
       "      <th>max</th>\n",
       "    </tr>\n",
       "  </thead>\n",
       "  <tbody>\n",
       "    <tr>\n",
       "      <th>Playlist_ID</th>\n",
       "      <td>1000</td>\n",
       "      <td>NaN</td>\n",
       "      <td>NaN</td>\n",
       "      <td>NaN</td>\n",
       "      <td>499.5</td>\n",
       "      <td>288.819</td>\n",
       "      <td>0</td>\n",
       "      <td>249.75</td>\n",
       "      <td>499.5</td>\n",
       "      <td>749.25</td>\n",
       "      <td>999</td>\n",
       "    </tr>\n",
       "    <tr>\n",
       "      <th>Playlist_Name</th>\n",
       "      <td>1000</td>\n",
       "      <td>869</td>\n",
       "      <td>Country</td>\n",
       "      <td>17</td>\n",
       "      <td>NaN</td>\n",
       "      <td>NaN</td>\n",
       "      <td>NaN</td>\n",
       "      <td>NaN</td>\n",
       "      <td>NaN</td>\n",
       "      <td>NaN</td>\n",
       "      <td>NaN</td>\n",
       "    </tr>\n",
       "  </tbody>\n",
       "</table>\n",
       "</div>"
      ],
      "text/plain": [
       "              count unique      top freq   mean      std  min     25%    50%  \\\n",
       "Playlist_ID    1000    NaN      NaN  NaN  499.5  288.819    0  249.75  499.5   \n",
       "Playlist_Name  1000    869  Country   17    NaN      NaN  NaN     NaN    NaN   \n",
       "\n",
       "                  75%  max  \n",
       "Playlist_ID    749.25  999  \n",
       "Playlist_Name     NaN  NaN  "
      ]
     },
     "execution_count": 13,
     "metadata": {},
     "output_type": "execute_result"
    }
   ],
   "source": [
    "users = df[['Playlist_ID','Playlist_Name']].copy()\n",
    "users = users.drop_duplicates()\n",
    "users.describe(include='all').T"
   ]
  },
  {
   "cell_type": "code",
   "execution_count": 14,
   "metadata": {},
   "outputs": [],
   "source": [
    "users['Playlist_Name'] = users['Playlist_Name'].str.lower()\n",
    "users['Playlist_Name'] = [x.replace('the ','').replace('my ','').replace('awesome ', '').replace('good ','').replace('its ','').replace('for ','').replace('top ','').replace('best ','').replace('get ','').replace('its ','').replace('it ','').replace(' hits','').replace('hits ','').replace('fave ','').replace('favorite ','').replace('go to ','').replace('to ','').replace('music','').replace('playlist','').replace('mix','').replace('songs','').replace('faves','') for x in users['Playlist_Name']]\n",
    "\n",
    "users['Playlist_Name'] = [x.translate(str.maketrans('','', string.punctuation)).strip() for x in users['Playlist_Name']]\n",
    "users['Playlist_Name'] = users['Playlist_Name'].str.slice(0,5)\n",
    "users['Playlist_Name'] = [x.strip() for x in users['Playlist_Name']]"
   ]
  },
  {
   "cell_type": "code",
   "execution_count": 15,
   "metadata": {},
   "outputs": [
    {
     "data": {
      "text/html": [
       "<div>\n",
       "<style scoped>\n",
       "    .dataframe tbody tr th:only-of-type {\n",
       "        vertical-align: middle;\n",
       "    }\n",
       "\n",
       "    .dataframe tbody tr th {\n",
       "        vertical-align: top;\n",
       "    }\n",
       "\n",
       "    .dataframe thead th {\n",
       "        text-align: right;\n",
       "    }\n",
       "</style>\n",
       "<table border=\"1\" class=\"dataframe\">\n",
       "  <thead>\n",
       "    <tr style=\"text-align: right;\">\n",
       "      <th></th>\n",
       "      <th>count</th>\n",
       "      <th>unique</th>\n",
       "      <th>top</th>\n",
       "      <th>freq</th>\n",
       "      <th>mean</th>\n",
       "      <th>std</th>\n",
       "      <th>min</th>\n",
       "      <th>25%</th>\n",
       "      <th>50%</th>\n",
       "      <th>75%</th>\n",
       "      <th>max</th>\n",
       "    </tr>\n",
       "  </thead>\n",
       "  <tbody>\n",
       "    <tr>\n",
       "      <th>Playlist_ID</th>\n",
       "      <td>1000</td>\n",
       "      <td>NaN</td>\n",
       "      <td>NaN</td>\n",
       "      <td>NaN</td>\n",
       "      <td>499.5</td>\n",
       "      <td>288.819</td>\n",
       "      <td>0</td>\n",
       "      <td>249.75</td>\n",
       "      <td>499.5</td>\n",
       "      <td>749.25</td>\n",
       "      <td>999</td>\n",
       "    </tr>\n",
       "    <tr>\n",
       "      <th>Playlist_Name</th>\n",
       "      <td>1000</td>\n",
       "      <td>561</td>\n",
       "      <td>count</td>\n",
       "      <td>31</td>\n",
       "      <td>NaN</td>\n",
       "      <td>NaN</td>\n",
       "      <td>NaN</td>\n",
       "      <td>NaN</td>\n",
       "      <td>NaN</td>\n",
       "      <td>NaN</td>\n",
       "      <td>NaN</td>\n",
       "    </tr>\n",
       "  </tbody>\n",
       "</table>\n",
       "</div>"
      ],
      "text/plain": [
       "              count unique    top freq   mean      std  min     25%    50%  \\\n",
       "Playlist_ID    1000    NaN    NaN  NaN  499.5  288.819    0  249.75  499.5   \n",
       "Playlist_Name  1000    561  count   31    NaN      NaN  NaN     NaN    NaN   \n",
       "\n",
       "                  75%  max  \n",
       "Playlist_ID    749.25  999  \n",
       "Playlist_Name     NaN  NaN  "
      ]
     },
     "execution_count": 15,
     "metadata": {},
     "output_type": "execute_result"
    }
   ],
   "source": [
    "users.describe(include='all').T"
   ]
  },
  {
   "cell_type": "code",
   "execution_count": 16,
   "metadata": {},
   "outputs": [],
   "source": [
    "users = pd.get_dummies(data=users, columns=['Playlist_Name'], prefix=['PL'], dtype=int).drop(['PL_'],axis=1)"
   ]
  },
  {
   "cell_type": "code",
   "execution_count": 17,
   "metadata": {},
   "outputs": [
    {
     "data": {
      "text/plain": [
       "Playlist_ID    499500\n",
       "PL_count           31\n",
       "PL_chill           25\n",
       "PL_summe           23\n",
       "PL_chris           21\n",
       "PL_party           15\n",
       "PL_class           13\n",
       "PL_rock            11\n",
       "PL_worko           10\n",
       "PL_rap             10\n",
       "PL_new              9\n",
       "PL_throw            9\n",
       "PL_weddi            9\n",
       "PL_oldie            9\n",
       "PL_dance            8\n",
       "PL_relax            8\n",
       "PL_worsh            8\n",
       "PL_runni            7\n",
       "PL_disne            7\n",
       "PL_sleep            6\n",
       "dtype: int64"
      ]
     },
     "execution_count": 17,
     "metadata": {},
     "output_type": "execute_result"
    }
   ],
   "source": [
    "users.sum(axis=0).sort_values(ascending=False)[:20]"
   ]
  },
  {
   "cell_type": "code",
   "execution_count": 18,
   "metadata": {},
   "outputs": [
    {
     "data": {
      "text/html": [
       "<div>\n",
       "<style scoped>\n",
       "    .dataframe tbody tr th:only-of-type {\n",
       "        vertical-align: middle;\n",
       "    }\n",
       "\n",
       "    .dataframe tbody tr th {\n",
       "        vertical-align: top;\n",
       "    }\n",
       "\n",
       "    .dataframe thead th {\n",
       "        text-align: right;\n",
       "    }\n",
       "</style>\n",
       "<table border=\"1\" class=\"dataframe\">\n",
       "  <thead>\n",
       "    <tr style=\"text-align: right;\">\n",
       "      <th></th>\n",
       "      <th>Spotify_Track_URI</th>\n",
       "      <th>Artist_Name</th>\n",
       "      <th>Track_Name</th>\n",
       "      <th>Album_Name</th>\n",
       "    </tr>\n",
       "  </thead>\n",
       "  <tbody>\n",
       "    <tr>\n",
       "      <th>0</th>\n",
       "      <td>spotify:track:0UaMYEvWZi0ZqiDOoHU3YI</td>\n",
       "      <td>Missy Elliott</td>\n",
       "      <td>Lose Control (feat. Ciara &amp; Fat Man Scoop)</td>\n",
       "      <td>The Cookbook</td>\n",
       "    </tr>\n",
       "    <tr>\n",
       "      <th>1</th>\n",
       "      <td>spotify:track:6I9VzXrHxO9rA9A5euc8Ak</td>\n",
       "      <td>Britney Spears</td>\n",
       "      <td>Toxic</td>\n",
       "      <td>In The Zone</td>\n",
       "    </tr>\n",
       "    <tr>\n",
       "      <th>2</th>\n",
       "      <td>spotify:track:0WqIKmW4BTrj3eJFmnCKMv</td>\n",
       "      <td>Beyoncé</td>\n",
       "      <td>Crazy In Love</td>\n",
       "      <td>Dangerously In Love (Alben für die Ewigkeit)</td>\n",
       "    </tr>\n",
       "    <tr>\n",
       "      <th>3</th>\n",
       "      <td>spotify:track:1AWQoqb9bSvzTjaLralEkT</td>\n",
       "      <td>Justin Timberlake</td>\n",
       "      <td>Rock Your Body</td>\n",
       "      <td>Justified</td>\n",
       "    </tr>\n",
       "    <tr>\n",
       "      <th>4</th>\n",
       "      <td>spotify:track:1lzr43nnXAijIGYnCT8M8H</td>\n",
       "      <td>Shaggy</td>\n",
       "      <td>It Wasn't Me</td>\n",
       "      <td>Hot Shot</td>\n",
       "    </tr>\n",
       "  </tbody>\n",
       "</table>\n",
       "</div>"
      ],
      "text/plain": [
       "                      Spotify_Track_URI        Artist_Name  \\\n",
       "0  spotify:track:0UaMYEvWZi0ZqiDOoHU3YI      Missy Elliott   \n",
       "1  spotify:track:6I9VzXrHxO9rA9A5euc8Ak     Britney Spears   \n",
       "2  spotify:track:0WqIKmW4BTrj3eJFmnCKMv            Beyoncé   \n",
       "3  spotify:track:1AWQoqb9bSvzTjaLralEkT  Justin Timberlake   \n",
       "4  spotify:track:1lzr43nnXAijIGYnCT8M8H             Shaggy   \n",
       "\n",
       "                                   Track_Name  \\\n",
       "0  Lose Control (feat. Ciara & Fat Man Scoop)   \n",
       "1                                       Toxic   \n",
       "2                               Crazy In Love   \n",
       "3                              Rock Your Body   \n",
       "4                                It Wasn't Me   \n",
       "\n",
       "                                     Album_Name  \n",
       "0                                  The Cookbook  \n",
       "1                                   In The Zone  \n",
       "2  Dangerously In Love (Alben für die Ewigkeit)  \n",
       "3                                     Justified  \n",
       "4                                      Hot Shot  "
      ]
     },
     "execution_count": 18,
     "metadata": {},
     "output_type": "execute_result"
    }
   ],
   "source": [
    "items = df.drop(['Playlist_ID','Playlist_Name','Rating','Artist_and_Track_Name'], axis=1)\n",
    "items = items.drop_duplicates()\n",
    "items.head()"
   ]
  },
  {
   "cell_type": "code",
   "execution_count": 19,
   "metadata": {},
   "outputs": [
    {
     "data": {
      "text/html": [
       "<div>\n",
       "<style scoped>\n",
       "    .dataframe tbody tr th:only-of-type {\n",
       "        vertical-align: middle;\n",
       "    }\n",
       "\n",
       "    .dataframe tbody tr th {\n",
       "        vertical-align: top;\n",
       "    }\n",
       "\n",
       "    .dataframe thead th {\n",
       "        text-align: right;\n",
       "    }\n",
       "</style>\n",
       "<table border=\"1\" class=\"dataframe\">\n",
       "  <thead>\n",
       "    <tr style=\"text-align: right;\">\n",
       "      <th></th>\n",
       "      <th>count</th>\n",
       "      <th>unique</th>\n",
       "      <th>top</th>\n",
       "      <th>freq</th>\n",
       "    </tr>\n",
       "  </thead>\n",
       "  <tbody>\n",
       "    <tr>\n",
       "      <th>Spotify_Track_URI</th>\n",
       "      <td>34443</td>\n",
       "      <td>34443</td>\n",
       "      <td>spotify:track:15WRWc3qqlyAzTne9q5tQK</td>\n",
       "      <td>1</td>\n",
       "    </tr>\n",
       "    <tr>\n",
       "      <th>Artist_Name</th>\n",
       "      <td>34443</td>\n",
       "      <td>9722</td>\n",
       "      <td>Pearl Jam</td>\n",
       "      <td>159</td>\n",
       "    </tr>\n",
       "    <tr>\n",
       "      <th>Track_Name</th>\n",
       "      <td>34443</td>\n",
       "      <td>30049</td>\n",
       "      <td>Silent Night</td>\n",
       "      <td>21</td>\n",
       "    </tr>\n",
       "    <tr>\n",
       "      <th>Album_Name</th>\n",
       "      <td>34443</td>\n",
       "      <td>17437</td>\n",
       "      <td>Greatest Hits</td>\n",
       "      <td>82</td>\n",
       "    </tr>\n",
       "  </tbody>\n",
       "</table>\n",
       "</div>"
      ],
      "text/plain": [
       "                   count unique                                   top freq\n",
       "Spotify_Track_URI  34443  34443  spotify:track:15WRWc3qqlyAzTne9q5tQK    1\n",
       "Artist_Name        34443   9722                             Pearl Jam  159\n",
       "Track_Name         34443  30049                          Silent Night   21\n",
       "Album_Name         34443  17437                         Greatest Hits   82"
      ]
     },
     "execution_count": 19,
     "metadata": {},
     "output_type": "execute_result"
    }
   ],
   "source": [
    "items.describe(include='all').T"
   ]
  },
  {
   "cell_type": "code",
   "execution_count": 20,
   "metadata": {},
   "outputs": [
    {
     "data": {
      "text/html": [
       "<div>\n",
       "<style scoped>\n",
       "    .dataframe tbody tr th:only-of-type {\n",
       "        vertical-align: middle;\n",
       "    }\n",
       "\n",
       "    .dataframe tbody tr th {\n",
       "        vertical-align: top;\n",
       "    }\n",
       "\n",
       "    .dataframe thead th {\n",
       "        text-align: right;\n",
       "    }\n",
       "</style>\n",
       "<table border=\"1\" class=\"dataframe\">\n",
       "  <thead>\n",
       "    <tr style=\"text-align: right;\">\n",
       "      <th></th>\n",
       "      <th>Spotify_Track_URI</th>\n",
       "      <th>Artist_Name</th>\n",
       "      <th>Track_Name</th>\n",
       "      <th>Album_Name</th>\n",
       "    </tr>\n",
       "  </thead>\n",
       "  <tbody>\n",
       "    <tr>\n",
       "      <th>0</th>\n",
       "      <td>spotify:track:0UaMYEvWZi0ZqiDOoHU3YI</td>\n",
       "      <td>Missy Elliott</td>\n",
       "      <td>Lose Control (f</td>\n",
       "      <td>The Cookbook</td>\n",
       "    </tr>\n",
       "    <tr>\n",
       "      <th>1</th>\n",
       "      <td>spotify:track:6I9VzXrHxO9rA9A5euc8Ak</td>\n",
       "      <td>Britney Spears</td>\n",
       "      <td>Toxic</td>\n",
       "      <td>In The Zone</td>\n",
       "    </tr>\n",
       "    <tr>\n",
       "      <th>2</th>\n",
       "      <td>spotify:track:0WqIKmW4BTrj3eJFmnCKMv</td>\n",
       "      <td>Beyoncé</td>\n",
       "      <td>Crazy In Love</td>\n",
       "      <td>Dangerously In</td>\n",
       "    </tr>\n",
       "    <tr>\n",
       "      <th>3</th>\n",
       "      <td>spotify:track:1AWQoqb9bSvzTjaLralEkT</td>\n",
       "      <td>Justin Timberla</td>\n",
       "      <td>Rock Your Body</td>\n",
       "      <td>Justified</td>\n",
       "    </tr>\n",
       "    <tr>\n",
       "      <th>4</th>\n",
       "      <td>spotify:track:1lzr43nnXAijIGYnCT8M8H</td>\n",
       "      <td>Shaggy</td>\n",
       "      <td>It Wasn't Me</td>\n",
       "      <td>Hot Shot</td>\n",
       "    </tr>\n",
       "  </tbody>\n",
       "</table>\n",
       "</div>"
      ],
      "text/plain": [
       "                      Spotify_Track_URI      Artist_Name       Track_Name  \\\n",
       "0  spotify:track:0UaMYEvWZi0ZqiDOoHU3YI    Missy Elliott  Lose Control (f   \n",
       "1  spotify:track:6I9VzXrHxO9rA9A5euc8Ak   Britney Spears            Toxic   \n",
       "2  spotify:track:0WqIKmW4BTrj3eJFmnCKMv          Beyoncé    Crazy In Love   \n",
       "3  spotify:track:1AWQoqb9bSvzTjaLralEkT  Justin Timberla   Rock Your Body   \n",
       "4  spotify:track:1lzr43nnXAijIGYnCT8M8H           Shaggy     It Wasn't Me   \n",
       "\n",
       "        Album_Name  \n",
       "0     The Cookbook  \n",
       "1      In The Zone  \n",
       "2  Dangerously In   \n",
       "3        Justified  \n",
       "4         Hot Shot  "
      ]
     },
     "execution_count": 20,
     "metadata": {},
     "output_type": "execute_result"
    }
   ],
   "source": [
    "items['Artist_Name'] = items['Artist_Name'].str.strip(string.punctuation).str.slice(0,15)\n",
    "items['Track_Name'] = items['Track_Name'].str.strip(string.punctuation).str.slice(0,15)\n",
    "items['Album_Name'] = items['Album_Name'].str.strip(string.punctuation).str.slice(0,15)\n",
    "items.head()"
   ]
  },
  {
   "cell_type": "code",
   "execution_count": 21,
   "metadata": {},
   "outputs": [
    {
     "data": {
      "text/html": [
       "<div>\n",
       "<style scoped>\n",
       "    .dataframe tbody tr th:only-of-type {\n",
       "        vertical-align: middle;\n",
       "    }\n",
       "\n",
       "    .dataframe tbody tr th {\n",
       "        vertical-align: top;\n",
       "    }\n",
       "\n",
       "    .dataframe thead th {\n",
       "        text-align: right;\n",
       "    }\n",
       "</style>\n",
       "<table border=\"1\" class=\"dataframe\">\n",
       "  <thead>\n",
       "    <tr style=\"text-align: right;\">\n",
       "      <th></th>\n",
       "      <th>count</th>\n",
       "      <th>unique</th>\n",
       "      <th>top</th>\n",
       "      <th>freq</th>\n",
       "    </tr>\n",
       "  </thead>\n",
       "  <tbody>\n",
       "    <tr>\n",
       "      <th>Spotify_Track_URI</th>\n",
       "      <td>34443</td>\n",
       "      <td>34443</td>\n",
       "      <td>spotify:track:15WRWc3qqlyAzTne9q5tQK</td>\n",
       "      <td>1</td>\n",
       "    </tr>\n",
       "    <tr>\n",
       "      <th>Artist_Name</th>\n",
       "      <td>34443</td>\n",
       "      <td>9695</td>\n",
       "      <td>Pearl Jam</td>\n",
       "      <td>159</td>\n",
       "    </tr>\n",
       "    <tr>\n",
       "      <th>Track_Name</th>\n",
       "      <td>34443</td>\n",
       "      <td>28705</td>\n",
       "      <td>The Nutcracker,</td>\n",
       "      <td>35</td>\n",
       "    </tr>\n",
       "    <tr>\n",
       "      <th>Album_Name</th>\n",
       "      <td>34443</td>\n",
       "      <td>16926</td>\n",
       "      <td>Greatest Hits</td>\n",
       "      <td>84</td>\n",
       "    </tr>\n",
       "  </tbody>\n",
       "</table>\n",
       "</div>"
      ],
      "text/plain": [
       "                   count unique                                   top freq\n",
       "Spotify_Track_URI  34443  34443  spotify:track:15WRWc3qqlyAzTne9q5tQK    1\n",
       "Artist_Name        34443   9695                             Pearl Jam  159\n",
       "Track_Name         34443  28705                       The Nutcracker,   35\n",
       "Album_Name         34443  16926                         Greatest Hits   84"
      ]
     },
     "execution_count": 21,
     "metadata": {},
     "output_type": "execute_result"
    }
   ],
   "source": [
    "items.describe(include='all').T"
   ]
  },
  {
   "cell_type": "code",
   "execution_count": 22,
   "metadata": {},
   "outputs": [],
   "source": [
    "items = pd.get_dummies(data=items, columns=['Artist_Name','Track_Name','Album_Name'], prefix=['Art','Tra','Alb'], dtype=int)\n",
    "# items = pd.get_dummies(data=item_features, columns=['Artist_Name'], prefix=['Art'], dtype=int)\n",
    "# items = item_features.drop(['Track_Name','Album_Name'], axis=1)\n",
    "# MemoryError: Unable to allocate 21.7 GiB for an array with shape (34181, 170089) and data type int32\n",
    "# items.head()"
   ]
  },
  {
   "cell_type": "code",
   "execution_count": null,
   "metadata": {},
   "outputs": [],
   "source": []
  },
  {
   "cell_type": "code",
   "execution_count": 23,
   "metadata": {},
   "outputs": [
    {
     "data": {
      "text/plain": [
       "Art_Pearl Jam          159\n",
       "Art_Tegan and Sara     139\n",
       "Art_Drake              131\n",
       "Art_John Mayer          93\n",
       "Art_2Pac                84\n",
       "Alb_Greatest Hits       84\n",
       "Art_Deftones            78\n",
       "Art_Kanye West          77\n",
       "Art_Eminem              77\n",
       "Art_Chris Brown         77\n",
       "Art_Future              75\n",
       "Art_Kendrick Lamar      75\n",
       "Art_Lil Wayne           73\n",
       "Art_Glee Cast           72\n",
       "Art_Rihanna             70\n",
       "Alb_Glee: The Music     70\n",
       "Art_Sufjan Stevens      69\n",
       "Art_Justin Bieber       69\n",
       "Art_Ed Sheeran          65\n",
       "Art_George Strait       64\n",
       "dtype: int64"
      ]
     },
     "execution_count": 23,
     "metadata": {},
     "output_type": "execute_result"
    }
   ],
   "source": [
    "justatest = items.drop(['Spotify_Track_URI'],axis=1)\n",
    "justatest.sum(axis=0).sort_values(ascending=False)[:20]"
   ]
  },
  {
   "cell_type": "code",
   "execution_count": 24,
   "metadata": {},
   "outputs": [
    {
     "data": {
      "text/plain": [
       "(34443, 55327)"
      ]
     },
     "execution_count": 24,
     "metadata": {},
     "output_type": "execute_result"
    }
   ],
   "source": [
    "items.shape"
   ]
  },
  {
   "cell_type": "code",
   "execution_count": 25,
   "metadata": {},
   "outputs": [
    {
     "data": {
      "text/plain": [
       "(1000, 561)"
      ]
     },
     "execution_count": 25,
     "metadata": {},
     "output_type": "execute_result"
    }
   ],
   "source": [
    "users.shape"
   ]
  },
  {
   "cell_type": "code",
   "execution_count": 26,
   "metadata": {},
   "outputs": [],
   "source": [
    "dataset = data.Dataset()"
   ]
  },
  {
   "cell_type": "code",
   "execution_count": 27,
   "metadata": {},
   "outputs": [],
   "source": [
    "dataset.fit(df['Playlist_ID'],df['Spotify_Track_URI'])"
   ]
  },
  {
   "cell_type": "code",
   "execution_count": 28,
   "metadata": {},
   "outputs": [
    {
     "data": {
      "text/plain": [
       "(1000, 34443)"
      ]
     },
     "execution_count": 28,
     "metadata": {},
     "output_type": "execute_result"
    }
   ],
   "source": [
    "dataset.interactions_shape()"
   ]
  },
  {
   "cell_type": "code",
   "execution_count": 29,
   "metadata": {},
   "outputs": [],
   "source": [
    "items_col = list(items.columns[1:])"
   ]
  },
  {
   "cell_type": "code",
   "execution_count": 30,
   "metadata": {},
   "outputs": [],
   "source": [
    "users_col = list(users.columns[1:])"
   ]
  },
  {
   "cell_type": "code",
   "execution_count": 31,
   "metadata": {},
   "outputs": [],
   "source": [
    "dataset.fit_partial(items=items['Spotify_Track_URI'], item_features=items_col)"
   ]
  },
  {
   "cell_type": "code",
   "execution_count": 32,
   "metadata": {},
   "outputs": [],
   "source": [
    "dataset.fit_partial(users=users['Playlist_ID'], user_features=users_col)"
   ]
  },
  {
   "cell_type": "code",
   "execution_count": 33,
   "metadata": {},
   "outputs": [
    {
     "data": {
      "text/plain": [
       "lightfm.data.Dataset"
      ]
     },
     "execution_count": 33,
     "metadata": {},
     "output_type": "execute_result"
    }
   ],
   "source": [
    "type(dataset)"
   ]
  },
  {
   "cell_type": "code",
   "execution_count": 34,
   "metadata": {},
   "outputs": [
    {
     "data": {
      "text/plain": [
       "(1560, 89769)"
      ]
     },
     "execution_count": 34,
     "metadata": {},
     "output_type": "execute_result"
    }
   ],
   "source": [
    "dataset.model_dimensions()"
   ]
  },
  {
   "cell_type": "code",
   "execution_count": 35,
   "metadata": {},
   "outputs": [],
   "source": [
    "(interactions, weights) = dataset.build_interactions([(x['Playlist_ID'], x['Spotify_Track_URI'], x['Rating']) for index,x in df.iterrows()])"
   ]
  },
  {
   "cell_type": "code",
   "execution_count": 36,
   "metadata": {},
   "outputs": [
    {
     "data": {
      "text/plain": [
       "<1000x34443 sparse matrix of type '<class 'numpy.int32'>'\n",
       "\twith 67503 stored elements in COOrdinate format>"
      ]
     },
     "execution_count": 36,
     "metadata": {},
     "output_type": "execute_result"
    }
   ],
   "source": [
    "interactions"
   ]
  },
  {
   "cell_type": "code",
   "execution_count": 37,
   "metadata": {},
   "outputs": [
    {
     "data": {
      "text/plain": [
       "<1000x34443 sparse matrix of type '<class 'numpy.float32'>'\n",
       "\twith 67503 stored elements in COOrdinate format>"
      ]
     },
     "execution_count": 37,
     "metadata": {},
     "output_type": "execute_result"
    }
   ],
   "source": [
    "weights"
   ]
  },
  {
   "cell_type": "code",
   "execution_count": 38,
   "metadata": {},
   "outputs": [],
   "source": [
    "def build_dict(df,cols,val_list):\n",
    "    rst = {}\n",
    "    for col in cols:\n",
    "        rst[col] = df[col]\n",
    "    sum_val = sum(list(rst.values())) # get sum of all the tfidf values\n",
    "\n",
    "    if(sum_val == 0):\n",
    "        return rst\n",
    "    else:\n",
    "\n",
    "        w = (2-sum(val_list))/sum_val # weight for each tag to be able to sum to 1\n",
    "        for key,value in rst.items():\n",
    "            rst[key] = value * w\n",
    "    return rst\n",
    "\n",
    "# def user_build_dict(df,tar_cols,val_list):\n",
    "#     rst = {}\n",
    "#     for col in tar_cols:\n",
    "#         rst[col] = df[col]\n",
    "#     sum_val = sum(list(rst.values())) # get sum of all the tfidf values\n",
    "\n",
    "#     if(sum_val == 0):\n",
    "#         return rst\n",
    "#     else:\n",
    "#         w = (2-sum(val_list))/sum_val # weight for each tag to be able to sum to 1\n",
    "#         for key,value in rst.items():\n",
    "#             rst[key] = value * w\n",
    "#     return rst"
   ]
  },
  {
   "cell_type": "code",
   "execution_count": null,
   "metadata": {},
   "outputs": [],
   "source": []
  },
  {
   "cell_type": "code",
   "execution_count": null,
   "metadata": {},
   "outputs": [],
   "source": []
  },
  {
   "cell_type": "code",
   "execution_count": null,
   "metadata": {},
   "outputs": [],
   "source": []
  },
  {
   "cell_type": "code",
   "execution_count": null,
   "metadata": {},
   "outputs": [],
   "source": []
  },
  {
   "cell_type": "code",
   "execution_count": null,
   "metadata": {},
   "outputs": [],
   "source": []
  },
  {
   "cell_type": "code",
   "execution_count": 39,
   "metadata": {},
   "outputs": [
    {
     "data": {
      "text/plain": [
       "scipy.sparse.csr.csr_matrix"
      ]
     },
     "execution_count": 39,
     "metadata": {},
     "output_type": "execute_result"
    }
   ],
   "source": [
    "interactions = create_interaction_matrix(df = df,\n",
    "                                         user_col = 'Playlist_ID',\n",
    "                                         item_col = 'Spotify_Track_URI',\n",
    "                                         rating_col = 'Rating')\n",
    "sparseInt = sparse.csr_matrix(interactions)\n",
    "type(sparseInt)"
   ]
  },
  {
   "cell_type": "markdown",
   "metadata": {},
   "source": [
    "## Create Train/Test split."
   ]
  },
  {
   "cell_type": "code",
   "execution_count": 40,
   "metadata": {},
   "outputs": [],
   "source": [
    "train, test = cross_validation.random_train_test_split(sparseInt, test_percentage=0.2, random_state=627)"
   ]
  },
  {
   "cell_type": "code",
   "execution_count": 41,
   "metadata": {},
   "outputs": [],
   "source": [
    "# # alpha = 1e-05\n",
    "# epochs = [0,1,2,3,4,5,10]\n",
    "# # no_components = 32\n",
    "# learning_schedule = 'adagrad'\n",
    "# loss = 'warp'\n",
    "# max_sampled = 100\n",
    "\n",
    "# warp_model = LightFM(loss=loss,\n",
    "# #                     no_components=no_components,\n",
    "#                     learning_schedule=learning_schedule,\n",
    "#                     max_sampled=max_sampled,\n",
    "# #                     user_alpha=alpha,\n",
    "# #                     item_alpha=alpha\n",
    "#                     )\n",
    "\n",
    "# warp_duration = []\n",
    "# warp_aucTr = []\n",
    "# warp_aucTe = []\n",
    "# warp_precTr = []\n",
    "# warp_precTe = []\n",
    "# warp_recaTr = []\n",
    "\n",
    "# warp_recaTe = []\n",
    "# warp_recipTr = []\n",
    "# warp_recipTe = []\n",
    "\n",
    "# for ep in epochs:\n",
    "#     start = time.time()\n",
    "#     warp_model.fit_partial(train, epochs=ep)\n",
    "#     warp_duration.append(time.time() - start)\n",
    "#     warp_aucTr.append(evaluation.auc_score(warp_model, train).mean())\n",
    "#     warp_precTr.append(evaluation.precision_at_k(warp_model, train, k=1).mean())\n",
    "#     warp_recipTr.append(evaluation.reciprocal_rank(warp_model, train).mean())\n",
    "#     warp_recaTr.append(evaluation.recall_at_k(warp_model, train, k=10).mean())\n",
    "    \n",
    "#     warp_aucTe.append(evaluation.auc_score(warp_model, test, train_interactions=train).mean())\n",
    "#     warp_precTe.append(evaluation.precision_at_k(warp_model, test, k=1, train_interactions=train).mean())\n",
    "#     warp_recipTe.append(evaluation.reciprocal_rank(warp_model, test, train_interactions=train).mean())\n",
    "#     warp_recaTe.append(evaluation.recall_at_k(warp_model, test, k=10, train_interactions=train).mean())"
   ]
  },
  {
   "cell_type": "code",
   "execution_count": 42,
   "metadata": {},
   "outputs": [],
   "source": [
    "# x = epochs\n",
    "# plt.figure(figsize=(20,5))\n",
    "# plt.plot(x, np.array(warp_duration))\n",
    "# plt.legend(['Duration'], loc='center right')\n",
    "# plt.show()"
   ]
  },
  {
   "cell_type": "code",
   "execution_count": 43,
   "metadata": {},
   "outputs": [],
   "source": [
    "# x = epochs\n",
    "# plt.figure(figsize=(20,5))\n",
    "# plt.plot(x, np.array(warp_aucTr))\n",
    "# plt.plot(x, np.array(warp_aucTe))\n",
    "# plt.legend(['AUC Train','AUC Test'], loc='center right')\n",
    "# plt.show()"
   ]
  },
  {
   "cell_type": "code",
   "execution_count": 44,
   "metadata": {},
   "outputs": [],
   "source": [
    "# plt.figure(figsize=(20,5))\n",
    "# plt.plot(x, np.array(warp_precTr))\n",
    "# plt.plot(x, np.array(warp_precTe))\n",
    "# plt.legend(['Precision Train','Precision Test'], loc='center right')\n",
    "# plt.show()"
   ]
  },
  {
   "cell_type": "code",
   "execution_count": 45,
   "metadata": {},
   "outputs": [],
   "source": [
    "# plt.figure(figsize=(20,5))\n",
    "# plt.plot(x, np.array(warp_recaTr))\n",
    "# plt.plot(x, np.array(warp_recaTe))\n",
    "# plt.legend(['Recall Train','Recall Test'], loc='center right')\n",
    "# plt.show()"
   ]
  },
  {
   "cell_type": "code",
   "execution_count": 46,
   "metadata": {
    "scrolled": false
   },
   "outputs": [],
   "source": [
    "# plt.figure(figsize=(20,5))\n",
    "# plt.plot(x, np.array(warp_recipTr))\n",
    "# plt.plot(x, np.array(warp_recipTe))\n",
    "# plt.legend(['Recip Train','Recip Test'], loc='center right')\n",
    "# plt.show()"
   ]
  },
  {
   "cell_type": "code",
   "execution_count": 47,
   "metadata": {
    "scrolled": true
   },
   "outputs": [],
   "source": [
    "#Create Model\n",
    "model = runMF(interactions = interactions,\n",
    "                 n_components = 10,\n",
    "                 loss = 'warp',\n",
    "                 epoch = 5,\n",
    "                 n_jobs = 4)\n",
    "# Create User Dict\n",
    "user_dict = create_user_dict(interactions=interactions)\n",
    "# Create Item Dict\n",
    "track_dict = create_item_dict(df = df,\n",
    "                               id_col = 'Spotify_Track_URI',\n",
    "                               name_col = 'Artist_and_Track_Name')"
   ]
  },
  {
   "cell_type": "code",
   "execution_count": 48,
   "metadata": {
    "scrolled": false
   },
   "outputs": [
    {
     "name": "stdout",
     "output_type": "stream",
     "text": [
      "Playlist Name: Amy\n",
      "Tracks in Playlist:\n",
      "1: P!nk - Crystal Ball\n",
      "2: X Ambassadors - Unsteady\n",
      "3: Fitz and The Tantrums - Roll Up\n",
      "4: The Head and the Heart - Lost In My Mind\n",
      "5: Fitz and The Tantrums - HandClap\n",
      "6: Fitz and The Tantrums - Complicated\n",
      "7: First Aid Kit - Emmylou - Spotify Sessions\n",
      "8: George Ezra - Budapest\n",
      "9: Mumford & Sons - Tompkins Square Park\n",
      "10: Heart - Stairway to Heaven (Live At The Kennedy Center Honors)\n",
      "11: Ed Sheeran - Photograph\n",
      "12: The Lumineers - Ophelia\n",
      "13: Eddie Vedder - Long Nights\n",
      "14: Imagine Dragons - Radioactive\n",
      "15: Glen Hansard - Falling Slowly\n",
      "16: Of Monsters and Men - Mountain Sound\n",
      "17: Heart - Crazy On You\n",
      "18: Ed Sheeran - Bloodstream\n",
      "19: Indigo Girls - Closer to fine\n",
      "20: The Civil Wars - To Whom It May Concern\n",
      "21: Of Monsters and Men - Dirty Paws\n",
      "22: The Head and the Heart - Down In The Valley\n",
      "23: Indigo Girls - All That We Let In\n",
      "24: The Lumineers - Slow It Down - Live At The Cannery Ball Room / 2013\n",
      "25: Eminem - The Monster\n",
      "26: Fitz and The Tantrums - Don’t Gotta Work It Out\n",
      "27: Band of Horses - No One's Gonna Love You - Live from Spotify Sweden\n",
      "28: The Black Keys - Lonely Boy\n",
      "29: Mumford & Sons - Little Lion Man - Live\n",
      "30: Adele - Hello\n",
      "31: Band of Horses - The Funeral\n",
      "32: P!nk - Mean\n",
      "33: Mumford & Sons - Believe - Live\n",
      "34: Adele - One And Only\n",
      "35: Arctic Monkeys - Why'd You Only Call Me When You're High?\n",
      "36: X Ambassadors - Renegades\n",
      "37: The Paper Kites - Bloom - Bonus Track\n",
      "38: Fitz and The Tantrums - Get Right Back\n",
      "39: Arctic Monkeys - Do I Wanna Know?\n",
      "40: Mumford & Sons - The Cave\n",
      "41: JAY Z - Empire State Of Mind\n",
      "42: Fitz and The Tantrums - Fools Gold\n",
      "43: Chris Stapleton - Tennessee Whiskey\n",
      "44: Bon Iver - Skinny Love\n",
      "45: Rihanna - Pon de Replay\n",
      "46: Fleet Foxes - Mykonos\n",
      "47: Israel Kamakawiwo'ole - Over The Rainbow\n",
      "48: Ed Sheeran - I See Fire\n",
      "49: The National - About Today\n",
      "50: Mark Ronson - Uptown Funk\n",
      "51: Evanescence - Bring Me To Life - Live From Le Zénith,France/2004\n",
      "52: Raury - Devil's Whisper\n",
      "53: Cage The Elephant - Cigarette Daydreams\n",
      "54: Iron & Wine - Naked As We Came\n",
      "55: Queen - Under Pressure - Remastered 2011\n",
      "56: Fitz and The Tantrums - MoneyGrabber\n",
      "57: The Lumineers - Sleep On The Floor\n",
      "58: Paolo Nutini - Last Request\n",
      "59: The Black Keys - Tighten Up\n",
      "60: Fitz and The Tantrums - Out Of My League\n",
      "61: Arctic Monkeys - R U Mine?\n",
      "62: Daughter - Youth\n",
      "63: Dave Matthews Band - You & Me\n",
      "64: The Lumineers - Ho Hey\n",
      "65: Alabama Shakes - Hold On\n",
      "66: Ed Sheeran - Thinking Out Loud\n",
      "67: Kate Bush - This Woman's Work\n",
      "68: Adele - Rolling in the Deep\n",
      "69: Evanescence - My Immortal\n",
      "70: Of Monsters and Men - Love Love Love\n",
      "71: The xx - Intro\n",
      "72: Glen Hansard - All The Way Down\n",
      "\n",
      " Recommended Tracks:\n",
      "1: The Killers - Mr. Brightside\n",
      "2: Bon Jovi - You Give Love A Bad Name\n",
      "3: Queen - Bohemian Rhapsody - Remastered 2011\n",
      "4: OMI - Cheerleader - Felix Jaehn Remix Radio Edit\n",
      "5: Macklemore & Ryan Lewis - Can't Hold Us - feat. Ray Dalton\n",
      "6: The Fray - How to Save a Life\n",
      "7: Jason Mraz - I Won't Give Up\n",
      "8: Maroon 5 - She Will Be Loved - Radio Mix\n",
      "9: Billy Joel - Piano Man\n",
      "10: Third Eye Blind - Semi-Charmed Life\n"
     ]
    }
   ],
   "source": [
    "## Track recommendations for a playlist\n",
    "rec_list = sample_recommendation_user(model = model, \n",
    "                                      interactions = interactions, \n",
    "                                      user_id = 700, \n",
    "                                      user_dict = user_dict,\n",
    "                                      item_dict = track_dict, \n",
    "                                      threshold = 0,\n",
    "                                      nrec_items = 10,\n",
    "                                      show = True)"
   ]
  },
  {
   "cell_type": "code",
   "execution_count": 49,
   "metadata": {},
   "outputs": [
    {
     "name": "stdout",
     "output_type": "stream",
     "text": [
      "Best matched playlists for track: Justin Timberlake - Rock Your Body\n",
      "1: 414 - early 2000's\n",
      "2: 856 - songs to dance to\n",
      "3: 678 - tb\n",
      "4: 38 - tb\n",
      "5: 0 - Throwbacks\n",
      "6: 206 - Shower\n",
      "7: 707 - party\n",
      "8: 828 - .jams.\n",
      "9: 160 - Silence\n",
      "10: 154 - Fall\n",
      "11: 337 - More Songs\n",
      "12: 355 - throw backs\n",
      "13: 795 - Shape of You\n",
      "14: 273 - workout\n",
      "15: 721 - throwback\n",
      "16: 944 - hoe anthems\n",
      "17: 127 - BBG\n",
      "18: 387 - sad\n",
      "19: 563 - Top Hits\n",
      "20: 24 - Twenty one pilots\n"
     ]
    }
   ],
   "source": [
    "## Best playlist matches for a track\n",
    "pl_rec_list = sample_recommendation_item(model=model,\n",
    "                                           interactions=interactions,\n",
    "                                           item_id='spotify:track:1AWQoqb9bSvzTjaLralEkT',\n",
    "                                           user_dict=user_dict,\n",
    "                                           item_dict=track_dict,\n",
    "                                           number_of_user=20)"
   ]
  },
  {
   "cell_type": "code",
   "execution_count": 50,
   "metadata": {},
   "outputs": [
    {
     "name": "stdout",
     "output_type": "stream",
     "text": [
      "Tracks similar to track: Justin Timberlake - Rock Your Body\n",
      "Similar Tracks:\n",
      "1: Beyoncé - Crazy In Love\n",
      "2: Ray J - Sexy Can I\n",
      "3: The Pussycat Dolls - Buttons\n",
      "4: Selena Gomez - Me & The Rhythm\n",
      "5: Akon - Sorry, Blame It On Me - Main\n",
      "6: Chris Brown - Forever\n",
      "7: The All-American Rejects - Gives You Hell\n",
      "8: Jay Sean - Make My Love Go\n",
      "9: Soulja Boy - Crank That (Soulja Boy)\n",
      "10: Justin Timberlake - SexyBack\n"
     ]
    }
   ],
   "source": [
    "item_dist_mat = create_item_emdedding_distance_matrix(model=model,interactions=interactions)\n",
    "\n",
    "## Find tracks similar to a given track\n",
    "item_item_recommendation(item_emdedding_distance_matrix=item_dist_mat, \n",
    "                             item_id='spotify:track:1AWQoqb9bSvzTjaLralEkT', \n",
    "                             item_dict=track_dict, \n",
    "                             n_items = 10, \n",
    "                             show = True)\n",
    "\n",
    "# RuntimeError: nnz of the result is too large"
   ]
  },
  {
   "cell_type": "markdown",
   "metadata": {},
   "source": [
    "## Measure the precision at k metric for a model: the fraction of known positives in the first k positions of the ranked list of results. A perfect score is 1.0."
   ]
  },
  {
   "cell_type": "code",
   "execution_count": 51,
   "metadata": {},
   "outputs": [
    {
     "name": "stdout",
     "output_type": "stream",
     "text": [
      "Precision Train:  0.1664\n",
      "Precision Test:  0.059959557\n"
     ]
    }
   ],
   "source": [
    "prectrain = evaluation.precision_at_k(model, train, k=10, user_features=None, item_features=None)\n",
    "prectest = evaluation.precision_at_k(model, test, train_interactions=train, k=10, user_features=None, item_features=None, num_threads=4)\n",
    "print('Precision Train: ',prectrain.mean())\n",
    "print('Precision Test: ',prectest.mean())"
   ]
  },
  {
   "cell_type": "code",
   "execution_count": 52,
   "metadata": {},
   "outputs": [
    {
     "data": {
      "text/plain": [
       "(array([390., 215., 129.,  92.,  71.,  38.,  35.,  15.,  10.,   5.]),\n",
       " array([0. , 0.1, 0.2, 0.3, 0.4, 0.5, 0.6, 0.7, 0.8, 0.9, 1. ],\n",
       "       dtype=float32),\n",
       " <BarContainer object of 10 artists>)"
      ]
     },
     "execution_count": 52,
     "metadata": {},
     "output_type": "execute_result"
    },
    {
     "data": {
      "image/png": "[encoded data removed]",
      "text/plain": [
       "<Figure size 432x288 with 1 Axes>"
      ]
     },
     "metadata": {
      "needs_background": "light"
     },
     "output_type": "display_data"
    }
   ],
   "source": [
    "plt.hist(prectrain, bins=10)"
   ]
  },
  {
   "cell_type": "code",
   "execution_count": 53,
   "metadata": {
    "scrolled": false
   },
   "outputs": [
    {
     "data": {
      "text/plain": [
       "(array([631., 215.,  85.,  30.,  24.,   2.,   2.,   0.,   0.,   0.]),\n",
       " array([0. , 0.1, 0.2, 0.3, 0.4, 0.5, 0.6, 0.7, 0.8, 0.9, 1. ],\n",
       "       dtype=float32),\n",
       " <BarContainer object of 10 artists>)"
      ]
     },
     "execution_count": 53,
     "metadata": {},
     "output_type": "execute_result"
    },
    {
     "data": {
      "image/png": "[encoded data removed]",
      "text/plain": [
       "<Figure size 432x288 with 1 Axes>"
      ]
     },
     "metadata": {
      "needs_background": "light"
     },
     "output_type": "display_data"
    }
   ],
   "source": [
    "plt.hist(prectest, bins=10, range=[0,1])"
   ]
  },
  {
   "cell_type": "markdown",
   "metadata": {},
   "source": [
    "## Measure the recall at k metric for a model: the number of positive items in the first k positions of the ranked list of results divided by the number of positive items in the test period. A perfect score is 1.0."
   ]
  },
  {
   "cell_type": "code",
   "execution_count": 54,
   "metadata": {},
   "outputs": [
    {
     "name": "stdout",
     "output_type": "stream",
     "text": [
      "Recall Train:  0.036929435777995775\n",
      "Recall Test:  0.05012813136907206\n"
     ]
    }
   ],
   "source": [
    "rectrain = evaluation.recall_at_k(model, train, k=10, user_features=None, item_features=None, num_threads=4)\n",
    "rectest = evaluation.recall_at_k(model, test, k=10, train_interactions=train, user_features=None, item_features=None, num_threads=4)\n",
    "print('Recall Train: ',rectrain.mean())\n",
    "print('Recall Test: ',rectest.mean())"
   ]
  },
  {
   "cell_type": "code",
   "execution_count": 55,
   "metadata": {},
   "outputs": [
    {
     "data": {
      "text/plain": [
       "(array([430.,  94., 131.,  79.,  68.,  57.,  32.,  18.,  21.,   7.,  15.,\n",
       "          9.,   5.,   6.,   1.,   4.,   4.,   2.,   0.,   5.]),\n",
       " array([0.    , 0.0125, 0.025 , 0.0375, 0.05  , 0.0625, 0.075 , 0.0875,\n",
       "        0.1   , 0.1125, 0.125 , 0.1375, 0.15  , 0.1625, 0.175 , 0.1875,\n",
       "        0.2   , 0.2125, 0.225 , 0.2375, 0.25  ]),\n",
       " <BarContainer object of 20 artists>)"
      ]
     },
     "execution_count": 55,
     "metadata": {},
     "output_type": "execute_result"
    },
    {
     "data": {
      "image/png": "[encoded data removed]",
      "text/plain": [
       "<Figure size 432x288 with 1 Axes>"
      ]
     },
     "metadata": {
      "needs_background": "light"
     },
     "output_type": "display_data"
    }
   ],
   "source": [
    "plt.hist(rectrain, bins=20, range=[0,.25])"
   ]
  },
  {
   "cell_type": "code",
   "execution_count": 56,
   "metadata": {
    "scrolled": false
   },
   "outputs": [
    {
     "data": {
      "text/plain": [
       "(array([631.,   7.,  26.,  35.,  35.,  29.,  23.,  16.,  38.,   6.,  17.,\n",
       "         25.,   1.,  19.,   4.,   2.,  12.,   2.,   0.,  18.]),\n",
       " array([0.    , 0.0125, 0.025 , 0.0375, 0.05  , 0.0625, 0.075 , 0.0875,\n",
       "        0.1   , 0.1125, 0.125 , 0.1375, 0.15  , 0.1625, 0.175 , 0.1875,\n",
       "        0.2   , 0.2125, 0.225 , 0.2375, 0.25  ]),\n",
       " <BarContainer object of 20 artists>)"
      ]
     },
     "execution_count": 56,
     "metadata": {},
     "output_type": "execute_result"
    },
    {
     "data": {
      "image/png": "[encoded data removed]",
      "text/plain": [
       "<Figure size 432x288 with 1 Axes>"
      ]
     },
     "metadata": {
      "needs_background": "light"
     },
     "output_type": "display_data"
    }
   ],
   "source": [
    "plt.hist(rectest, bins=20, range=[0,.25])"
   ]
  },
  {
   "cell_type": "markdown",
   "metadata": {},
   "source": [
    "## Measure the reciprocal rank metric for a model: 1 / the rank of the highest ranked positive example. A perfect score is 1.0."
   ]
  },
  {
   "cell_type": "code",
   "execution_count": 57,
   "metadata": {},
   "outputs": [],
   "source": [
    "reciptrain = evaluation.reciprocal_rank(model, train, user_features=None, item_features=None, num_threads=4)\n",
    "reciptest = evaluation.reciprocal_rank(model, test, train_interactions=train, user_features=None, item_features=None, num_threads=4)"
   ]
  },
  {
   "cell_type": "code",
   "execution_count": 58,
   "metadata": {},
   "outputs": [
    {
     "name": "stdout",
     "output_type": "stream",
     "text": [
      "Recipricol Train:  2.9289993476744853\n",
      "Recipricol Test:  5.751884972009762\n"
     ]
    }
   ],
   "source": [
    "print('Recipricol Train: ',1/reciptrain.mean())\n",
    "print('Recipricol Test: ',1/reciptest.mean())"
   ]
  },
  {
   "cell_type": "code",
   "execution_count": 59,
   "metadata": {},
   "outputs": [
    {
     "data": {
      "text/plain": [
       "(array([285., 122.,  57.,  89.,  57.,   0.,  63.,   0.,   0., 117.,   0.,\n",
       "          0.,   0.,   0.,   0.,   0.,   0.,   0.,   0., 210.]),\n",
       " array([5.8288646e-05, 5.0055373e-02, 1.0005246e-01, 1.5004955e-01,\n",
       "        2.0004663e-01, 2.5004372e-01, 3.0004081e-01, 3.5003787e-01,\n",
       "        4.0003496e-01, 4.5003206e-01, 5.0002915e-01, 5.5002624e-01,\n",
       "        6.0002333e-01, 6.5002042e-01, 7.0001751e-01, 7.5001454e-01,\n",
       "        8.0001163e-01, 8.5000873e-01, 9.0000582e-01, 9.5000291e-01,\n",
       "        1.0000000e+00], dtype=float32),\n",
       " <BarContainer object of 20 artists>)"
      ]
     },
     "execution_count": 59,
     "metadata": {},
     "output_type": "execute_result"
    },
    {
     "data": {
      "image/png": "[encoded data removed]",
      "text/plain": [
       "<Figure size 432x288 with 1 Axes>"
      ]
     },
     "metadata": {
      "needs_background": "light"
     },
     "output_type": "display_data"
    }
   ],
   "source": [
    "plt.hist(reciptrain, bins=20)"
   ]
  },
  {
   "cell_type": "code",
   "execution_count": 60,
   "metadata": {
    "scrolled": false
   },
   "outputs": [
    {
     "data": {
      "text/plain": [
       "(array([546., 103.,  64.,  46.,  44.,   0.,  47.,   0.,   0.,  52.,   0.,\n",
       "          0.,   0.,   0.,   0.,   0.,   0.,   0.,   0.,  87.]),\n",
       " array([3.75925702e-05, 5.00357114e-02, 1.00033835e-01, 1.50031954e-01,\n",
       "        2.00030074e-01, 2.50028193e-01, 3.00026327e-01, 3.50024432e-01,\n",
       "        4.00022566e-01, 4.50020671e-01, 5.00018775e-01, 5.50016940e-01,\n",
       "        6.00015044e-01, 6.50013149e-01, 7.00011253e-01, 7.50009418e-01,\n",
       "        8.00007522e-01, 8.50005627e-01, 9.00003731e-01, 9.50001895e-01,\n",
       "        1.00000000e+00], dtype=float32),\n",
       " <BarContainer object of 20 artists>)"
      ]
     },
     "execution_count": 60,
     "metadata": {},
     "output_type": "execute_result"
    },
    {
     "data": {
      "image/png": "[encoded data removed]",
      "text/plain": [
       "<Figure size 432x288 with 1 Axes>"
      ]
     },
     "metadata": {
      "needs_background": "light"
     },
     "output_type": "display_data"
    }
   ],
   "source": [
    "plt.hist(reciptest, bins=20)"
   ]
  },
  {
   "cell_type": "markdown",
   "metadata": {},
   "source": [
    "## Measure the ROC AUC metric for a model: the probability that a randomly chosen positive example has a higher score than a randomly chosen negative example. A perfect score is 1.0."
   ]
  },
  {
   "cell_type": "code",
   "execution_count": 61,
   "metadata": {},
   "outputs": [
    {
     "name": "stdout",
     "output_type": "stream",
     "text": [
      "AUC Train:  0.88286006\n",
      "AUC Test:  0.8851864\n"
     ]
    }
   ],
   "source": [
    "aucTr = evaluation.auc_score(model, train, user_features=None, item_features=None, num_threads=4)\n",
    "aucTe = evaluation.auc_score(model, test, train_interactions=train, user_features=None, item_features=None, num_threads=4)\n",
    "print('AUC Train: ',aucTr.mean())\n",
    "print('AUC Test: ',aucTe.mean())"
   ]
  },
  {
   "cell_type": "code",
   "execution_count": 62,
   "metadata": {
    "scrolled": false
   },
   "outputs": [
    {
     "data": {
      "text/plain": [
       "(array([  2.,   1.,   5.,   3.,   5.,   6.,  15.,  15.,  18.,  27.,  37.,\n",
       "         37.,  54.,  43.,  69.,  74.,  91., 101., 206., 191.]),\n",
       " array([0.45631805, 0.48343456, 0.5105511 , 0.5376676 , 0.5647841 ,\n",
       "        0.59190065, 0.6190171 , 0.64613366, 0.6732502 , 0.7003667 ,\n",
       "        0.7274832 , 0.7545997 , 0.7817162 , 0.80883276, 0.83594924,\n",
       "        0.8630658 , 0.89018226, 0.9172988 , 0.94441533, 0.9715318 ,\n",
       "        0.99864835], dtype=float32),\n",
       " <BarContainer object of 20 artists>)"
      ]
     },
     "execution_count": 62,
     "metadata": {},
     "output_type": "execute_result"
    },
    {
     "data": {
      "image/png": "[encoded data removed]",
      "text/plain": [
       "<Figure size 432x288 with 1 Axes>"
      ]
     },
     "metadata": {
      "needs_background": "light"
     },
     "output_type": "display_data"
    }
   ],
   "source": [
    "plt.hist(aucTr, bins=20)"
   ]
  },
  {
   "cell_type": "code",
   "execution_count": 63,
   "metadata": {
    "scrolled": false
   },
   "outputs": [
    {
     "data": {
      "text/plain": [
       "(array([  1.,   0.,   0.,   0.,   4.,   6.,   1.,   5.,   3.,   9.,  15.,\n",
       "         23.,  36.,  56.,  59.,  63.,  82., 115., 168., 343.]),\n",
       " array([0.22737306, 0.26600006, 0.30462703, 0.34325403, 0.38188103,\n",
       "        0.42050803, 0.459135  , 0.497762  , 0.536389  , 0.57501596,\n",
       "        0.61364293, 0.65226996, 0.6908969 , 0.72952396, 0.7681509 ,\n",
       "        0.8067779 , 0.8454049 , 0.8840319 , 0.92265886, 0.9612859 ,\n",
       "        0.99991286], dtype=float32),\n",
       " <BarContainer object of 20 artists>)"
      ]
     },
     "execution_count": 63,
     "metadata": {},
     "output_type": "execute_result"
    },
    {
     "data": {
      "image/png": "[encoded data removed]",
      "text/plain": [
       "<Figure size 432x288 with 1 Axes>"
      ]
     },
     "metadata": {
      "needs_background": "light"
     },
     "output_type": "display_data"
    }
   ],
   "source": [
    "plt.hist(aucTe, bins=20)"
   ]
  },
  {
   "cell_type": "code",
   "execution_count": 64,
   "metadata": {},
   "outputs": [],
   "source": [
    "# Set biases to zero\n",
    "test_model = model\n",
    "test_model.item_biases *= 0.0\n",
    "test_model.item_embeddings  *= 0.0\n",
    "test_model.user_embeddings  *= 0.0\n",
    "test_model.user_biases  *= 0.0"
   ]
  },
  {
   "cell_type": "code",
   "execution_count": 65,
   "metadata": {},
   "outputs": [
    {
     "data": {
      "text/plain": [
       "-0.00018197265"
      ]
     },
     "execution_count": 65,
     "metadata": {},
     "output_type": "execute_result"
    }
   ],
   "source": [
    "aucRand = evaluation.auc_score(test_model, test, train_interactions=train, user_features=None, item_features=None, num_threads=4)\n",
    "aucRand.mean()"
   ]
  },
  {
   "cell_type": "code",
   "execution_count": 66,
   "metadata": {
    "scrolled": false
   },
   "outputs": [
    {
     "data": {
      "text/plain": [
       "(array([  1.,   0.,   1.,   6.,   8.,   5.,  12.,  23.,  17.,  21.,  25.,\n",
       "         31.,  36.,  57.,  53.,  67., 109., 110., 185., 222.]),\n",
       " array([-8.9171430e-04, -8.4712857e-04, -8.0254290e-04, -7.5795717e-04,\n",
       "        -7.1337144e-04, -6.6878571e-04, -6.2419998e-04, -5.7961431e-04,\n",
       "        -5.3502858e-04, -4.9044285e-04, -4.4585715e-04, -4.0127145e-04,\n",
       "        -3.5668572e-04, -3.1209999e-04, -2.6751429e-04, -2.2292857e-04,\n",
       "        -1.7834286e-04, -1.3375714e-04, -8.9171430e-05, -4.4585715e-05,\n",
       "         0.0000000e+00], dtype=float32),\n",
       " <BarContainer object of 20 artists>)"
      ]
     },
     "execution_count": 66,
     "metadata": {},
     "output_type": "execute_result"
    },
    {
     "data": {
      "image/png": "[encoded data removed]",
      "text/plain": [
       "<Figure size 432x288 with 1 Axes>"
      ]
     },
     "metadata": {
      "needs_background": "light"
     },
     "output_type": "display_data"
    }
   ],
   "source": [
    "plt.hist(aucRand, bins=20)"
   ]
  },
  {
   "cell_type": "markdown",
   "metadata": {},
   "source": [
    "## Should I try using hyperparameters?"
   ]
  },
  {
   "cell_type": "markdown",
   "metadata": {},
   "source": [
    "## Other challenges:\n",
    "- create hyperparameter test for epochs, warp/warp-kos, learning rates (adagrad/adadelta), #components...\n",
    "- predict tracks based on playlist title (how similar are playlists with similar titles?); show results using and not using playlist titles\n",
    "- what's a good baseline to compare my precision/recall/aucroc metrics to?\n",
    "- maybe add a playlist of my own and try to predict results (and compare to spotify's predictions)\n",
    "- explain limitations of recos (lack of metadata on individual tracks and users)\n",
    "\n",
    "\n",
    "def sample_hyperparameters():\n",
    "    \"\"\"\n",
    "    Yield possible hyperparameter choices.\n",
    "    \"\"\"\n",
    "\n",
    "    while True:\n",
    "        yield {\n",
    "            \"no_components\": np.random.randint(16, 64),\n",
    "            \"learning_schedule\": np.random.choice([\"adagrad\", \"adadelta\"]),\n",
    "            \"loss\": np.random.choice([\"bpr\", \"warp\", \"warp-kos\"]),\n",
    "            \"learning_rate\": np.random.exponential(0.05),\n",
    "            \"item_alpha\": np.random.exponential(1e-8),\n",
    "            \"user_alpha\": np.random.exponential(1e-8),\n",
    "            \"max_sampled\": np.random.randint(5, 15),\n",
    "            \"num_epochs\": np.random.randint(5, 50),\n",
    "        }\n",
    "        \n",
    "        \n",
    "no_components (int, optional) – the dimensionality of the feature latent embeddings.\n",
    "k (int, optional) – for k-OS training, the k-th positive example will be selected from the n positive examples sampled for every user.\n",
    "n (int, optional) – for k-OS training, maximum number of positives sampled for each update.\n",
    "learning_schedule (string, optional) – one of (‘adagrad’, ‘adadelta’).\n",
    "loss (string, optional) – one of (‘logistic’, ‘bpr’, ‘warp’, ‘warp-kos’): the loss function.\n",
    "learning_rate (float, optional) – initial learning rate for the adagrad learning schedule.\n",
    "rho (float, optional) – moving average coefficient for the adadelta learning schedule.\n",
    "epsilon (float, optional) – conditioning parameter for the adadelta learning schedule.\n",
    "item_alpha (float, optional) – L2 penalty on item features. Tip: setting this number too high can slow down training. One good way to check is if the final weights in the embeddings turned out to be mostly zero. The same idea applies to the user_alpha parameter.\n",
    "user_alpha (float, optional) – L2 penalty on user features.\n",
    "max_sampled (int, optional) – maximum number of negative samples used during WARP fitting. It requires a lot of sampling to find negative triplets for users that are already well represented by the model; this can lead to very long training times and overfitting. Setting this to a higher number will generally lead to longer training times, but may in some cases improve accuracy.\n",
    "random_state (int seed, RandomState instance, or None) – The seed of the pseudo random number generator to use when shuffling the data and initializing the parameters."
   ]
  },
  {
   "cell_type": "markdown",
   "metadata": {},
   "source": [
    "## When am I ready to try cloud computing?"
   ]
  }
 ],
 "metadata": {
  "kernelspec": {
   "display_name": "Python 3",
   "language": "python",
   "name": "python3"
  },
  "language_info": {
   "codemirror_mode": {
    "name": "ipython",
    "version": 3
   },
   "file_extension": ".py",
   "mimetype": "text/x-python",
   "name": "python",
   "nbconvert_exporter": "python",
   "pygments_lexer": "ipython3",
   "version": "3.8.5"
  }
 },
 "nbformat": 4,
 "nbformat_minor": 4
}
