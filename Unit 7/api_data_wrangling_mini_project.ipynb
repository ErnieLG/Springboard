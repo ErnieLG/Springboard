{
 "cells": [
  {
   "cell_type": "markdown",
   "metadata": {},
   "source": [
    "This exercise will require you to pull some data from the Qunadl API. Qaundl is currently the most widely used aggregator of financial market data."
   ]
  },
  {
   "cell_type": "markdown",
   "metadata": {},
   "source": [
    "As a first step, you will need to register a free account on the http://www.quandl.com website."
   ]
  },
  {
   "cell_type": "markdown",
   "metadata": {},
   "source": [
    "After you register, you will be provided with a unique API key, that you should store:"
   ]
  },
  {
   "cell_type": "code",
   "execution_count": 1,
   "metadata": {},
   "outputs": [],
   "source": [
    "# Store the API key as a string - according to PEP8, constants are always named in all upper case\n",
    "API_KEY = 'xxx' \n",
    "# i removed my actual API key"
   ]
  },
  {
   "cell_type": "markdown",
   "metadata": {},
   "source": [
    "Qaundl has a large number of data sources, but, unfortunately, most of them require a Premium subscription. Still, there are also a good number of free datasets."
   ]
  },
  {
   "cell_type": "markdown",
   "metadata": {},
   "source": [
    "For this mini project, we will focus on equities data from the Frankfurt Stock Exhange (FSE), which is available for free. We'll try and analyze the stock prices of a company called Carl Zeiss Meditec, which manufactures tools for eye examinations, as well as medical lasers for laser eye surgery: https://www.zeiss.com/meditec/int/home.html. The company is listed under the stock ticker AFX_X."
   ]
  },
  {
   "cell_type": "markdown",
   "metadata": {},
   "source": [
    "You can find the detailed Quandl API instructions here: https://docs.quandl.com/docs/time-series"
   ]
  },
  {
   "cell_type": "markdown",
   "metadata": {},
   "source": [
    "While there is a dedicated Python package for connecting to the Quandl API, we would prefer that you use the *requests* package, which can be easily downloaded using *pip* or *conda*. You can find the documentation for the package here: http://docs.python-requests.org/en/master/ "
   ]
  },
  {
   "cell_type": "markdown",
   "metadata": {},
   "source": [
    "Finally, apart from the *requests* package, you are encouraged to not use any third party Python packages, such as *pandas*, and instead focus on what's available in the Python Standard Library (the *collections* module might come in handy: https://pymotw.com/3/collections/ ).\n",
    "Also, since you won't have access to DataFrames, you are encouraged to us Python's native data structures - preferably dictionaries, though some questions can also be answered using lists.\n",
    "You can read more on these data structures here: https://docs.python.org/3/tutorial/datastructures.html"
   ]
  },
  {
   "cell_type": "markdown",
   "metadata": {},
   "source": [
    "Keep in mind that the JSON responses you will be getting from the API map almost one-to-one to Python's dictionaries. Unfortunately, they can be very nested, so make sure you read up on indexing dictionaries in the documentation provided above."
   ]
  },
  {
   "cell_type": "code",
   "execution_count": 2,
   "metadata": {},
   "outputs": [],
   "source": [
    "# First, import the relevant modules\n",
    "import collections as col\n",
    "import requests\n",
    "import quandl\n",
    "import json\n",
    "import numpy as np\n",
    "import statistics as stats\n",
    "from bs4 import BeautifulSoup\n",
    "# quandl.ApiConfig.api_key = \"z4qJVzNVp5zuFNC47Dyz\"  <-- quandl says we could do this instead"
   ]
  },
  {
   "cell_type": "code",
   "execution_count": 3,
   "metadata": {},
   "outputs": [
    {
     "name": "stdout",
     "output_type": "stream",
     "text": [
      "dataset:  {'id': 10095370, 'dataset_code': 'AFX_X', 'database_code': 'FSE', 'name': 'Carl Zeiss Meditec (AFX_X)', 'description': 'Stock Prices for Carl Zeiss Meditec (2020-05-04) from the Frankfurt Stock Exchange.<br><br>Trading System: Xetra<br><br>ISIN: DE0005313704', 'refreshed_at': '2020-05-15T22:16:15.603Z', 'newest_available_date': '2020-05-15', 'oldest_available_date': '2000-06-07', 'column_names': ['Date', 'Open', 'High', 'Low', 'Close', 'Change', 'Traded Volume', 'Turnover', 'Last Price of the Day', 'Daily Traded Units', 'Daily Turnover'], 'frequency': 'daily', 'type': 'Time Series', 'premium': False, 'limit': None, 'transform': None, 'column_index': None, 'start_date': '2020-05-15', 'end_date': '2020-05-15', 'data': [['2020-05-15', 82.25, 84.85, 80.65, 83.8, None, 219726.0, 18211281.9, None, None, None]], 'collapse': None, 'order': None, 'database_id': 6129}\n"
     ]
    }
   ],
   "source": [
    "# Now, call the Quandl API and pull out a small sample of the data (only one day) to get a glimpse\n",
    "# into the JSON structure that will be returned\n",
    "url = 'https://www.quandl.com/api/v3/datasets/FSE/AFX_X?start_date=2020-05-15&end_date=2020-05-15&api_key='+API_KEY\n",
    "r = requests.get(url)\n",
    "json_data = r.json()\n",
    "for k in json_data.keys():\n",
    "    print(k + ': ', json_data[k])\n",
    "# data = quandl.get('FSE/AFX_X', start_date='2018-11-30', end_date='2018-11-30')  <-- and this\n",
    "# print(data.head())"
   ]
  },
  {
   "cell_type": "code",
   "execution_count": 4,
   "metadata": {},
   "outputs": [
    {
     "name": "stdout",
     "output_type": "stream",
     "text": [
      "<class 'dict'>\n"
     ]
    }
   ],
   "source": [
    "# Inspect the JSON structure of the object you created, and take note of how nested it is,\n",
    "# as well as the overall structure\n",
    "print(type(json_data))\n",
    "# Was I supposed to do anything else?"
   ]
  },
  {
   "cell_type": "markdown",
   "metadata": {},
   "source": [
    "These are your tasks for this mini project:\n",
    "\n",
    "1. Collect data from the Franfurt Stock Exchange, for the ticker AFX_X, for the whole year 2017 (keep in mind that the date format is YYYY-MM-DD).\n",
    "2. Convert the returned JSON object into a Python dictionary.\n",
    "3. Calculate what the highest and lowest opening prices were for the stock in this period.\n",
    "4. What was the largest change in any one day (based on High and Low price)?\n",
    "5. What was the largest change between any two days (based on Closing Price)?\n",
    "6. What was the average daily trading volume during this year?\n",
    "7. (Optional) What was the median trading volume during this year. (Note: you may need to implement your own function for calculating the median.)"
   ]
  },
  {
   "cell_type": "code",
   "execution_count": 11,
   "metadata": {},
   "outputs": [
    {
     "name": "stdout",
     "output_type": "stream",
     "text": [
      "Columns of json_data['dataset']:\n",
      "['Date', 'Open', 'High', 'Low', 'Close', 'Change', 'Traded Volume', 'Turnover', 'Last Price of the Day', 'Daily Traded Units', 'Daily Turnover']\n",
      "\n",
      "Max Open in 2017:  53.11\n",
      "Min Open in 2017:  34.0\n",
      "Max Difference in a Single Day's High/Low in 2017:  2.8100000000000023\n",
      "Max Difference Between Two Consecutive Days' Close in 2017:  2.559999999999995\n",
      "Mean Traded Volume for 2017 : 89124.33725490196\n",
      "Median Traded Volume for 2017 : 76286.0\n"
     ]
    }
   ],
   "source": [
    "url = 'https://www.quandl.com/api/v3/datasets/FSE/AFX_X?start_date=2017-01-01&end_date=2017-12-31&api_key=z4qJVzNVp5zuFNC47Dyz'\n",
    "r = requests.get(url)\n",
    "json_data = r.json()\n",
    "\n",
    "print(\"Columns of json_data['dataset']:\")\n",
    "print(json_data['dataset']['column_names'])\n",
    "print()\n",
    "\n",
    "open_min=99\n",
    "open_max=0\n",
    "for k in json_data['dataset']['data']:\n",
    "    if type(k[1])==float:\n",
    "        if k[1]>open_max:\n",
    "            open_max=k[1]\n",
    "#             print(\"New Max of Open in 2017: \",open_max)\n",
    "        if k[1]<open_min:\n",
    "            open_min=k[1]\n",
    "#             print(\"New Min of Open in 2017: \",open_min)\n",
    "print(\"Max Open in 2017: \",open_max)\n",
    "print(\"Min Open in 2017: \",open_min)\n",
    "    \n",
    "difference_max=0\n",
    "for k in json_data['dataset']['data']:\n",
    "    if ((type(k[2])==float) & (type(k[3])==float)):\n",
    "        if (k[2]-k[3])>difference_max:\n",
    "            difference_max=(k[2]-k[3])\n",
    "#         print(\"New Max Difference in a Single Day's High/Low: \",difference_max)\n",
    "print(\"Max Difference in a Single Day's High/Low in 2017: \",difference_max)\n",
    "\n",
    "# I'll assume they mean \"consecutive\" days for this\n",
    "close_difference_max=0\n",
    "close_yesterday=json_data['dataset']['data'][0][4]\n",
    "for k in json_data['dataset']['data']:\n",
    "    if type(k[4])==float:\n",
    "        if (abs(close_yesterday-k[4])>close_difference_max):\n",
    "            close_difference_max=(abs(close_yesterday-k[4]))\n",
    "#             print(\"New Max Difference Between Two Consecutive Days' Close: \",close_difference_max)\n",
    "        close_yesterday=k[4]\n",
    "print(\"Max Difference Between Two Consecutive Days' Close in 2017: \",close_difference_max)\n",
    "\n",
    "counter=0\n",
    "total_traded_volume=0\n",
    "for k in json_data['dataset']['data']:\n",
    "    if type(k[6])==float:\n",
    "        counter+=1\n",
    "        total_traded_volume+=k[6]\n",
    "mean_traded_volume=total_traded_volume/counter\n",
    "print('Mean Traded Volume for 2017 :',mean_traded_volume)\n",
    "\n",
    "median_traded_volume_list=[]\n",
    "for k in json_data['dataset']['data']:\n",
    "    if type(k[6])==float:\n",
    "        median_traded_volume_list.append(k[6])\n",
    "median_traded_volume = stats.median(median_traded_volume_list)\n",
    "print('Median Traded Volume for 2017 :',median_traded_volume)"
   ]
  }
 ],
 "metadata": {
  "kernelspec": {
   "display_name": "Python 3",
   "language": "python",
   "name": "python3"
  },
  "language_info": {
   "codemirror_mode": {
    "name": "ipython",
    "version": 3
   },
   "file_extension": ".py",
   "mimetype": "text/x-python",
   "name": "python",
   "nbconvert_exporter": "python",
   "pygments_lexer": "ipython3",
   "version": "3.7.6"
  }
 },
 "nbformat": 4,
 "nbformat_minor": 2
}
